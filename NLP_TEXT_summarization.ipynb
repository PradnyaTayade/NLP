{
  "nbformat": 4,
  "nbformat_minor": 0,
  "metadata": {
    "colab": {
      "provenance": [],
      "collapsed_sections": [],
      "authorship_tag": "ABX9TyNSq8BEYlks63jpu6ZlFubE",
      "include_colab_link": true
    },
    "kernelspec": {
      "name": "python3",
      "display_name": "Python 3"
    },
    "language_info": {
      "name": "python"
    }
  },
  "cells": [
    {
      "cell_type": "markdown",
      "metadata": {
        "id": "view-in-github",
        "colab_type": "text"
      },
      "source": [
        "<a href=\"https://colab.research.google.com/github/PradnyaTayade/NLP/blob/main/NLP_TEXT_summarization.ipynb\" target=\"_parent\"><img src=\"https://colab.research.google.com/assets/colab-badge.svg\" alt=\"Open In Colab\"/></a>"
      ]
    },
    {
      "cell_type": "code",
      "source": [
        "import nltk\n",
        "nltk.download('punkt')\n",
        "from nltk.corpus import stopwords\n",
        "from nltk.tokenize import word_tokenize, sent_tokenize"
      ],
      "metadata": {
        "colab": {
          "base_uri": "https://localhost:8080/"
        },
        "id": "UGKf_XUi0Ra2",
        "outputId": "14b06149-34d6-4251-ff2c-d8737e12f763"
      },
      "execution_count": 25,
      "outputs": [
        {
          "output_type": "stream",
          "name": "stderr",
          "text": [
            "[nltk_data] Downloading package punkt to /root/nltk_data...\n",
            "[nltk_data]   Package punkt is already up-to-date!\n"
          ]
        }
      ]
    },
    {
      "cell_type": "code",
      "source": [
        "text=\"\"\"Artificial intelligence (AI) is intelligence \n",
        "demonstrated by machines, as opposed to the natural intelligence\n",
        " displayed by animals and humans. AI research has been defined as\n",
        "  the field of study of intelligent agents, which refers to any system\n",
        "   that perceives its environment and takes actions that maximize its \n",
        "   chance of achieving its goals.[a] The term \"artificial intelligence\" had\n",
        "    previously been used to describe machines that mimic and display \"human\"\n",
        "     cognitive skills that are associated with the human mind, such as\n",
        "      \"learning\" and \"problem-solving\". This definition has since been\n",
        "       rejected by major AI researchers who now describe AI in terms \n",
        "       of rationality and acting rationally, which does not limit how \n",
        "       intelligence can be articulated.[b]\n",
        "Artificial intelligence was founded as an academic\n",
        " discipline in 1956, and in the years since has experienced several\n",
        "  waves of optimism,[6][7] followed by disappointment and the loss \n",
        "  of funding (known as an \"AI winter\"), followed by new approaches,\n",
        "   success and renewed funding. AI research has tried and discarded\n",
        "    many different approaches since its founding, including simulating the \n",
        "    brain, modeling human problem solving, formal logic, large databases \n",
        "    of knowledge and imitating animal behavior. In the first decades of the \n",
        "    21st century, highly mathematical-statistical machine learning has \n",
        "    dominated the field, and this technique has proved highly\n",
        "     successful, helping to solve many challenging problems \n",
        "     throughout industry and academia.\"\"\""
      ],
      "metadata": {
        "id": "zUarf-Qx4mMk"
      },
      "execution_count": 26,
      "outputs": []
    },
    {
      "cell_type": "code",
      "source": [
        "stopwords= set(stopwords.words(\"english\"))\n",
        "words= word_tokenize(text)"
      ],
      "metadata": {
        "id": "2hBCtGB44zmO"
      },
      "execution_count": 27,
      "outputs": []
    },
    {
      "cell_type": "code",
      "source": [
        "freqTable= dict()\n",
        "for word in words:\n",
        "  word =word.lower()\n",
        "  if word in stopwords:\n",
        "    continue\n",
        "  if word in freqTable:\n",
        "    freqTable[word]+=1\n",
        "  else:\n",
        "    freqTable[word]=1"
      ],
      "metadata": {
        "id": "ilQzdkyE5DvZ"
      },
      "execution_count": 28,
      "outputs": []
    },
    {
      "cell_type": "code",
      "source": [
        "sentences= sent_tokenize(text)\n",
        "sentenceValue=dict()"
      ],
      "metadata": {
        "id": "S7xVz4P77kxd"
      },
      "execution_count": 29,
      "outputs": []
    },
    {
      "cell_type": "code",
      "source": [
        "for sentence in sentences:\n",
        "  for word, freq in freqTable.items():\n",
        "    if word in sentence.lower():\n",
        "      if sentence in sentenceValue:\n",
        "        sentenceValue[sentence]+= freq\n",
        "      else:\n",
        "        sentenceValue[sentence]= freq\n",
        "\n",
        "\n"
      ],
      "metadata": {
        "id": "pWf1idR973G0"
      },
      "execution_count": 30,
      "outputs": []
    },
    {
      "cell_type": "code",
      "source": [
        "sumValues = 0\n",
        "for sentence in sentenceValue:\n",
        "  sumValues+=sentenceValue[sentence]"
      ],
      "metadata": {
        "id": "q4LQ3MB48xb0"
      },
      "execution_count": 31,
      "outputs": []
    },
    {
      "cell_type": "code",
      "source": [
        "average= int(sumValues/len(sentenceValue))\n",
        "print(average)"
      ],
      "metadata": {
        "colab": {
          "base_uri": "https://localhost:8080/"
        },
        "id": "G-sJXay39SdT",
        "outputId": "17cea879-55b0-4434-9421-5215251df6fb"
      },
      "execution_count": 32,
      "outputs": [
        {
          "output_type": "stream",
          "name": "stdout",
          "text": [
            "59\n"
          ]
        }
      ]
    },
    {
      "cell_type": "code",
      "source": [
        "summary=''\n",
        "for sentence in sentences:\n",
        "  if(sentence in sentenceValue) and (sentenceValue[sentence]>(1.2*average)):\n",
        "    summary+=\" \"+sentence\n",
        "print(summary)"
      ],
      "metadata": {
        "colab": {
          "base_uri": "https://localhost:8080/"
        },
        "id": "JoqDLFyZ9ZTN",
        "outputId": "7d365958-2525-4775-f7be-47f9a6764d53"
      },
      "execution_count": 33,
      "outputs": [
        {
          "output_type": "stream",
          "name": "stdout",
          "text": [
            " [a] The term \"artificial intelligence\" had\n",
            "    previously been used to describe machines that mimic and display \"human\"\n",
            "     cognitive skills that are associated with the human mind, such as\n",
            "      \"learning\" and \"problem-solving\". [b]\n",
            "Artificial intelligence was founded as an academic\n",
            " discipline in 1956, and in the years since has experienced several\n",
            "  waves of optimism,[6][7] followed by disappointment and the loss \n",
            "  of funding (known as an \"AI winter\"),[8][9] followed by new approaches,\n",
            "   success and renewed funding. [7][10] AI research has tried and discarded\n",
            "    many different approaches since its founding, including simulating the \n",
            "    brain, modeling human problem solving, formal logic, large databases \n",
            "    of knowledge and imitating animal behavior.\n"
          ]
        }
      ]
    },
    {
      "cell_type": "code",
      "source": [],
      "metadata": {
        "id": "h_z-MNBO9-s6"
      },
      "execution_count": 33,
      "outputs": []
    }
  ]
}