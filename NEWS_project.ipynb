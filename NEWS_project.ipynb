{
  "cells": [
    {
      "cell_type": "markdown",
      "metadata": {
        "id": "view-in-github",
        "colab_type": "text"
      },
      "source": [
        "<a href=\"https://colab.research.google.com/github/PradnyaTayade/NLP/blob/main/NEWS_project.ipynb\" target=\"_parent\"><img src=\"https://colab.research.google.com/assets/colab-badge.svg\" alt=\"Open In Colab\"/></a>"
      ]
    },
    {
      "cell_type": "code",
      "execution_count": null,
      "metadata": {
        "colab": {
          "base_uri": "https://localhost:8080/"
        },
        "id": "qeJ94YjWVdOz",
        "outputId": "5c1c4b4d-69c3-4fbc-8876-34638886e055"
      },
      "outputs": [
        {
          "name": "stdout",
          "output_type": "stream",
          "text": [
            "Looking in indexes: https://pypi.org/simple, https://us-python.pkg.dev/colab-wheels/public/simple/\n",
            "Requirement already satisfied: langdetect in /usr/local/lib/python3.7/dist-packages (1.0.9)\n",
            "Requirement already satisfied: six in /usr/local/lib/python3.7/dist-packages (from langdetect) (1.15.0)\n"
          ]
        }
      ],
      "source": [
        "!pip install langdetect"
      ]
    },
    {
      "cell_type": "code",
      "execution_count": null,
      "metadata": {
        "id": "gstSMMXGWBtz"
      },
      "outputs": [],
      "source": [
        "## for data\n",
        "import pandas as pd\n",
        "#Collections are used to store, retrieve, manipulate, and communicate aggregate data.\n",
        "import collections\n",
        "#JSON is often used to transport and parse big files and Very easy to read, write and manipulate​\n",
        "import json\n",
        "## for plotting\n",
        "import matplotlib.pyplot as plt\n",
        "import seaborn as sns\n",
        "#it is a data visualization technique used for representing text data in which the size of each word indicates its frequency or importance.​\n",
        "import wordcloud\n",
        "# for text processing\n",
        "# can be used to work with Regular Expressions for text preprocessing.​\n",
        "import re\n",
        "import nltk\n",
        "## for language detection\n",
        "import langdetect\n",
        "## for sentiment\n",
        "from textblob import TextBlob\n",
        "## for name entity recognition\n",
        "import spacy\n",
        "## for vectorizer\n",
        "from sklearn import feature_extraction, manifold\n",
        "## for word embedding\n",
        "import gensim.downloader as gensim_api\n",
        "## for topic modeling\n",
        "import gensim"
      ]
    },
    {
      "cell_type": "code",
      "execution_count": null,
      "metadata": {
        "colab": {
          "base_uri": "https://localhost:8080/"
        },
        "id": "J4tXnx0sW7Jx",
        "outputId": "12cf32a3-f89e-4671-fd4f-f4e187301314"
      },
      "outputs": [
        {
          "name": "stdout",
          "output_type": "stream",
          "text": [
            "[{'link': 'https://www.huffpost.com/entry/covid-boosters-uptake-us_n_632d719ee4b087fae6feaac9', 'headline': 'Over 4 Million Americans Roll Up Sleeves For Omicron-Targeted COVID Boosters', 'category': 'U.S. NEWS', 'short_description': 'Health experts said it is too early to predict whether demand would match up with the 171 million doses of the new boosters the U.S. ordered for the fall.', 'authors': 'Carla K. Johnson, AP', 'date': '2022-09-23'}, {'link': 'https://www.huffpost.com/entry/american-airlines-passenger-banned-flight-attendant-punch-justice-department_n_632e25d3e4b0e247890329fe', 'headline': 'American Airlines Flyer Charged, Banned For Life After Punching Flight Attendant On Video', 'category': 'U.S. NEWS', 'short_description': \"He was subdued by passengers and crew when he fled to the back of the aircraft after the confrontation, according to the U.S. attorney's office in Los Angeles.\", 'authors': 'Mary Papenfuss', 'date': '2022-09-23'}, {'link': 'https://www.huffpost.com/entry/funniest-tweets-cats-dogs-september-17-23_n_632de332e4b0695c1d81dc02', 'headline': '23 Of The Funniest Tweets About Cats And Dogs This Week (Sept. 17-23)', 'category': 'COMEDY', 'short_description': '\"Until you have a dog you don\\'t understand what could be eaten.\"', 'authors': 'Elyse Wanshel', 'date': '2022-09-23'}, {'link': 'https://www.huffpost.com/entry/funniest-parenting-tweets_l_632d7d15e4b0d12b5403e479', 'headline': 'The Funniest Tweets From Parents This Week (Sept. 17-23)', 'category': 'PARENTING', 'short_description': '\"Accidentally put grown-up toothpaste on my toddler’s toothbrush and he screamed like I was cleaning his teeth with a Carolina Reaper dipped in Tabasco sauce.\"', 'authors': 'Caroline Bologna', 'date': '2022-09-23'}, {'link': 'https://www.huffpost.com/entry/amy-cooper-loses-discrimination-lawsuit-franklin-templeton_n_632c6463e4b09d8701bd227e', 'headline': 'Woman Who Called Cops On Black Bird-Watcher Loses Lawsuit Against Ex-Employer', 'category': 'U.S. NEWS', 'short_description': 'Amy Cooper accused investment firm Franklin Templeton of unfairly firing her and branding her a racist after video of the Central Park encounter went viral.', 'authors': 'Nina Golgowski', 'date': '2022-09-22'}]\n"
          ]
        }
      ],
      "source": [
        "lst_dics = []\n",
        "with open('data.json', mode='r', errors='ignore') as json_file:\n",
        "    for dic in json_file:\n",
        "        lst_dics.append(json.loads(dic))\n",
        "## print the first one      \n",
        "print(lst_dics[:5])"
      ]
    },
    {
      "cell_type": "code",
      "execution_count": null,
      "metadata": {
        "colab": {
          "base_uri": "https://localhost:8080/",
          "height": 206
        },
        "id": "srFc_ItChOGo",
        "outputId": "e547bce7-0105-4461-d40c-d19d6aded2c3"
      },
      "outputs": [
        {
          "data": {
            "text/html": [
              "\n",
              "  <div id=\"df-127d5ea8-5473-4eb7-b094-b325d12dd7af\">\n",
              "    <div class=\"colab-df-container\">\n",
              "      <div>\n",
              "<style scoped>\n",
              "    .dataframe tbody tr th:only-of-type {\n",
              "        vertical-align: middle;\n",
              "    }\n",
              "\n",
              "    .dataframe tbody tr th {\n",
              "        vertical-align: top;\n",
              "    }\n",
              "\n",
              "    .dataframe thead th {\n",
              "        text-align: right;\n",
              "    }\n",
              "</style>\n",
              "<table border=\"1\" class=\"dataframe\">\n",
              "  <thead>\n",
              "    <tr style=\"text-align: right;\">\n",
              "      <th></th>\n",
              "      <th>y</th>\n",
              "      <th>text</th>\n",
              "    </tr>\n",
              "  </thead>\n",
              "  <tbody>\n",
              "    <tr>\n",
              "      <th>53842</th>\n",
              "      <td>POLITICS</td>\n",
              "      <td>David Duke Fundraising Letter Urges Louisianan...</td>\n",
              "    </tr>\n",
              "    <tr>\n",
              "      <th>9682</th>\n",
              "      <td>POLITICS</td>\n",
              "      <td>House Dems Reportedly Plan To Release Thousand...</td>\n",
              "    </tr>\n",
              "    <tr>\n",
              "      <th>39932</th>\n",
              "      <td>ENTERTAINMENT</td>\n",
              "      <td>Anti-LGBTQ Malaysian Censors Bend Slightly To ...</td>\n",
              "    </tr>\n",
              "    <tr>\n",
              "      <th>107566</th>\n",
              "      <td>POLITICS</td>\n",
              "      <td>The Dream Of Dogs Riding On Amtrak Is Tantaliz...</td>\n",
              "    </tr>\n",
              "    <tr>\n",
              "      <th>36254</th>\n",
              "      <td>POLITICS</td>\n",
              "      <td>Insensitive Washington Times Columnist Puts Hi...</td>\n",
              "    </tr>\n",
              "  </tbody>\n",
              "</table>\n",
              "</div>\n",
              "      <button class=\"colab-df-convert\" onclick=\"convertToInteractive('df-127d5ea8-5473-4eb7-b094-b325d12dd7af')\"\n",
              "              title=\"Convert this dataframe to an interactive table.\"\n",
              "              style=\"display:none;\">\n",
              "        \n",
              "  <svg xmlns=\"http://www.w3.org/2000/svg\" height=\"24px\"viewBox=\"0 0 24 24\"\n",
              "       width=\"24px\">\n",
              "    <path d=\"M0 0h24v24H0V0z\" fill=\"none\"/>\n",
              "    <path d=\"M18.56 5.44l.94 2.06.94-2.06 2.06-.94-2.06-.94-.94-2.06-.94 2.06-2.06.94zm-11 1L8.5 8.5l.94-2.06 2.06-.94-2.06-.94L8.5 2.5l-.94 2.06-2.06.94zm10 10l.94 2.06.94-2.06 2.06-.94-2.06-.94-.94-2.06-.94 2.06-2.06.94z\"/><path d=\"M17.41 7.96l-1.37-1.37c-.4-.4-.92-.59-1.43-.59-.52 0-1.04.2-1.43.59L10.3 9.45l-7.72 7.72c-.78.78-.78 2.05 0 2.83L4 21.41c.39.39.9.59 1.41.59.51 0 1.02-.2 1.41-.59l7.78-7.78 2.81-2.81c.8-.78.8-2.07 0-2.86zM5.41 20L4 18.59l7.72-7.72 1.47 1.35L5.41 20z\"/>\n",
              "  </svg>\n",
              "      </button>\n",
              "      \n",
              "  <style>\n",
              "    .colab-df-container {\n",
              "      display:flex;\n",
              "      flex-wrap:wrap;\n",
              "      gap: 12px;\n",
              "    }\n",
              "\n",
              "    .colab-df-convert {\n",
              "      background-color: #E8F0FE;\n",
              "      border: none;\n",
              "      border-radius: 50%;\n",
              "      cursor: pointer;\n",
              "      display: none;\n",
              "      fill: #1967D2;\n",
              "      height: 32px;\n",
              "      padding: 0 0 0 0;\n",
              "      width: 32px;\n",
              "    }\n",
              "\n",
              "    .colab-df-convert:hover {\n",
              "      background-color: #E2EBFA;\n",
              "      box-shadow: 0px 1px 2px rgba(60, 64, 67, 0.3), 0px 1px 3px 1px rgba(60, 64, 67, 0.15);\n",
              "      fill: #174EA6;\n",
              "    }\n",
              "\n",
              "    [theme=dark] .colab-df-convert {\n",
              "      background-color: #3B4455;\n",
              "      fill: #D2E3FC;\n",
              "    }\n",
              "\n",
              "    [theme=dark] .colab-df-convert:hover {\n",
              "      background-color: #434B5C;\n",
              "      box-shadow: 0px 1px 3px 1px rgba(0, 0, 0, 0.15);\n",
              "      filter: drop-shadow(0px 1px 2px rgba(0, 0, 0, 0.3));\n",
              "      fill: #FFFFFF;\n",
              "    }\n",
              "  </style>\n",
              "\n",
              "      <script>\n",
              "        const buttonEl =\n",
              "          document.querySelector('#df-127d5ea8-5473-4eb7-b094-b325d12dd7af button.colab-df-convert');\n",
              "        buttonEl.style.display =\n",
              "          google.colab.kernel.accessAllowed ? 'block' : 'none';\n",
              "\n",
              "        async function convertToInteractive(key) {\n",
              "          const element = document.querySelector('#df-127d5ea8-5473-4eb7-b094-b325d12dd7af');\n",
              "          const dataTable =\n",
              "            await google.colab.kernel.invokeFunction('convertToInteractive',\n",
              "                                                     [key], {});\n",
              "          if (!dataTable) return;\n",
              "\n",
              "          const docLinkHtml = 'Like what you see? Visit the ' +\n",
              "            '<a target=\"_blank\" href=https://colab.research.google.com/notebooks/data_table.ipynb>data table notebook</a>'\n",
              "            + ' to learn more about interactive tables.';\n",
              "          element.innerHTML = '';\n",
              "          dataTable['output_type'] = 'display_data';\n",
              "          await google.colab.output.renderOutput(dataTable, element);\n",
              "          const docLink = document.createElement('div');\n",
              "          docLink.innerHTML = docLinkHtml;\n",
              "          element.appendChild(docLink);\n",
              "        }\n",
              "      </script>\n",
              "    </div>\n",
              "  </div>\n",
              "  "
            ],
            "text/plain": [
              "                    y                                               text\n",
              "53842        POLITICS  David Duke Fundraising Letter Urges Louisianan...\n",
              "9682         POLITICS  House Dems Reportedly Plan To Release Thousand...\n",
              "39932   ENTERTAINMENT  Anti-LGBTQ Malaysian Censors Bend Slightly To ...\n",
              "107566       POLITICS  The Dream Of Dogs Riding On Amtrak Is Tantaliz...\n",
              "36254        POLITICS  Insensitive Washington Times Columnist Puts Hi..."
            ]
          },
          "execution_count": 56,
          "metadata": {},
          "output_type": "execute_result"
        }
      ],
      "source": [
        "## create dtf\n",
        "dtf = pd.DataFrame(lst_dics)\n",
        "## filter categories\n",
        "dtf = dtf[ dtf[\"category\"].isin(['ENTERTAINMENT','POLITICS','TECH']) ][[\"category\",\"headline\"]]\n",
        "## rename columns\n",
        "dtf = dtf.rename(columns={\"category\":\"y\", \"headline\":\"text\"})\n",
        "## print 5 random rows\n",
        "dtf.sample(5)"
      ]
    },
    {
      "cell_type": "code",
      "execution_count": null,
      "metadata": {
        "colab": {
          "base_uri": "https://localhost:8080/"
        },
        "id": "z_puXburvG5J",
        "outputId": "2405dd19-8007-454a-a3a4-46c3d72bf445"
      },
      "outputs": [
        {
          "data": {
            "text/plain": [
              "(55068, 2)"
            ]
          },
          "execution_count": 57,
          "metadata": {},
          "output_type": "execute_result"
        }
      ],
      "source": [
        "dtf.shape"
      ]
    },
    {
      "cell_type": "code",
      "execution_count": null,
      "metadata": {
        "colab": {
          "base_uri": "https://localhost:8080/",
          "height": 294
        },
        "id": "nTIS4m7yhTFu",
        "outputId": "6a54d45c-2f51-40d1-eb3b-910814356c83"
      },
      "outputs": [
        {
          "data": {
            "image/png": "[encoded data removed]",
            "text/plain": [
              "<Figure size 432x288 with 1 Axes>"
            ]
          },
          "metadata": {},
          "output_type": "display_data"
        }
      ],
      "source": [
        "x = \"y\"\n",
        "fig, ax = plt.subplots()\n",
        "fig.suptitle(x, fontsize=12)\n",
        "dtf[x].reset_index().groupby(x).count().sort_values(by= \n",
        "       \"index\").plot(kind=\"barh\", legend=False, \n",
        "        ax=ax).grid(axis='x')\n",
        "plt.show()"
      ]
    },
    {
      "cell_type": "code",
      "execution_count": null,
      "metadata": {
        "colab": {
          "base_uri": "https://localhost:8080/"
        },
        "id": "V3gjnLROhV_R",
        "outputId": "30ed8ba6-a0aa-481e-ba89-34dae977301f"
      },
      "outputs": [
        {
          "name": "stdout",
          "output_type": "stream",
          "text": [
            "Twitch Bans Gambling Sites After Streamer Scams Folks Out Of $200,000  -->  en\n"
          ]
        }
      ],
      "source": [
        "txt = dtf[\"text\"].iloc[0]\n",
        "print(txt, \" --> \", langdetect.detect(txt))"
      ]
    },
    {
      "cell_type": "code",
      "execution_count": null,
      "metadata": {
        "id": "zAVsxfwahiPg"
      },
      "outputs": [],
      "source": [
        "dtf['lang'] = dtf[\"text\"].apply(lambda x: langdetect.detect(x) if \n",
        "                                 x.strip() != \"\" else \"\")\n",
        "dtf.head()"
      ]
    },
    {
      "cell_type": "code",
      "execution_count": null,
      "metadata": {
        "id": "DfJQwFi8z7ng"
      },
      "outputs": [],
      "source": [
        "x = \"lang\"\n",
        "fig, ax = plt.subplots()\n",
        "fig.suptitle(x, fontsize=12)\n",
        "dtf[x].reset_index().groupby(x).count().sort_values(by= \n",
        "       \"index\").plot(kind=\"barh\", legend=False, \n",
        "        ax=ax).grid(axis='x')\n",
        "plt.show()"
      ]
    },
    {
      "cell_type": "code",
      "execution_count": null,
      "metadata": {
        "id": "iYhFaCI8jMmd"
      },
      "outputs": [],
      "source": [
        "dtf = dtf[dtf[\"lang\"]==\"en\"]"
      ]
    },
    {
      "cell_type": "code",
      "execution_count": null,
      "metadata": {
        "id": "13OIPDOIkWyl"
      },
      "outputs": [],
      "source": [
        "print(\"--- original ---\")\n",
        "print(dtf[\"text\"].iloc[1])\n",
        "print(\"--- cleaning ---\")\n",
        "txt = re.sub(r'[^\\w\\s]', '', str(dtf[\"text\"].iloc[1]).lower().strip())\n",
        "print(txt)\n",
        "print(\"--- tokenization ---\")\n",
        "txt = txt.split()\n",
        "print(txt)"
      ]
    },
    {
      "cell_type": "code",
      "execution_count": null,
      "metadata": {
        "id": "7ywL2Oypkoo6"
      },
      "outputs": [],
      "source": [
        " nltk.download('stopwords')"
      ]
    },
    {
      "cell_type": "code",
      "execution_count": null,
      "metadata": {
        "id": "gWQlA6BQkb8F"
      },
      "outputs": [],
      "source": [
        "lst_stopwords = nltk.corpus.stopwords.words(\"english\")\n",
        "lst_stopwords"
      ]
    },
    {
      "cell_type": "code",
      "execution_count": null,
      "metadata": {
        "id": "GzFLOTESkta4"
      },
      "outputs": [],
      "source": [
        "print(\"--- remove stopwords ---\")\n",
        "txt = [word for word in txt if word not in lst_stopwords]\n",
        "print(txt)"
      ]
    },
    {
      "cell_type": "code",
      "execution_count": null,
      "metadata": {
        "id": "3dhiGpOA6f3T"
      },
      "outputs": [],
      "source": [
        "nltk.download('wordnet')\n",
        "nltk.download('omw-1.4')"
      ]
    },
    {
      "cell_type": "code",
      "execution_count": null,
      "metadata": {
        "id": "mztgrWZS0kKT"
      },
      "outputs": [],
      "source": [
        "print(\"--- stemming ---\")\n",
        "ps = nltk.stem.porter.PorterStemmer()\n",
        "print([ps.stem(word) for word in txt])\n",
        "print(\"--- lemmatisation ---\")\n",
        "lem = nltk.stem.wordnet.WordNetLemmatizer()\n",
        "print([lem.lemmatize(word) for word in txt])"
      ]
    },
    {
      "cell_type": "code",
      "execution_count": null,
      "metadata": {
        "id": "qNXC5UeL5HLh"
      },
      "outputs": [],
      "source": [
        "'''\n",
        "Preprocess a string.\n",
        ":parameter\n",
        "    :param text: string - name of column containing text\n",
        "    :param lst_stopwords: list - list of stopwords to remove\n",
        "    :param flg_stemm: bool - whether stemming is to be applied\n",
        "    :param flg_lemm: bool - whether lemmitisation is to be applied\n",
        ":return\n",
        "    cleaned text\n",
        "'''\n",
        "def utils_preprocess_text(text, lst_stopwords=None, flg_stemm=False, flg_lemm=True):\n",
        "    ## clean (convert to lowercase and remove punctuations and characters and then strip)\n",
        "    text = re.sub(r'[^\\w\\s]', '', str(text).lower().strip())\n",
        "            \n",
        "    ## Tokenize (convert from string to list)\n",
        "    lst_text = text.split()\n",
        "    ## remove Stopwords\n",
        "    if lst_stopwords is not None:\n",
        "        lst_text = [word for word in lst_text if word not in \n",
        "                    lst_stopwords]\n",
        "                \n",
        "    ## Stemming (remove -ing, -ly, ...)\n",
        "    if flg_stemm == True:\n",
        "        ps = nltk.stem.porter.PorterStemmer()\n",
        "        lst_text = [ps.stem(word) for word in lst_text]\n",
        "                \n",
        "    ## Lemmatisation (convert the word into root word)\n",
        "    if flg_lemm == True:\n",
        "        lem = nltk.stem.wordnet.WordNetLemmatizer()\n",
        "        lst_text = [lem.lemmatize(word) for word in lst_text]\n",
        "            \n",
        "    ## back to string from list\n",
        "    text = \" \".join(lst_text)\n",
        "    return text"
      ]
    },
    {
      "cell_type": "code",
      "execution_count": null,
      "metadata": {
        "id": "CVqCdh8W5IeP"
      },
      "outputs": [],
      "source": [
        "dtf[\"text_clean\"] = dtf[\"text\"].apply(lambda x: utils_preprocess_text(x, lst_stopwords, flg_stemm=False, flg_lemm=True))"
      ]
    },
    {
      "cell_type": "code",
      "execution_count": null,
      "metadata": {
        "id": "L5P-EHWr5OCk"
      },
      "outputs": [],
      "source": [
        "dtf.head()"
      ]
    },
    {
      "cell_type": "code",
      "execution_count": null,
      "metadata": {
        "id": "bWboFJxe5RwZ"
      },
      "outputs": [],
      "source": [
        "print(dtf[\"text\"].iloc[0], \" --> \", dtf[\"text_clean\"].iloc[0])"
      ]
    },
    {
      "cell_type": "code",
      "execution_count": null,
      "metadata": {
        "id": "mf62JEBH5Vhz"
      },
      "outputs": [],
      "source": [
        "dtf['word_count'] = dtf[\"text\"].apply(lambda x: len(str(x).split(\" \")))\n",
        "dtf['char_count'] = dtf[\"text\"].apply(lambda x: sum(len(word) for word in str(x).split(\" \")))\n",
        "dtf['sentence_count'] = dtf[\"text\"].apply(lambda x: len(str(x).split(\".\")))\n",
        "dtf['avg_word_length'] = dtf['char_count'] / dtf['word_count']\n",
        "dtf['avg_sentence_lenght'] = dtf['word_count'] / dtf['sentence_count']\n",
        "dtf.head()"
      ]
    },
    {
      "cell_type": "code",
      "execution_count": null,
      "metadata": {
        "id": "WIxHCLgt5Y7I"
      },
      "outputs": [],
      "source": [
        "x, y = \"char_count\", \"y\"\n",
        "fig, ax = plt.subplots(nrows=1, ncols=2)\n",
        "fig.suptitle(x, fontsize=12)\n",
        "for i in dtf[y].unique():\n",
        "    sns.distplot(dtf[dtf[y]==i][x], hist=True, kde=False, \n",
        "                 bins=10, hist_kws={\"alpha\":0.8}, \n",
        "                 axlabel=\"histogram\", ax=ax[0])\n",
        "    sns.distplot(dtf[dtf[y]==i][x], hist=False, kde=True, \n",
        "                 kde_kws={\"shade\":True}, axlabel=\"density\",   \n",
        "                 ax=ax[1])\n",
        "ax[0].grid(True)\n",
        "ax[0].legend(dtf[y].unique())\n",
        "ax[1].grid(True)\n",
        "plt.show()"
      ]
    },
    {
      "cell_type": "code",
      "execution_count": null,
      "metadata": {
        "id": "ktZdaS2g5dH1"
      },
      "outputs": [],
      "source": [
        "dtf[\"sentiment\"] = dtf[\"text\"].apply(lambda x: \n",
        "                   TextBlob(x).sentiment.polarity)\n",
        "dtf.head()"
      ]
    },
    {
      "cell_type": "code",
      "execution_count": null,
      "metadata": {
        "id": "ZUWhQ1If5f8r"
      },
      "outputs": [],
      "source": [
        "print(dtf[\"text\"].iloc[0], \" --> \", dtf[\"sentiment\"].iloc[0])"
      ]
    },
    {
      "cell_type": "code",
      "execution_count": null,
      "metadata": {
        "colab": {
          "background_save": true
        },
        "id": "oVTyC_Ty7YxC",
        "outputId": "94f4e4cd-0f01-4800-aa56-cc0a095239a0"
      },
      "outputs": [
        {
          "name": "stdout",
          "output_type": "stream",
          "text": [
            "Looking in indexes: https://pypi.org/simple, https://us-python.pkg.dev/colab-wheels/public/simple/\n",
            "Requirement already satisfied: Spacy in /usr/local/lib/python3.7/dist-packages (3.4.1)\n",
            "Requirement already satisfied: spacy-loggers<2.0.0,>=1.0.0 in /usr/local/lib/python3.7/dist-packages (from Spacy) (1.0.3)\n",
            "Requirement already satisfied: preshed<3.1.0,>=3.0.2 in /usr/local/lib/python3.7/dist-packages (from Spacy) (3.0.8)\n",
            "Requirement already satisfied: langcodes<4.0.0,>=3.2.0 in /usr/local/lib/python3.7/dist-packages (from Spacy) (3.3.0)\n",
            "Requirement already satisfied: jinja2 in /usr/local/lib/python3.7/dist-packages (from Spacy) (2.11.3)\n",
            "Requirement already satisfied: typer<0.5.0,>=0.3.0 in /usr/local/lib/python3.7/dist-packages (from Spacy) (0.4.2)\n",
            "Requirement already satisfied: pydantic!=1.8,!=1.8.1,<1.10.0,>=1.7.4 in /usr/local/lib/python3.7/dist-packages (from Spacy) (1.9.2)\n",
            "Requirement already satisfied: murmurhash<1.1.0,>=0.28.0 in /usr/local/lib/python3.7/dist-packages (from Spacy) (1.0.9)\n",
            "Requirement already satisfied: thinc<8.2.0,>=8.1.0 in /usr/local/lib/python3.7/dist-packages (from Spacy) (8.1.4)\n",
            "Requirement already satisfied: spacy-legacy<3.1.0,>=3.0.9 in /usr/local/lib/python3.7/dist-packages (from Spacy) (3.0.10)\n",
            "Requirement already satisfied: wasabi<1.1.0,>=0.9.1 in /usr/local/lib/python3.7/dist-packages (from Spacy) (0.10.1)\n",
            "Requirement already satisfied: catalogue<2.1.0,>=2.0.6 in /usr/local/lib/python3.7/dist-packages (from Spacy) (2.0.8)\n",
            "Requirement already satisfied: setuptools in /usr/local/lib/python3.7/dist-packages (from Spacy) (57.4.0)\n",
            "Requirement already satisfied: tqdm<5.0.0,>=4.38.0 in /usr/local/lib/python3.7/dist-packages (from Spacy) (4.64.1)\n",
            "Requirement already satisfied: requests<3.0.0,>=2.13.0 in /usr/local/lib/python3.7/dist-packages (from Spacy) (2.23.0)\n",
            "Requirement already satisfied: pathy>=0.3.5 in /usr/local/lib/python3.7/dist-packages (from Spacy) (0.6.2)\n",
            "Requirement already satisfied: cymem<2.1.0,>=2.0.2 in /usr/local/lib/python3.7/dist-packages (from Spacy) (2.0.7)\n",
            "Requirement already satisfied: numpy>=1.15.0 in /usr/local/lib/python3.7/dist-packages (from Spacy) (1.21.6)\n",
            "Requirement already satisfied: typing-extensions<4.2.0,>=3.7.4 in /usr/local/lib/python3.7/dist-packages (from Spacy) (4.1.1)\n",
            "Requirement already satisfied: packaging>=20.0 in /usr/local/lib/python3.7/dist-packages (from Spacy) (21.3)\n",
            "Requirement already satisfied: srsly<3.0.0,>=2.4.3 in /usr/local/lib/python3.7/dist-packages (from Spacy) (2.4.4)\n",
            "Requirement already satisfied: zipp>=0.5 in /usr/local/lib/python3.7/dist-packages (from catalogue<2.1.0,>=2.0.6->Spacy) (3.9.0)\n",
            "Requirement already satisfied: pyparsing!=3.0.5,>=2.0.2 in /usr/local/lib/python3.7/dist-packages (from packaging>=20.0->Spacy) (3.0.9)\n",
            "Requirement already satisfied: smart-open<6.0.0,>=5.2.1 in /usr/local/lib/python3.7/dist-packages (from pathy>=0.3.5->Spacy) (5.2.1)\n",
            "Requirement already satisfied: certifi>=2017.4.17 in /usr/local/lib/python3.7/dist-packages (from requests<3.0.0,>=2.13.0->Spacy) (2022.9.24)\n",
            "Requirement already satisfied: urllib3!=1.25.0,!=1.25.1,<1.26,>=1.21.1 in /usr/local/lib/python3.7/dist-packages (from requests<3.0.0,>=2.13.0->Spacy) (1.24.3)\n",
            "Requirement already satisfied: chardet<4,>=3.0.2 in /usr/local/lib/python3.7/dist-packages (from requests<3.0.0,>=2.13.0->Spacy) (3.0.4)\n",
            "Requirement already satisfied: idna<3,>=2.5 in /usr/local/lib/python3.7/dist-packages (from requests<3.0.0,>=2.13.0->Spacy) (2.10)\n",
            "Requirement already satisfied: confection<1.0.0,>=0.0.1 in /usr/local/lib/python3.7/dist-packages (from thinc<8.2.0,>=8.1.0->Spacy) (0.0.3)\n",
            "Requirement already satisfied: blis<0.8.0,>=0.7.8 in /usr/local/lib/python3.7/dist-packages (from thinc<8.2.0,>=8.1.0->Spacy) (0.7.8)\n",
            "Requirement already satisfied: click<9.0.0,>=7.1.1 in /usr/local/lib/python3.7/dist-packages (from typer<0.5.0,>=0.3.0->Spacy) (7.1.2)\n",
            "Requirement already satisfied: MarkupSafe>=0.23 in /usr/local/lib/python3.7/dist-packages (from jinja2->Spacy) (2.0.1)\n"
          ]
        }
      ],
      "source": [
        "pip install Spacy"
      ]
    },
    {
      "cell_type": "code",
      "execution_count": null,
      "metadata": {
        "id": "2cjPofyp-twr"
      },
      "outputs": [],
      "source": [
        "import spacy.cli\n",
        "spacy.cli.download(\"en_core_web_lg\")"
      ]
    },
    {
      "cell_type": "code",
      "execution_count": null,
      "metadata": {
        "id": "frfrO31v5isk"
      },
      "outputs": [],
      "source": [
        "## call model\n",
        "import spacy\n",
        "ner = spacy.load(\"en_core_web_lg\")\n",
        "## tag text\n",
        "txt = dtf[\"text\"].iloc[0]\n",
        "doc = ner(txt)\n",
        "## display result\n",
        "spacy.displacy.render(doc, style=\"ent\")"
      ]
    },
    {
      "cell_type": "code",
      "execution_count": null,
      "metadata": {
        "colab": {
          "background_save": true
        },
        "id": "TCVHdFg45mGf",
        "outputId": "6d13a190-9f9b-4d1b-c158-5fe7257e78dc"
      },
      "outputs": [
        {
          "data": {
            "text/html": [
              "\n",
              "  <div id=\"df-4a191fc4-5b9f-44a7-9150-9ed118cd38ed\">\n",
              "    <div class=\"colab-df-container\">\n",
              "      <div>\n",
              "<style scoped>\n",
              "    .dataframe tbody tr th:only-of-type {\n",
              "        vertical-align: middle;\n",
              "    }\n",
              "\n",
              "    .dataframe tbody tr th {\n",
              "        vertical-align: top;\n",
              "    }\n",
              "\n",
              "    .dataframe thead th {\n",
              "        text-align: right;\n",
              "    }\n",
              "</style>\n",
              "<table border=\"1\" class=\"dataframe\">\n",
              "  <thead>\n",
              "    <tr style=\"text-align: right;\">\n",
              "      <th></th>\n",
              "      <th>y</th>\n",
              "      <th>text</th>\n",
              "      <th>lang</th>\n",
              "      <th>text_clean</th>\n",
              "      <th>word_count</th>\n",
              "      <th>char_count</th>\n",
              "      <th>sentence_count</th>\n",
              "      <th>avg_word_length</th>\n",
              "      <th>avg_sentence_lenght</th>\n",
              "      <th>sentiment</th>\n",
              "      <th>...</th>\n",
              "      <th>tags_LAW</th>\n",
              "      <th>tags_TIME</th>\n",
              "      <th>tags_PERSON</th>\n",
              "      <th>tags_PRODUCT</th>\n",
              "      <th>tags_FAC</th>\n",
              "      <th>tags_LANGUAGE</th>\n",
              "      <th>tags_ORDINAL</th>\n",
              "      <th>tags_NORP</th>\n",
              "      <th>tags_QUANTITY</th>\n",
              "      <th>tags_GPE</th>\n",
              "    </tr>\n",
              "  </thead>\n",
              "  <tbody>\n",
              "    <tr>\n",
              "      <th>13</th>\n",
              "      <td>TECH</td>\n",
              "      <td>Twitch Bans Gambling Sites After Streamer Scam...</td>\n",
              "      <td>en</td>\n",
              "      <td>twitch ban gambling site streamer scam folk 20...</td>\n",
              "      <td>11</td>\n",
              "      <td>59</td>\n",
              "      <td>1</td>\n",
              "      <td>5.363636</td>\n",
              "      <td>11.000000</td>\n",
              "      <td>0.0000</td>\n",
              "      <td>...</td>\n",
              "      <td>0</td>\n",
              "      <td>0</td>\n",
              "      <td>0</td>\n",
              "      <td>0</td>\n",
              "      <td>0</td>\n",
              "      <td>0</td>\n",
              "      <td>0</td>\n",
              "      <td>0</td>\n",
              "      <td>0</td>\n",
              "      <td>0</td>\n",
              "    </tr>\n",
              "    <tr>\n",
              "      <th>20</th>\n",
              "      <td>ENTERTAINMENT</td>\n",
              "      <td>Golden Globes Returning To NBC In January Afte...</td>\n",
              "      <td>en</td>\n",
              "      <td>golden globe returning nbc january year offair</td>\n",
              "      <td>10</td>\n",
              "      <td>51</td>\n",
              "      <td>1</td>\n",
              "      <td>5.100000</td>\n",
              "      <td>10.000000</td>\n",
              "      <td>0.3000</td>\n",
              "      <td>...</td>\n",
              "      <td>0</td>\n",
              "      <td>0</td>\n",
              "      <td>0</td>\n",
              "      <td>0</td>\n",
              "      <td>0</td>\n",
              "      <td>0</td>\n",
              "      <td>0</td>\n",
              "      <td>0</td>\n",
              "      <td>0</td>\n",
              "      <td>0</td>\n",
              "    </tr>\n",
              "    <tr>\n",
              "      <th>21</th>\n",
              "      <td>POLITICS</td>\n",
              "      <td>Biden Says U.S. Forces Would Defend Taiwan If ...</td>\n",
              "      <td>en</td>\n",
              "      <td>biden say u force would defend taiwan china in...</td>\n",
              "      <td>10</td>\n",
              "      <td>50</td>\n",
              "      <td>3</td>\n",
              "      <td>5.000000</td>\n",
              "      <td>3.333333</td>\n",
              "      <td>0.0000</td>\n",
              "      <td>...</td>\n",
              "      <td>0</td>\n",
              "      <td>0</td>\n",
              "      <td>1</td>\n",
              "      <td>0</td>\n",
              "      <td>0</td>\n",
              "      <td>0</td>\n",
              "      <td>0</td>\n",
              "      <td>0</td>\n",
              "      <td>0</td>\n",
              "      <td>2</td>\n",
              "    </tr>\n",
              "    <tr>\n",
              "      <th>24</th>\n",
              "      <td>POLITICS</td>\n",
              "      <td>‘Beautiful And Sad At The Same Time’: Ukrainia...</td>\n",
              "      <td>en</td>\n",
              "      <td>beautiful sad time ukrainian cultural festival...</td>\n",
              "      <td>17</td>\n",
              "      <td>85</td>\n",
              "      <td>1</td>\n",
              "      <td>5.000000</td>\n",
              "      <td>17.000000</td>\n",
              "      <td>0.1125</td>\n",
              "      <td>...</td>\n",
              "      <td>0</td>\n",
              "      <td>0</td>\n",
              "      <td>0</td>\n",
              "      <td>0</td>\n",
              "      <td>0</td>\n",
              "      <td>0</td>\n",
              "      <td>0</td>\n",
              "      <td>1</td>\n",
              "      <td>0</td>\n",
              "      <td>0</td>\n",
              "    </tr>\n",
              "    <tr>\n",
              "      <th>28</th>\n",
              "      <td>ENTERTAINMENT</td>\n",
              "      <td>James Cameron Says He 'Clashed' With Studio Be...</td>\n",
              "      <td>en</td>\n",
              "      <td>james cameron say clashed studio avatar release</td>\n",
              "      <td>10</td>\n",
              "      <td>58</td>\n",
              "      <td>1</td>\n",
              "      <td>5.800000</td>\n",
              "      <td>10.000000</td>\n",
              "      <td>0.0000</td>\n",
              "      <td>...</td>\n",
              "      <td>0</td>\n",
              "      <td>0</td>\n",
              "      <td>1</td>\n",
              "      <td>0</td>\n",
              "      <td>0</td>\n",
              "      <td>0</td>\n",
              "      <td>0</td>\n",
              "      <td>0</td>\n",
              "      <td>0</td>\n",
              "      <td>0</td>\n",
              "    </tr>\n",
              "  </tbody>\n",
              "</table>\n",
              "<p>5 rows × 29 columns</p>\n",
              "</div>\n",
              "      <button class=\"colab-df-convert\" onclick=\"convertToInteractive('df-4a191fc4-5b9f-44a7-9150-9ed118cd38ed')\"\n",
              "              title=\"Convert this dataframe to an interactive table.\"\n",
              "              style=\"display:none;\">\n",
              "        \n",
              "  <svg xmlns=\"http://www.w3.org/2000/svg\" height=\"24px\"viewBox=\"0 0 24 24\"\n",
              "       width=\"24px\">\n",
              "    <path d=\"M0 0h24v24H0V0z\" fill=\"none\"/>\n",
              "    <path d=\"M18.56 5.44l.94 2.06.94-2.06 2.06-.94-2.06-.94-.94-2.06-.94 2.06-2.06.94zm-11 1L8.5 8.5l.94-2.06 2.06-.94-2.06-.94L8.5 2.5l-.94 2.06-2.06.94zm10 10l.94 2.06.94-2.06 2.06-.94-2.06-.94-.94-2.06-.94 2.06-2.06.94z\"/><path d=\"M17.41 7.96l-1.37-1.37c-.4-.4-.92-.59-1.43-.59-.52 0-1.04.2-1.43.59L10.3 9.45l-7.72 7.72c-.78.78-.78 2.05 0 2.83L4 21.41c.39.39.9.59 1.41.59.51 0 1.02-.2 1.41-.59l7.78-7.78 2.81-2.81c.8-.78.8-2.07 0-2.86zM5.41 20L4 18.59l7.72-7.72 1.47 1.35L5.41 20z\"/>\n",
              "  </svg>\n",
              "      </button>\n",
              "      \n",
              "  <style>\n",
              "    .colab-df-container {\n",
              "      display:flex;\n",
              "      flex-wrap:wrap;\n",
              "      gap: 12px;\n",
              "    }\n",
              "\n",
              "    .colab-df-convert {\n",
              "      background-color: #E8F0FE;\n",
              "      border: none;\n",
              "      border-radius: 50%;\n",
              "      cursor: pointer;\n",
              "      display: none;\n",
              "      fill: #1967D2;\n",
              "      height: 32px;\n",
              "      padding: 0 0 0 0;\n",
              "      width: 32px;\n",
              "    }\n",
              "\n",
              "    .colab-df-convert:hover {\n",
              "      background-color: #E2EBFA;\n",
              "      box-shadow: 0px 1px 2px rgba(60, 64, 67, 0.3), 0px 1px 3px 1px rgba(60, 64, 67, 0.15);\n",
              "      fill: #174EA6;\n",
              "    }\n",
              "\n",
              "    [theme=dark] .colab-df-convert {\n",
              "      background-color: #3B4455;\n",
              "      fill: #D2E3FC;\n",
              "    }\n",
              "\n",
              "    [theme=dark] .colab-df-convert:hover {\n",
              "      background-color: #434B5C;\n",
              "      box-shadow: 0px 1px 3px 1px rgba(0, 0, 0, 0.15);\n",
              "      filter: drop-shadow(0px 1px 2px rgba(0, 0, 0, 0.3));\n",
              "      fill: #FFFFFF;\n",
              "    }\n",
              "  </style>\n",
              "\n",
              "      <script>\n",
              "        const buttonEl =\n",
              "          document.querySelector('#df-4a191fc4-5b9f-44a7-9150-9ed118cd38ed button.colab-df-convert');\n",
              "        buttonEl.style.display =\n",
              "          google.colab.kernel.accessAllowed ? 'block' : 'none';\n",
              "\n",
              "        async function convertToInteractive(key) {\n",
              "          const element = document.querySelector('#df-4a191fc4-5b9f-44a7-9150-9ed118cd38ed');\n",
              "          const dataTable =\n",
              "            await google.colab.kernel.invokeFunction('convertToInteractive',\n",
              "                                                     [key], {});\n",
              "          if (!dataTable) return;\n",
              "\n",
              "          const docLinkHtml = 'Like what you see? Visit the ' +\n",
              "            '<a target=\"_blank\" href=https://colab.research.google.com/notebooks/data_table.ipynb>data table notebook</a>'\n",
              "            + ' to learn more about interactive tables.';\n",
              "          element.innerHTML = '';\n",
              "          dataTable['output_type'] = 'display_data';\n",
              "          await google.colab.output.renderOutput(dataTable, element);\n",
              "          const docLink = document.createElement('div');\n",
              "          docLink.innerHTML = docLinkHtml;\n",
              "          element.appendChild(docLink);\n",
              "        }\n",
              "      </script>\n",
              "    </div>\n",
              "  </div>\n",
              "  "
            ],
            "text/plain": [
              "                y                                               text lang  \\\n",
              "13           TECH  Twitch Bans Gambling Sites After Streamer Scam...   en   \n",
              "20  ENTERTAINMENT  Golden Globes Returning To NBC In January Afte...   en   \n",
              "21       POLITICS  Biden Says U.S. Forces Would Defend Taiwan If ...   en   \n",
              "24       POLITICS  ‘Beautiful And Sad At The Same Time’: Ukrainia...   en   \n",
              "28  ENTERTAINMENT  James Cameron Says He 'Clashed' With Studio Be...   en   \n",
              "\n",
              "                                           text_clean  word_count  char_count  \\\n",
              "13  twitch ban gambling site streamer scam folk 20...          11          59   \n",
              "20     golden globe returning nbc january year offair          10          51   \n",
              "21  biden say u force would defend taiwan china in...          10          50   \n",
              "24  beautiful sad time ukrainian cultural festival...          17          85   \n",
              "28    james cameron say clashed studio avatar release          10          58   \n",
              "\n",
              "    sentence_count  avg_word_length  avg_sentence_lenght  sentiment  ...  \\\n",
              "13               1         5.363636            11.000000     0.0000  ...   \n",
              "20               1         5.100000            10.000000     0.3000  ...   \n",
              "21               3         5.000000             3.333333     0.0000  ...   \n",
              "24               1         5.000000            17.000000     0.1125  ...   \n",
              "28               1         5.800000            10.000000     0.0000  ...   \n",
              "\n",
              "   tags_LAW  tags_TIME  tags_PERSON  tags_PRODUCT  tags_FAC  tags_LANGUAGE  \\\n",
              "13        0          0            0             0         0              0   \n",
              "20        0          0            0             0         0              0   \n",
              "21        0          0            1             0         0              0   \n",
              "24        0          0            0             0         0              0   \n",
              "28        0          0            1             0         0              0   \n",
              "\n",
              "    tags_ORDINAL  tags_NORP  tags_QUANTITY  tags_GPE  \n",
              "13             0          0              0         0  \n",
              "20             0          0              0         0  \n",
              "21             0          0              0         2  \n",
              "24             0          1              0         0  \n",
              "28             0          0              0         0  \n",
              "\n",
              "[5 rows x 29 columns]"
            ]
          },
          "execution_count": 80,
          "metadata": {},
          "output_type": "execute_result"
        }
      ],
      "source": [
        "## tag text and exctract tags into a list\n",
        "dtf[\"tags\"] = dtf[\"text\"].apply(lambda x: [(tag.text, tag.label_) \n",
        "                                for tag in ner(x).ents] )\n",
        "## utils function to count the element of a list\n",
        "def utils_lst_count(lst):\n",
        "    dic_counter = collections.Counter()\n",
        "    for x in lst:\n",
        "        dic_counter[x] += 1\n",
        "    dic_counter = collections.OrderedDict( \n",
        "                     sorted(dic_counter.items(), \n",
        "                     key=lambda x: x[1], reverse=True))\n",
        "    lst_count = [ {key:value} for key,value in dic_counter.items() ]\n",
        "    return lst_count\n",
        "\n",
        "## count tags\n",
        "dtf[\"tags\"] = dtf[\"tags\"].apply(lambda x: utils_lst_count(x))\n",
        "\n",
        "## utils function create new column for each tag category\n",
        "def utils_ner_features(lst_dics_tuples, tag):\n",
        "    if len(lst_dics_tuples) > 0:\n",
        "        tag_type = []\n",
        "        for dic_tuples in lst_dics_tuples:\n",
        "            for tuple in dic_tuples:\n",
        "                type, n = tuple[1], dic_tuples[tuple]\n",
        "                tag_type = tag_type + [type]*n\n",
        "                dic_counter = collections.Counter()\n",
        "                for x in tag_type:\n",
        "                    dic_counter[x] += 1\n",
        "        return dic_counter[tag]\n",
        "    else:\n",
        "        return 0\n",
        "\n",
        "## extract features\n",
        "tags_set = []\n",
        "for lst in dtf[\"tags\"].tolist():\n",
        "     for dic in lst:\n",
        "          for k in dic.keys():\n",
        "              tags_set.append(k[1])\n",
        "tags_set = list(set(tags_set))\n",
        "for feature in tags_set:\n",
        "     dtf[\"tags_\"+feature] = dtf[\"tags\"].apply(lambda x: \n",
        "                             utils_ner_features(x, feature))\n",
        "\n",
        "## print result\n",
        "dtf.head()"
      ]
    },
    {
      "cell_type": "code",
      "execution_count": null,
      "metadata": {
        "colab": {
          "background_save": true
        },
        "id": "CQizo_Sl5q_n",
        "outputId": "6bb07272-2591-4d91-fa66-ce46ae83a7a0"
      },
      "outputs": [
        {
          "data": {
            "image/png": "[encoded data removed]",
            "text/plain": [
              "<Figure size 432x288 with 1 Axes>"
            ]
          },
          "metadata": {},
          "output_type": "display_data"
        }
      ],
      "source": [
        "y = \"ENTERTAINMENT\"\n",
        " \n",
        "tags_list = dtf[dtf[\"y\"]==y][\"tags\"].sum()\n",
        "map_lst = list(map(lambda x: list(x.keys())[0], tags_list))\n",
        "dtf_tags = pd.DataFrame(map_lst, columns=['tag','type'])\n",
        "dtf_tags[\"count\"] = 1\n",
        "dtf_tags = dtf_tags.groupby(['type',  'tag']).count().reset_index().sort_values(\"count\", \n",
        "                 ascending=False)\n",
        "fig, ax = plt.subplots()\n",
        "fig.suptitle(\"Top frequent tags\", fontsize=12)\n",
        "sns.barplot(x=\"count\", y=\"tag\", hue=\"type\", data=dtf_tags.iloc[:15,:], dodge=False, ax=ax)\n",
        "ax.grid(axis=\"x\")\n",
        "plt.show()"
      ]
    },
    {
      "cell_type": "code",
      "execution_count": null,
      "metadata": {
        "colab": {
          "background_save": true
        },
        "id": "5n3Trf4l5tTc",
        "outputId": "6e0524f3-114a-4953-e6ab-644a7d12bb6f"
      },
      "outputs": [
        {
          "name": "stdout",
          "output_type": "stream",
          "text": [
            "Twitch Bans Gambling Sites After Streamer Scams Folks Out Of $200,000\n"
          ]
        }
      ],
      "source": [
        "## predict wit NER\n",
        "txt = dtf[\"text\"].iloc[0]\n",
        "entities = ner(txt).ents\n",
        "## tag text\n",
        "tagged_txt = txt\n",
        "for tag in entities:\n",
        "    tagged_txt = re.sub(tag.text, \"_\".join(tag.text.split()), \n",
        "                        tagged_txt) \n",
        "## show result\n",
        "print(tagged_txt)"
      ]
    },
    {
      "cell_type": "code",
      "execution_count": null,
      "metadata": {
        "colab": {
          "background_save": true
        },
        "id": "zrV3Y0SQ5wY6",
        "outputId": "c71f2596-6f7e-409e-f8b3-a463e68c3275"
      },
      "outputs": [
        {
          "name": "stderr",
          "output_type": "stream",
          "text": [
            "[nltk_data] Downloading package punkt to /root/nltk_data...\n",
            "[nltk_data]   Package punkt is already up-to-date!\n"
          ]
        },
        {
          "data": {
            "image/png": "[encoded data removed]",
            "text/plain": [
              "<Figure size 432x288 with 2 Axes>"
            ]
          },
          "metadata": {},
          "output_type": "display_data"
        }
      ],
      "source": [
        " nltk.download('punkt')\n",
        "y = \"POLITICS\"\n",
        "corpus = dtf[dtf[\"y\"]==y][\"text_clean\"]\n",
        "lst_tokens = nltk.tokenize.word_tokenize(corpus.str.cat(sep=\" \"))\n",
        "fig, ax = plt.subplots(nrows=1, ncols=2)\n",
        "fig.suptitle(\"Most frequent words\", fontsize=15)\n",
        "    \n",
        "## unigrams\n",
        "dic_words_freq = nltk.FreqDist(lst_tokens)\n",
        "dtf_uni = pd.DataFrame(dic_words_freq.most_common(), \n",
        "                       columns=[\"Word\",\"Freq\"])\n",
        "dtf_uni.set_index(\"Word\").iloc[:15,:].sort_values(by=\"Freq\").plot(\n",
        "                  kind=\"barh\", title=\"Unigrams\", ax=ax[0], \n",
        "                  legend=False).grid(axis='x')\n",
        "ax[0].set(ylabel=None)\n",
        "    \n",
        "## bigrams\n",
        "dic_words_freq = nltk.FreqDist(nltk.ngrams(lst_tokens, 2))\n",
        "dtf_bi = pd.DataFrame(dic_words_freq.most_common(), \n",
        "                      columns=[\"Word\",\"Freq\"])\n",
        "dtf_bi[\"Word\"] = dtf_bi[\"Word\"].apply(lambda x: \" \".join(\n",
        "                   string for string in x) )\n",
        "dtf_bi.set_index(\"Word\").iloc[:15,:].sort_values(by=\"Freq\").plot(\n",
        "                  kind=\"barh\", title=\"Bigrams\", ax=ax[1],\n",
        "                  legend=False).grid(axis='x')\n",
        "ax[1].set(ylabel=None)\n",
        "plt.show()"
      ]
    },
    {
      "cell_type": "code",
      "execution_count": null,
      "metadata": {
        "colab": {
          "background_save": true
        },
        "id": "dcSqsYSs5zxh",
        "outputId": "51fea9fa-075a-4c90-a66d-4bf16228eddd"
      },
      "outputs": [
        {
          "data": {
            "text/html": [
              "\n",
              "  <div id=\"df-859e5c30-236e-4db4-9679-5a31bd47af45\">\n",
              "    <div class=\"colab-df-container\">\n",
              "      <div>\n",
              "<style scoped>\n",
              "    .dataframe tbody tr th:only-of-type {\n",
              "        vertical-align: middle;\n",
              "    }\n",
              "\n",
              "    .dataframe tbody tr th {\n",
              "        vertical-align: top;\n",
              "    }\n",
              "\n",
              "    .dataframe thead th {\n",
              "        text-align: right;\n",
              "    }\n",
              "</style>\n",
              "<table border=\"1\" class=\"dataframe\">\n",
              "  <thead>\n",
              "    <tr style=\"text-align: right;\">\n",
              "      <th></th>\n",
              "      <th>y</th>\n",
              "      <th>text</th>\n",
              "      <th>lang</th>\n",
              "      <th>text_clean</th>\n",
              "      <th>word_count</th>\n",
              "      <th>char_count</th>\n",
              "      <th>sentence_count</th>\n",
              "      <th>avg_word_length</th>\n",
              "      <th>avg_sentence_lenght</th>\n",
              "      <th>sentiment</th>\n",
              "      <th>...</th>\n",
              "      <th>tags_PRODUCT</th>\n",
              "      <th>tags_FAC</th>\n",
              "      <th>tags_LANGUAGE</th>\n",
              "      <th>tags_ORDINAL</th>\n",
              "      <th>tags_NORP</th>\n",
              "      <th>tags_QUANTITY</th>\n",
              "      <th>tags_GPE</th>\n",
              "      <th>box office</th>\n",
              "      <th>republican</th>\n",
              "      <th>apple</th>\n",
              "    </tr>\n",
              "  </thead>\n",
              "  <tbody>\n",
              "    <tr>\n",
              "      <th>13</th>\n",
              "      <td>TECH</td>\n",
              "      <td>Twitch Bans Gambling Sites After Streamer Scam...</td>\n",
              "      <td>en</td>\n",
              "      <td>twitch ban gambling site streamer scam folk 20...</td>\n",
              "      <td>11</td>\n",
              "      <td>59</td>\n",
              "      <td>1</td>\n",
              "      <td>5.363636</td>\n",
              "      <td>11.000000</td>\n",
              "      <td>0.0000</td>\n",
              "      <td>...</td>\n",
              "      <td>0</td>\n",
              "      <td>0</td>\n",
              "      <td>0</td>\n",
              "      <td>0</td>\n",
              "      <td>0</td>\n",
              "      <td>0</td>\n",
              "      <td>0</td>\n",
              "      <td>0</td>\n",
              "      <td>0</td>\n",
              "      <td>0</td>\n",
              "    </tr>\n",
              "    <tr>\n",
              "      <th>20</th>\n",
              "      <td>ENTERTAINMENT</td>\n",
              "      <td>Golden Globes Returning To NBC In January Afte...</td>\n",
              "      <td>en</td>\n",
              "      <td>golden globe returning nbc january year offair</td>\n",
              "      <td>10</td>\n",
              "      <td>51</td>\n",
              "      <td>1</td>\n",
              "      <td>5.100000</td>\n",
              "      <td>10.000000</td>\n",
              "      <td>0.3000</td>\n",
              "      <td>...</td>\n",
              "      <td>0</td>\n",
              "      <td>0</td>\n",
              "      <td>0</td>\n",
              "      <td>0</td>\n",
              "      <td>0</td>\n",
              "      <td>0</td>\n",
              "      <td>0</td>\n",
              "      <td>0</td>\n",
              "      <td>0</td>\n",
              "      <td>0</td>\n",
              "    </tr>\n",
              "    <tr>\n",
              "      <th>21</th>\n",
              "      <td>POLITICS</td>\n",
              "      <td>Biden Says U.S. Forces Would Defend Taiwan If ...</td>\n",
              "      <td>en</td>\n",
              "      <td>biden say u force would defend taiwan china in...</td>\n",
              "      <td>10</td>\n",
              "      <td>50</td>\n",
              "      <td>3</td>\n",
              "      <td>5.000000</td>\n",
              "      <td>3.333333</td>\n",
              "      <td>0.0000</td>\n",
              "      <td>...</td>\n",
              "      <td>0</td>\n",
              "      <td>0</td>\n",
              "      <td>0</td>\n",
              "      <td>0</td>\n",
              "      <td>0</td>\n",
              "      <td>0</td>\n",
              "      <td>2</td>\n",
              "      <td>0</td>\n",
              "      <td>0</td>\n",
              "      <td>0</td>\n",
              "    </tr>\n",
              "    <tr>\n",
              "      <th>24</th>\n",
              "      <td>POLITICS</td>\n",
              "      <td>‘Beautiful And Sad At The Same Time’: Ukrainia...</td>\n",
              "      <td>en</td>\n",
              "      <td>beautiful sad time ukrainian cultural festival...</td>\n",
              "      <td>17</td>\n",
              "      <td>85</td>\n",
              "      <td>1</td>\n",
              "      <td>5.000000</td>\n",
              "      <td>17.000000</td>\n",
              "      <td>0.1125</td>\n",
              "      <td>...</td>\n",
              "      <td>0</td>\n",
              "      <td>0</td>\n",
              "      <td>0</td>\n",
              "      <td>0</td>\n",
              "      <td>1</td>\n",
              "      <td>0</td>\n",
              "      <td>0</td>\n",
              "      <td>0</td>\n",
              "      <td>0</td>\n",
              "      <td>0</td>\n",
              "    </tr>\n",
              "    <tr>\n",
              "      <th>28</th>\n",
              "      <td>ENTERTAINMENT</td>\n",
              "      <td>James Cameron Says He 'Clashed' With Studio Be...</td>\n",
              "      <td>en</td>\n",
              "      <td>james cameron say clashed studio avatar release</td>\n",
              "      <td>10</td>\n",
              "      <td>58</td>\n",
              "      <td>1</td>\n",
              "      <td>5.800000</td>\n",
              "      <td>10.000000</td>\n",
              "      <td>0.0000</td>\n",
              "      <td>...</td>\n",
              "      <td>0</td>\n",
              "      <td>0</td>\n",
              "      <td>0</td>\n",
              "      <td>0</td>\n",
              "      <td>0</td>\n",
              "      <td>0</td>\n",
              "      <td>0</td>\n",
              "      <td>0</td>\n",
              "      <td>0</td>\n",
              "      <td>0</td>\n",
              "    </tr>\n",
              "  </tbody>\n",
              "</table>\n",
              "<p>5 rows × 32 columns</p>\n",
              "</div>\n",
              "      <button class=\"colab-df-convert\" onclick=\"convertToInteractive('df-859e5c30-236e-4db4-9679-5a31bd47af45')\"\n",
              "              title=\"Convert this dataframe to an interactive table.\"\n",
              "              style=\"display:none;\">\n",
              "        \n",
              "  <svg xmlns=\"http://www.w3.org/2000/svg\" height=\"24px\"viewBox=\"0 0 24 24\"\n",
              "       width=\"24px\">\n",
              "    <path d=\"M0 0h24v24H0V0z\" fill=\"none\"/>\n",
              "    <path d=\"M18.56 5.44l.94 2.06.94-2.06 2.06-.94-2.06-.94-.94-2.06-.94 2.06-2.06.94zm-11 1L8.5 8.5l.94-2.06 2.06-.94-2.06-.94L8.5 2.5l-.94 2.06-2.06.94zm10 10l.94 2.06.94-2.06 2.06-.94-2.06-.94-.94-2.06-.94 2.06-2.06.94z\"/><path d=\"M17.41 7.96l-1.37-1.37c-.4-.4-.92-.59-1.43-.59-.52 0-1.04.2-1.43.59L10.3 9.45l-7.72 7.72c-.78.78-.78 2.05 0 2.83L4 21.41c.39.39.9.59 1.41.59.51 0 1.02-.2 1.41-.59l7.78-7.78 2.81-2.81c.8-.78.8-2.07 0-2.86zM5.41 20L4 18.59l7.72-7.72 1.47 1.35L5.41 20z\"/>\n",
              "  </svg>\n",
              "      </button>\n",
              "      \n",
              "  <style>\n",
              "    .colab-df-container {\n",
              "      display:flex;\n",
              "      flex-wrap:wrap;\n",
              "      gap: 12px;\n",
              "    }\n",
              "\n",
              "    .colab-df-convert {\n",
              "      background-color: #E8F0FE;\n",
              "      border: none;\n",
              "      border-radius: 50%;\n",
              "      cursor: pointer;\n",
              "      display: none;\n",
              "      fill: #1967D2;\n",
              "      height: 32px;\n",
              "      padding: 0 0 0 0;\n",
              "      width: 32px;\n",
              "    }\n",
              "\n",
              "    .colab-df-convert:hover {\n",
              "      background-color: #E2EBFA;\n",
              "      box-shadow: 0px 1px 2px rgba(60, 64, 67, 0.3), 0px 1px 3px 1px rgba(60, 64, 67, 0.15);\n",
              "      fill: #174EA6;\n",
              "    }\n",
              "\n",
              "    [theme=dark] .colab-df-convert {\n",
              "      background-color: #3B4455;\n",
              "      fill: #D2E3FC;\n",
              "    }\n",
              "\n",
              "    [theme=dark] .colab-df-convert:hover {\n",
              "      background-color: #434B5C;\n",
              "      box-shadow: 0px 1px 3px 1px rgba(0, 0, 0, 0.15);\n",
              "      filter: drop-shadow(0px 1px 2px rgba(0, 0, 0, 0.3));\n",
              "      fill: #FFFFFF;\n",
              "    }\n",
              "  </style>\n",
              "\n",
              "      <script>\n",
              "        const buttonEl =\n",
              "          document.querySelector('#df-859e5c30-236e-4db4-9679-5a31bd47af45 button.colab-df-convert');\n",
              "        buttonEl.style.display =\n",
              "          google.colab.kernel.accessAllowed ? 'block' : 'none';\n",
              "\n",
              "        async function convertToInteractive(key) {\n",
              "          const element = document.querySelector('#df-859e5c30-236e-4db4-9679-5a31bd47af45');\n",
              "          const dataTable =\n",
              "            await google.colab.kernel.invokeFunction('convertToInteractive',\n",
              "                                                     [key], {});\n",
              "          if (!dataTable) return;\n",
              "\n",
              "          const docLinkHtml = 'Like what you see? Visit the ' +\n",
              "            '<a target=\"_blank\" href=https://colab.research.google.com/notebooks/data_table.ipynb>data table notebook</a>'\n",
              "            + ' to learn more about interactive tables.';\n",
              "          element.innerHTML = '';\n",
              "          dataTable['output_type'] = 'display_data';\n",
              "          await google.colab.output.renderOutput(dataTable, element);\n",
              "          const docLink = document.createElement('div');\n",
              "          docLink.innerHTML = docLinkHtml;\n",
              "          element.appendChild(docLink);\n",
              "        }\n",
              "      </script>\n",
              "    </div>\n",
              "  </div>\n",
              "  "
            ],
            "text/plain": [
              "                y                                               text lang  \\\n",
              "13           TECH  Twitch Bans Gambling Sites After Streamer Scam...   en   \n",
              "20  ENTERTAINMENT  Golden Globes Returning To NBC In January Afte...   en   \n",
              "21       POLITICS  Biden Says U.S. Forces Would Defend Taiwan If ...   en   \n",
              "24       POLITICS  ‘Beautiful And Sad At The Same Time’: Ukrainia...   en   \n",
              "28  ENTERTAINMENT  James Cameron Says He 'Clashed' With Studio Be...   en   \n",
              "\n",
              "                                           text_clean  word_count  char_count  \\\n",
              "13  twitch ban gambling site streamer scam folk 20...          11          59   \n",
              "20     golden globe returning nbc january year offair          10          51   \n",
              "21  biden say u force would defend taiwan china in...          10          50   \n",
              "24  beautiful sad time ukrainian cultural festival...          17          85   \n",
              "28    james cameron say clashed studio avatar release          10          58   \n",
              "\n",
              "    sentence_count  avg_word_length  avg_sentence_lenght  sentiment  ...  \\\n",
              "13               1         5.363636            11.000000     0.0000  ...   \n",
              "20               1         5.100000            10.000000     0.3000  ...   \n",
              "21               3         5.000000             3.333333     0.0000  ...   \n",
              "24               1         5.000000            17.000000     0.1125  ...   \n",
              "28               1         5.800000            10.000000     0.0000  ...   \n",
              "\n",
              "   tags_PRODUCT  tags_FAC  tags_LANGUAGE  tags_ORDINAL  tags_NORP  \\\n",
              "13            0         0              0             0          0   \n",
              "20            0         0              0             0          0   \n",
              "21            0         0              0             0          0   \n",
              "24            0         0              0             0          1   \n",
              "28            0         0              0             0          0   \n",
              "\n",
              "    tags_QUANTITY  tags_GPE  box office  republican  apple  \n",
              "13              0         0           0           0      0  \n",
              "20              0         0           0           0      0  \n",
              "21              0         2           0           0      0  \n",
              "24              0         0           0           0      0  \n",
              "28              0         0           0           0      0  \n",
              "\n",
              "[5 rows x 32 columns]"
            ]
          },
          "execution_count": 84,
          "metadata": {},
          "output_type": "execute_result"
        }
      ],
      "source": [
        "lst_words = [\"box office\", \"republican\", \"apple\"]\n",
        "## count\n",
        "lst_grams = [len(word.split(\" \")) for word in lst_words]\n",
        "vectorizer = feature_extraction.text.CountVectorizer(\n",
        "                 vocabulary=lst_words, \n",
        "                 ngram_range=(min(lst_grams),max(lst_grams)))\n",
        "dtf_X = pd.DataFrame(vectorizer.fit_transform(dtf[\"text_clean\"]).todense(), columns=lst_words)\n",
        "## add the new features as columns\n",
        "dtf = pd.concat([dtf, dtf_X.set_index(dtf.index)], axis=1)\n",
        "dtf.head()"
      ]
    },
    {
      "cell_type": "code",
      "execution_count": null,
      "metadata": {
        "colab": {
          "background_save": true
        },
        "id": "yV8cNHjO52d3",
        "outputId": "97950858-1849-44cd-c338-d80ca983f9ef"
      },
      "outputs": [
        {
          "data": {
            "image/png": "[encoded data removed]",
            "text/plain": [
              "<Figure size 432x288 with 1 Axes>"
            ]
          },
          "metadata": {},
          "output_type": "display_data"
        }
      ],
      "source": [
        "wc = wordcloud.WordCloud(background_color='black', max_words=100, \n",
        "                         max_font_size=35)\n",
        "wc = wc.generate(str(corpus))\n",
        "fig = plt.figure(num=1)\n",
        "plt.axis('off')\n",
        "plt.imshow(wc, cmap=None)\n",
        "plt.show()"
      ]
    },
    {
      "cell_type": "code",
      "execution_count": null,
      "metadata": {
        "colab": {
          "background_save": true
        },
        "id": "vFJo_lUB541R"
      },
      "outputs": [],
      "source": [
        "nlp = gensim_api.load(\"glove-wiki-gigaword-300\")"
      ]
    },
    {
      "cell_type": "code",
      "execution_count": null,
      "metadata": {
        "colab": {
          "background_save": true
        },
        "id": "2hGm6GMS57i7",
        "outputId": "3b019021-e89b-4c9b-d43b-363618c03ac7"
      },
      "outputs": [
        {
          "data": {
            "text/plain": [
              "array([-4.5205e-01, -3.3122e-01, -6.3607e-02,  2.8325e-02, -2.1372e-01,\n",
              "        1.6839e-01, -1.7186e-02,  4.7309e-02, -5.2355e-02, -9.8706e-01,\n",
              "        5.3762e-01, -2.6893e-01, -5.4294e-01,  7.2487e-02,  6.6193e-02,\n",
              "       -2.1814e-01, -1.2113e-01, -2.8832e-01,  4.8161e-01,  6.9185e-01,\n",
              "       -2.0022e-01,  1.0082e+00, -1.1865e-01,  5.8710e-01,  1.8482e-01,\n",
              "        4.5799e-02, -1.7836e-02, -3.3952e-01,  2.9314e-01, -1.9951e-01,\n",
              "       -1.8930e-01,  4.3267e-01, -6.3181e-01, -2.9510e-01, -1.0547e+00,\n",
              "        1.8231e-01, -4.5040e-01, -2.7800e-01, -1.4021e-01,  3.6785e-02,\n",
              "        2.6487e-01, -6.6712e-01, -1.5204e-01, -3.5001e-01,  4.0864e-01,\n",
              "       -7.3615e-02,  6.7630e-01,  1.8274e-01, -4.1660e-02,  1.5014e-02,\n",
              "        2.5216e-01, -1.0109e-01,  3.1915e-02, -1.1298e-01, -4.0147e-01,\n",
              "        1.7274e-01,  1.8497e-03,  2.4456e-01,  6.8777e-01, -2.7019e-01,\n",
              "        8.0728e-01, -5.8296e-02,  4.0550e-01,  3.9893e-01, -9.1688e-02,\n",
              "       -5.2080e-01,  2.4570e-01,  6.3001e-02,  2.1421e-01,  3.3197e-01,\n",
              "       -3.4299e-01, -4.8735e-01,  2.2264e-02,  2.7862e-01,  2.3881e-01,\n",
              "        9.7794e-02,  3.8023e-01, -3.7744e-02, -4.1966e-01, -1.9145e-01,\n",
              "       -9.5830e-02,  2.6871e-01,  5.2876e-01, -2.6870e-01, -3.4450e-01,\n",
              "        2.5413e-01,  1.3606e-01,  3.6528e-01,  8.1960e-02, -5.2224e-01,\n",
              "        3.4159e-02,  1.7019e-01, -1.0520e-01, -8.0873e-01, -1.8095e-01,\n",
              "       -6.0823e-02,  2.6014e-01, -7.8717e-02, -1.5161e-01, -6.8438e-01,\n",
              "        2.1809e-01,  4.7330e-02, -1.2147e-01, -3.3892e-01, -1.8629e-02,\n",
              "        2.4546e-01,  2.7374e-01, -2.7045e-01, -8.7233e-02, -4.7871e-01,\n",
              "        1.9630e-01,  2.3124e-02,  1.9453e-01, -4.6860e-01,  4.4499e-01,\n",
              "        1.8360e-01, -1.6480e-01,  3.8598e-01,  3.6070e-01, -3.1108e-01,\n",
              "       -3.4627e-01,  1.9004e-01, -9.8683e-02,  3.3821e-01, -1.3978e-01,\n",
              "       -7.2723e-01, -1.0660e-01,  1.9208e-03, -3.3093e-01,  3.5117e-01,\n",
              "        1.5491e-01,  1.7150e-01,  2.8933e-01, -4.9213e-02, -5.0567e-01,\n",
              "       -2.3513e-01, -2.8005e-01, -2.8487e-01, -2.4393e-01, -4.0838e-02,\n",
              "       -2.7223e-01,  9.4564e-02,  1.7332e-01,  1.8691e-01, -1.3585e-01,\n",
              "       -4.6439e-01, -4.5677e-01,  9.7890e-02,  3.9113e-02,  1.7901e-01,\n",
              "       -4.5629e-01,  4.7520e-01, -2.0388e-01,  2.4123e-01,  6.7551e-01,\n",
              "        6.2105e-02, -1.8940e-01,  1.5054e-01,  1.5875e-01, -2.3365e-01,\n",
              "        3.7429e-01, -2.3463e-01,  4.0692e-01,  1.4035e-01, -4.2971e-01,\n",
              "        5.6713e-01, -2.6706e-01, -6.8028e-02, -5.1264e-01, -3.0945e-01,\n",
              "       -3.9065e-01, -2.7004e-01, -1.1802e+00,  6.6480e-01, -2.4366e-01,\n",
              "        3.9183e-01, -2.8970e-01, -1.8839e-01, -4.9282e-01,  1.4538e-01,\n",
              "        2.4467e-01, -4.4340e-03,  2.3265e-01,  7.4544e-02, -3.0006e-01,\n",
              "       -3.0272e-01, -1.2394e-01,  3.3473e-01,  3.3880e-01,  9.7445e-02,\n",
              "       -3.3773e-01, -5.4316e-01, -4.7514e-01, -1.5696e-01, -9.3516e-01,\n",
              "       -8.7034e-02, -2.6743e-01,  6.4641e-04,  3.1940e-01, -6.2562e-03,\n",
              "        1.5854e+00,  1.2484e-01,  4.8481e-01,  7.5394e-02,  1.8963e-01,\n",
              "       -1.0226e-01,  4.7413e-01,  7.0402e-01, -6.4418e-02, -1.0181e-02,\n",
              "       -6.8619e-01,  1.5335e-02,  4.7851e-02,  3.7650e-01,  1.0487e-01,\n",
              "        2.2974e-01,  4.5352e-01,  3.1482e-01,  5.8880e-02,  6.7096e-02,\n",
              "        1.5679e-01,  1.3099e-01,  3.4581e-02, -7.3896e-02, -3.6433e-01,\n",
              "       -1.8847e-01,  4.1556e-02, -2.0124e-01, -7.3918e-02,  3.8752e-01,\n",
              "        1.6759e-01, -4.0627e-01, -1.3220e-02, -7.1793e-01, -2.2904e-01,\n",
              "        2.0474e-01, -1.3648e-01,  3.7779e-01, -4.0003e-01, -5.0106e-02,\n",
              "       -3.7799e-01,  7.2109e-02,  2.3057e-02,  2.3879e-01, -2.2423e-01,\n",
              "       -8.4834e-02, -7.0726e-01, -1.6182e-01,  2.6373e-01,  1.2226e-01,\n",
              "        8.0282e-02,  7.5963e-02, -3.4695e-01,  3.7703e-01,  3.6612e-01,\n",
              "       -9.8416e-02,  4.7400e-01, -2.5085e-01,  1.8641e-01, -2.5993e-01,\n",
              "        3.9035e-02, -6.1394e-01,  1.4721e-01, -6.7619e-01, -1.2489e-01,\n",
              "        3.8031e-01, -2.8061e-01, -3.9680e-01,  2.4165e-02,  9.8706e-02,\n",
              "        2.4838e-01, -4.5881e-01,  2.0310e-01, -4.3515e-01, -7.7804e-03,\n",
              "       -2.4642e-02, -1.3204e+00, -4.1078e-01,  2.8145e-01,  2.8188e-02,\n",
              "       -2.0470e-01,  1.6037e-01, -1.6696e-01,  1.3761e-01, -3.6714e-01,\n",
              "        1.3801e-01, -2.0688e-01,  3.8274e-01,  2.1289e-01, -7.5001e-02,\n",
              "       -5.0367e-01, -2.9295e-02, -2.1254e-02, -2.4253e-01,  3.3530e-01,\n",
              "       -3.5534e-01,  2.5358e-01,  3.8906e-02,  2.4314e-01, -2.8696e-02],\n",
              "      dtype=float32)"
            ]
          },
          "execution_count": 87,
          "metadata": {},
          "output_type": "execute_result"
        }
      ],
      "source": [
        "word = \"love\"\n",
        "nlp[word]"
      ]
    },
    {
      "cell_type": "code",
      "execution_count": null,
      "metadata": {
        "colab": {
          "background_save": true
        },
        "id": "1RJz9oFr5-NF",
        "outputId": "24a1fbd9-c3f5-4d2a-ca7e-da271b3c6c98"
      },
      "outputs": [
        {
          "data": {
            "text/plain": [
              "(300,)"
            ]
          },
          "execution_count": 88,
          "metadata": {},
          "output_type": "execute_result"
        }
      ],
      "source": [
        "nlp[word].shape"
      ]
    },
    {
      "cell_type": "code",
      "execution_count": null,
      "metadata": {
        "colab": {
          "background_save": true
        },
        "id": "dwlJHQvL6AV3",
        "outputId": "af43f95c-d868-41ee-d7b8-91e1289f09c0"
      },
      "outputs": [
        {
          "name": "stderr",
          "output_type": "stream",
          "text": [
            "/usr/local/lib/python3.7/dist-packages/sklearn/manifold/_t_sne.py:793: FutureWarning: The default learning rate in TSNE will change from 200.0 to 'auto' in 1.2.\n",
            "  FutureWarning,\n",
            "/usr/local/lib/python3.7/dist-packages/sklearn/manifold/_t_sne.py:986: FutureWarning: The PCA initialization in TSNE will change to have the standard deviation of PC1 equal to 1e-4 in 1.2. This will ensure better convergence.\n",
            "  FutureWarning,\n"
          ]
        },
        {
          "data": {
            "text/plain": [
              "Text(5, 2, 'love')"
            ]
          },
          "execution_count": 89,
          "metadata": {},
          "output_type": "execute_result"
        },
        {
          "data": {
            "image/png": "[encoded data removed]",
            "text/plain": [
              "<Figure size 432x288 with 1 Axes>"
            ]
          },
          "metadata": {},
          "output_type": "display_data"
        }
      ],
      "source": [
        "## find closest vectors\n",
        "labels, X, x, y = [], [], [], []\n",
        "for t in nlp.most_similar(word, topn=20):\n",
        "    X.append(nlp[t[0]])\n",
        "    labels.append(t[0])\n",
        "## reduce dimensions\n",
        "pca = manifold.TSNE(perplexity=40, n_components=2, init='pca')\n",
        "new_values = pca.fit_transform(X)\n",
        "for value in new_values:\n",
        "    x.append(value[0])\n",
        "    y.append(value[1])\n",
        "## plot\n",
        "fig = plt.figure()\n",
        "for i in range(len(x)):\n",
        "    plt.scatter(x[i], y[i], c=\"black\")\n",
        "    plt.annotate(labels[i], xy=(x[i],y[i]), xytext=(5,2), \n",
        "               textcoords='offset points', ha='right', va='bottom')\n",
        "## add center\n",
        "plt.scatter(x=0, y=0, c=\"red\")\n",
        "plt.annotate(word, xy=(0,0), xytext=(5,2), textcoords='offset points', ha='right', va='bottom')"
      ]
    },
    {
      "cell_type": "code",
      "execution_count": null,
      "metadata": {
        "colab": {
          "background_save": true
        },
        "id": "AayCCJpC6E-S",
        "outputId": "24aa8d57-56a5-4c91-f257-414dcc1bd971"
      },
      "outputs": [
        {
          "data": {
            "image/png": "[encoded data removed]",
            "text/plain": [
              "<Figure size 432x288 with 1 Axes>"
            ]
          },
          "metadata": {},
          "output_type": "display_data"
        }
      ],
      "source": [
        "y = \"TECH\"\n",
        "corpus = dtf[dtf[\"y\"]==y][\"text_clean\"]\n",
        "\n",
        "## pre-process corpus\n",
        "lst_corpus = []\n",
        "for string in corpus:\n",
        "    lst_words = string.split()\n",
        "    lst_grams = [\" \".join(lst_words[i:i + 2]) for i in range(0, \n",
        "                     len(lst_words), 2)]\n",
        "    lst_corpus.append(lst_grams)\n",
        "## map words to an id\n",
        "id2word = gensim.corpora.Dictionary(lst_corpus)\n",
        "## create dictionary word:freq\n",
        "dic_corpus = [id2word.doc2bow(word) for word in lst_corpus] \n",
        "## train LDA\n",
        "lda_model = gensim.models.ldamodel.LdaModel(corpus=dic_corpus, id2word=id2word, num_topics=3, random_state=123, update_every=1, chunksize=100, passes=10, alpha='auto', per_word_topics=True)\n",
        "   \n",
        "## output\n",
        "lst_dics = []\n",
        "for i in range(0,3):\n",
        "    lst_tuples = lda_model.get_topic_terms(i)\n",
        "    for tupla in lst_tuples:\n",
        "        lst_dics.append({\"topic\":i, \"id\":tupla[0], \n",
        "                         \"word\":id2word[tupla[0]], \n",
        "                         \"weight\":tupla[1]})\n",
        "dtf_topics = pd.DataFrame(lst_dics, \n",
        "                         columns=['topic','id','word','weight'])\n",
        "    \n",
        "## plot\n",
        "fig, ax = plt.subplots()\n",
        "sns.barplot(y=\"word\", x=\"weight\", hue=\"topic\", data=dtf_topics, dodge=False, ax=ax).set_title('Main Topics')\n",
        "ax.set(ylabel=\"\", xlabel=\"Word Importance\")\n",
        "plt.show()"
      ]
    },
    {
      "cell_type": "code",
      "execution_count": null,
      "metadata": {
        "colab": {
          "background_save": true
        },
        "id": "9tibM8az6Izj"
      },
      "outputs": [],
      "source": []
    }
  ],
  "metadata": {
    "colab": {
      "collapsed_sections": [],
      "provenance": [],
      "authorship_tag": "ABX9TyPrKpUYHpKnqzV9sGzu61X+",
      "include_colab_link": true
    },
    "kernelspec": {
      "display_name": "Python 3",
      "name": "python3"
    },
    "language_info": {
      "name": "python"
    }
  },
  "nbformat": 4,
  "nbformat_minor": 0
}