{
  "cells": [
    {
      "cell_type": "markdown",
      "metadata": {
        "id": "view-in-github",
        "colab_type": "text"
      },
      "source": [
        "<a href=\"https://colab.research.google.com/github/PradnyaTayade/NLP/blob/main/NEWS_project.ipynb\" target=\"_parent\"><img src=\"https://colab.research.google.com/assets/colab-badge.svg\" alt=\"Open In Colab\"/></a>"
      ]
    },
    {
      "cell_type": "code",
      "execution_count": 5,
      "metadata": {
        "colab": {
          "base_uri": "https://localhost:8080/"
        },
        "id": "qeJ94YjWVdOz",
        "outputId": "8e4cbebb-ae0f-4c20-eada-8cf72e94a930"
      },
      "outputs": [
        {
          "output_type": "stream",
          "name": "stdout",
          "text": [
            "Looking in indexes: https://pypi.org/simple, https://us-python.pkg.dev/colab-wheels/public/simple/\n",
            "Requirement already satisfied: langdetect in /usr/local/lib/python3.7/dist-packages (1.0.9)\n",
            "Requirement already satisfied: six in /usr/local/lib/python3.7/dist-packages (from langdetect) (1.15.0)\n"
          ]
        }
      ],
      "source": [
        "!pip install langdetect"
      ]
    },
    {
      "cell_type": "code",
      "execution_count": 6,
      "metadata": {
        "id": "gstSMMXGWBtz"
      },
      "outputs": [],
      "source": [
        "## for data\n",
        "import pandas as pd\n",
        "import collections\n",
        "import json\n",
        "## for plotting\n",
        "import matplotlib.pyplot as plt\n",
        "import seaborn as sns\n",
        "import wordcloud\n",
        "## for text processing\n",
        "import re\n",
        "import nltk\n",
        "## for language detection\n",
        "import langdetect\n",
        "## for sentiment\n",
        "from textblob import TextBlob\n",
        "## for ner\n",
        "import spacy\n",
        "## for vectorizer\n",
        "from sklearn import feature_extraction, manifold\n",
        "## for word embedding\n",
        "import gensim.downloader as gensim_api\n",
        "## for topic modeling\n",
        "import gensim"
      ]
    },
    {
      "cell_type": "code",
      "execution_count": 7,
      "metadata": {
        "colab": {
          "base_uri": "https://localhost:8080/"
        },
        "id": "J4tXnx0sW7Jx",
        "outputId": "56c53fde-3930-413e-963f-d0fb8beddd97"
      },
      "outputs": [
        {
          "output_type": "stream",
          "name": "stdout",
          "text": [
            "{'link': 'https://www.huffpost.com/entry/covid-boosters-uptake-us_n_632d719ee4b087fae6feaac9', 'headline': 'Over 4 Million Americans Roll Up Sleeves For Omicron-Targeted COVID Boosters', 'category': 'U.S. NEWS', 'short_description': 'Health experts said it is too early to predict whether demand would match up with the 171 million doses of the new boosters the U.S. ordered for the fall.', 'authors': 'Carla K. Johnson, AP', 'date': '2022-09-23'}\n"
          ]
        }
      ],
      "source": [
        "lst_dics = []\n",
        "with open('data.json', mode='r', errors='ignore') as json_file:\n",
        "    for dic in json_file:\n",
        "        lst_dics.append(json.loads(dic))\n",
        "## print the first one      \n",
        "print(lst_dics[0])"
      ]
    },
    {
      "cell_type": "code",
      "execution_count": 8,
      "metadata": {
        "colab": {
          "base_uri": "https://localhost:8080/",
          "height": 206
        },
        "id": "srFc_ItChOGo",
        "outputId": "1935a073-d215-4112-e3b9-b37fe5d83d09"
      },
      "outputs": [
        {
          "output_type": "execute_result",
          "data": {
            "text/plain": [
              "                    y                                               text\n",
              "85849        POLITICS  House Republicans Return To Capitol To Face Le...\n",
              "118180       POLITICS                          Don't Settle For A Sad 8%\n",
              "55571        POLITICS  Donald Trump's Fact-Free Zone Was Open For Bus...\n",
              "53269        POLITICS  The Threat Of A Right-Wing Supreme Court: Anal...\n",
              "23097   ENTERTAINMENT  Jared Leto Gets Final Say On That Big 'Blade R..."
            ],
            "text/html": [
              "\n",
              "  <div id=\"df-9c408b61-5d90-457d-be3f-898f63ea5c93\">\n",
              "    <div class=\"colab-df-container\">\n",
              "      <div>\n",
              "<style scoped>\n",
              "    .dataframe tbody tr th:only-of-type {\n",
              "        vertical-align: middle;\n",
              "    }\n",
              "\n",
              "    .dataframe tbody tr th {\n",
              "        vertical-align: top;\n",
              "    }\n",
              "\n",
              "    .dataframe thead th {\n",
              "        text-align: right;\n",
              "    }\n",
              "</style>\n",
              "<table border=\"1\" class=\"dataframe\">\n",
              "  <thead>\n",
              "    <tr style=\"text-align: right;\">\n",
              "      <th></th>\n",
              "      <th>y</th>\n",
              "      <th>text</th>\n",
              "    </tr>\n",
              "  </thead>\n",
              "  <tbody>\n",
              "    <tr>\n",
              "      <th>85849</th>\n",
              "      <td>POLITICS</td>\n",
              "      <td>House Republicans Return To Capitol To Face Le...</td>\n",
              "    </tr>\n",
              "    <tr>\n",
              "      <th>118180</th>\n",
              "      <td>POLITICS</td>\n",
              "      <td>Don't Settle For A Sad 8%</td>\n",
              "    </tr>\n",
              "    <tr>\n",
              "      <th>55571</th>\n",
              "      <td>POLITICS</td>\n",
              "      <td>Donald Trump's Fact-Free Zone Was Open For Bus...</td>\n",
              "    </tr>\n",
              "    <tr>\n",
              "      <th>53269</th>\n",
              "      <td>POLITICS</td>\n",
              "      <td>The Threat Of A Right-Wing Supreme Court: Anal...</td>\n",
              "    </tr>\n",
              "    <tr>\n",
              "      <th>23097</th>\n",
              "      <td>ENTERTAINMENT</td>\n",
              "      <td>Jared Leto Gets Final Say On That Big 'Blade R...</td>\n",
              "    </tr>\n",
              "  </tbody>\n",
              "</table>\n",
              "</div>\n",
              "      <button class=\"colab-df-convert\" onclick=\"convertToInteractive('df-9c408b61-5d90-457d-be3f-898f63ea5c93')\"\n",
              "              title=\"Convert this dataframe to an interactive table.\"\n",
              "              style=\"display:none;\">\n",
              "        \n",
              "  <svg xmlns=\"http://www.w3.org/2000/svg\" height=\"24px\"viewBox=\"0 0 24 24\"\n",
              "       width=\"24px\">\n",
              "    <path d=\"M0 0h24v24H0V0z\" fill=\"none\"/>\n",
              "    <path d=\"M18.56 5.44l.94 2.06.94-2.06 2.06-.94-2.06-.94-.94-2.06-.94 2.06-2.06.94zm-11 1L8.5 8.5l.94-2.06 2.06-.94-2.06-.94L8.5 2.5l-.94 2.06-2.06.94zm10 10l.94 2.06.94-2.06 2.06-.94-2.06-.94-.94-2.06-.94 2.06-2.06.94z\"/><path d=\"M17.41 7.96l-1.37-1.37c-.4-.4-.92-.59-1.43-.59-.52 0-1.04.2-1.43.59L10.3 9.45l-7.72 7.72c-.78.78-.78 2.05 0 2.83L4 21.41c.39.39.9.59 1.41.59.51 0 1.02-.2 1.41-.59l7.78-7.78 2.81-2.81c.8-.78.8-2.07 0-2.86zM5.41 20L4 18.59l7.72-7.72 1.47 1.35L5.41 20z\"/>\n",
              "  </svg>\n",
              "      </button>\n",
              "      \n",
              "  <style>\n",
              "    .colab-df-container {\n",
              "      display:flex;\n",
              "      flex-wrap:wrap;\n",
              "      gap: 12px;\n",
              "    }\n",
              "\n",
              "    .colab-df-convert {\n",
              "      background-color: #E8F0FE;\n",
              "      border: none;\n",
              "      border-radius: 50%;\n",
              "      cursor: pointer;\n",
              "      display: none;\n",
              "      fill: #1967D2;\n",
              "      height: 32px;\n",
              "      padding: 0 0 0 0;\n",
              "      width: 32px;\n",
              "    }\n",
              "\n",
              "    .colab-df-convert:hover {\n",
              "      background-color: #E2EBFA;\n",
              "      box-shadow: 0px 1px 2px rgba(60, 64, 67, 0.3), 0px 1px 3px 1px rgba(60, 64, 67, 0.15);\n",
              "      fill: #174EA6;\n",
              "    }\n",
              "\n",
              "    [theme=dark] .colab-df-convert {\n",
              "      background-color: #3B4455;\n",
              "      fill: #D2E3FC;\n",
              "    }\n",
              "\n",
              "    [theme=dark] .colab-df-convert:hover {\n",
              "      background-color: #434B5C;\n",
              "      box-shadow: 0px 1px 3px 1px rgba(0, 0, 0, 0.15);\n",
              "      filter: drop-shadow(0px 1px 2px rgba(0, 0, 0, 0.3));\n",
              "      fill: #FFFFFF;\n",
              "    }\n",
              "  </style>\n",
              "\n",
              "      <script>\n",
              "        const buttonEl =\n",
              "          document.querySelector('#df-9c408b61-5d90-457d-be3f-898f63ea5c93 button.colab-df-convert');\n",
              "        buttonEl.style.display =\n",
              "          google.colab.kernel.accessAllowed ? 'block' : 'none';\n",
              "\n",
              "        async function convertToInteractive(key) {\n",
              "          const element = document.querySelector('#df-9c408b61-5d90-457d-be3f-898f63ea5c93');\n",
              "          const dataTable =\n",
              "            await google.colab.kernel.invokeFunction('convertToInteractive',\n",
              "                                                     [key], {});\n",
              "          if (!dataTable) return;\n",
              "\n",
              "          const docLinkHtml = 'Like what you see? Visit the ' +\n",
              "            '<a target=\"_blank\" href=https://colab.research.google.com/notebooks/data_table.ipynb>data table notebook</a>'\n",
              "            + ' to learn more about interactive tables.';\n",
              "          element.innerHTML = '';\n",
              "          dataTable['output_type'] = 'display_data';\n",
              "          await google.colab.output.renderOutput(dataTable, element);\n",
              "          const docLink = document.createElement('div');\n",
              "          docLink.innerHTML = docLinkHtml;\n",
              "          element.appendChild(docLink);\n",
              "        }\n",
              "      </script>\n",
              "    </div>\n",
              "  </div>\n",
              "  "
            ]
          },
          "metadata": {},
          "execution_count": 8
        }
      ],
      "source": [
        "## create dtf\n",
        "dtf = pd.DataFrame(lst_dics)\n",
        "## filter categories\n",
        "dtf = dtf[ dtf[\"category\"].isin(['ENTERTAINMENT','POLITICS','TECH']) ][[\"category\",\"headline\"]]\n",
        "## rename columns\n",
        "dtf = dtf.rename(columns={\"category\":\"y\", \"headline\":\"text\"})\n",
        "## print 5 random rows\n",
        "dtf.sample(5)"
      ]
    },
    {
      "cell_type": "code",
      "execution_count": 9,
      "metadata": {
        "colab": {
          "base_uri": "https://localhost:8080/",
          "height": 294
        },
        "id": "nTIS4m7yhTFu",
        "outputId": "7022c2b7-e1a7-4a5a-e18a-fb24774dfb4c"
      },
      "outputs": [
        {
          "output_type": "display_data",
          "data": {
            "text/plain": [
              "<Figure size 432x288 with 1 Axes>"
            ],
            "image/png": "[encoded data removed]"
          },
          "metadata": {
            "needs_background": "light"
          }
        }
      ],
      "source": [
        "x = \"y\"\n",
        "fig, ax = plt.subplots()\n",
        "fig.suptitle(x, fontsize=12)\n",
        "dtf[x].reset_index().groupby(x).count().sort_values(by= \n",
        "       \"index\").plot(kind=\"barh\", legend=False, \n",
        "        ax=ax).grid(axis='x')\n",
        "plt.show()"
      ]
    },
    {
      "cell_type": "code",
      "execution_count": 10,
      "metadata": {
        "colab": {
          "base_uri": "https://localhost:8080/"
        },
        "id": "V3gjnLROhV_R",
        "outputId": "c00da1c9-62f5-4bd8-f5ba-978a7a22f398"
      },
      "outputs": [
        {
          "output_type": "stream",
          "name": "stdout",
          "text": [
            "Twitch Bans Gambling Sites After Streamer Scams Folks Out Of $200,000  -->  en\n"
          ]
        }
      ],
      "source": [
        "txt = dtf[\"text\"].iloc[0]\n",
        "print(txt, \" --> \", langdetect.detect(txt))"
      ]
    },
    {
      "cell_type": "code",
      "execution_count": 11,
      "metadata": {
        "colab": {
          "base_uri": "https://localhost:8080/",
          "height": 206
        },
        "id": "zAVsxfwahiPg",
        "outputId": "70a97a9c-bec2-4567-e439-0189a2b7b236"
      },
      "outputs": [
        {
          "output_type": "execute_result",
          "data": {
            "text/plain": [
              "                y                                               text lang\n",
              "13           TECH  Twitch Bans Gambling Sites After Streamer Scam...   en\n",
              "20  ENTERTAINMENT  Golden Globes Returning To NBC In January Afte...   en\n",
              "21       POLITICS  Biden Says U.S. Forces Would Defend Taiwan If ...   en\n",
              "24       POLITICS  ‘Beautiful And Sad At The Same Time’: Ukrainia...   en\n",
              "28  ENTERTAINMENT  James Cameron Says He 'Clashed' With Studio Be...   en"
            ],
            "text/html": [
              "\n",
              "  <div id=\"df-48a10e32-992b-4acf-996c-2d14746c40b0\">\n",
              "    <div class=\"colab-df-container\">\n",
              "      <div>\n",
              "<style scoped>\n",
              "    .dataframe tbody tr th:only-of-type {\n",
              "        vertical-align: middle;\n",
              "    }\n",
              "\n",
              "    .dataframe tbody tr th {\n",
              "        vertical-align: top;\n",
              "    }\n",
              "\n",
              "    .dataframe thead th {\n",
              "        text-align: right;\n",
              "    }\n",
              "</style>\n",
              "<table border=\"1\" class=\"dataframe\">\n",
              "  <thead>\n",
              "    <tr style=\"text-align: right;\">\n",
              "      <th></th>\n",
              "      <th>y</th>\n",
              "      <th>text</th>\n",
              "      <th>lang</th>\n",
              "    </tr>\n",
              "  </thead>\n",
              "  <tbody>\n",
              "    <tr>\n",
              "      <th>13</th>\n",
              "      <td>TECH</td>\n",
              "      <td>Twitch Bans Gambling Sites After Streamer Scam...</td>\n",
              "      <td>en</td>\n",
              "    </tr>\n",
              "    <tr>\n",
              "      <th>20</th>\n",
              "      <td>ENTERTAINMENT</td>\n",
              "      <td>Golden Globes Returning To NBC In January Afte...</td>\n",
              "      <td>en</td>\n",
              "    </tr>\n",
              "    <tr>\n",
              "      <th>21</th>\n",
              "      <td>POLITICS</td>\n",
              "      <td>Biden Says U.S. Forces Would Defend Taiwan If ...</td>\n",
              "      <td>en</td>\n",
              "    </tr>\n",
              "    <tr>\n",
              "      <th>24</th>\n",
              "      <td>POLITICS</td>\n",
              "      <td>‘Beautiful And Sad At The Same Time’: Ukrainia...</td>\n",
              "      <td>en</td>\n",
              "    </tr>\n",
              "    <tr>\n",
              "      <th>28</th>\n",
              "      <td>ENTERTAINMENT</td>\n",
              "      <td>James Cameron Says He 'Clashed' With Studio Be...</td>\n",
              "      <td>en</td>\n",
              "    </tr>\n",
              "  </tbody>\n",
              "</table>\n",
              "</div>\n",
              "      <button class=\"colab-df-convert\" onclick=\"convertToInteractive('df-48a10e32-992b-4acf-996c-2d14746c40b0')\"\n",
              "              title=\"Convert this dataframe to an interactive table.\"\n",
              "              style=\"display:none;\">\n",
              "        \n",
              "  <svg xmlns=\"http://www.w3.org/2000/svg\" height=\"24px\"viewBox=\"0 0 24 24\"\n",
              "       width=\"24px\">\n",
              "    <path d=\"M0 0h24v24H0V0z\" fill=\"none\"/>\n",
              "    <path d=\"M18.56 5.44l.94 2.06.94-2.06 2.06-.94-2.06-.94-.94-2.06-.94 2.06-2.06.94zm-11 1L8.5 8.5l.94-2.06 2.06-.94-2.06-.94L8.5 2.5l-.94 2.06-2.06.94zm10 10l.94 2.06.94-2.06 2.06-.94-2.06-.94-.94-2.06-.94 2.06-2.06.94z\"/><path d=\"M17.41 7.96l-1.37-1.37c-.4-.4-.92-.59-1.43-.59-.52 0-1.04.2-1.43.59L10.3 9.45l-7.72 7.72c-.78.78-.78 2.05 0 2.83L4 21.41c.39.39.9.59 1.41.59.51 0 1.02-.2 1.41-.59l7.78-7.78 2.81-2.81c.8-.78.8-2.07 0-2.86zM5.41 20L4 18.59l7.72-7.72 1.47 1.35L5.41 20z\"/>\n",
              "  </svg>\n",
              "      </button>\n",
              "      \n",
              "  <style>\n",
              "    .colab-df-container {\n",
              "      display:flex;\n",
              "      flex-wrap:wrap;\n",
              "      gap: 12px;\n",
              "    }\n",
              "\n",
              "    .colab-df-convert {\n",
              "      background-color: #E8F0FE;\n",
              "      border: none;\n",
              "      border-radius: 50%;\n",
              "      cursor: pointer;\n",
              "      display: none;\n",
              "      fill: #1967D2;\n",
              "      height: 32px;\n",
              "      padding: 0 0 0 0;\n",
              "      width: 32px;\n",
              "    }\n",
              "\n",
              "    .colab-df-convert:hover {\n",
              "      background-color: #E2EBFA;\n",
              "      box-shadow: 0px 1px 2px rgba(60, 64, 67, 0.3), 0px 1px 3px 1px rgba(60, 64, 67, 0.15);\n",
              "      fill: #174EA6;\n",
              "    }\n",
              "\n",
              "    [theme=dark] .colab-df-convert {\n",
              "      background-color: #3B4455;\n",
              "      fill: #D2E3FC;\n",
              "    }\n",
              "\n",
              "    [theme=dark] .colab-df-convert:hover {\n",
              "      background-color: #434B5C;\n",
              "      box-shadow: 0px 1px 3px 1px rgba(0, 0, 0, 0.15);\n",
              "      filter: drop-shadow(0px 1px 2px rgba(0, 0, 0, 0.3));\n",
              "      fill: #FFFFFF;\n",
              "    }\n",
              "  </style>\n",
              "\n",
              "      <script>\n",
              "        const buttonEl =\n",
              "          document.querySelector('#df-48a10e32-992b-4acf-996c-2d14746c40b0 button.colab-df-convert');\n",
              "        buttonEl.style.display =\n",
              "          google.colab.kernel.accessAllowed ? 'block' : 'none';\n",
              "\n",
              "        async function convertToInteractive(key) {\n",
              "          const element = document.querySelector('#df-48a10e32-992b-4acf-996c-2d14746c40b0');\n",
              "          const dataTable =\n",
              "            await google.colab.kernel.invokeFunction('convertToInteractive',\n",
              "                                                     [key], {});\n",
              "          if (!dataTable) return;\n",
              "\n",
              "          const docLinkHtml = 'Like what you see? Visit the ' +\n",
              "            '<a target=\"_blank\" href=https://colab.research.google.com/notebooks/data_table.ipynb>data table notebook</a>'\n",
              "            + ' to learn more about interactive tables.';\n",
              "          element.innerHTML = '';\n",
              "          dataTable['output_type'] = 'display_data';\n",
              "          await google.colab.output.renderOutput(dataTable, element);\n",
              "          const docLink = document.createElement('div');\n",
              "          docLink.innerHTML = docLinkHtml;\n",
              "          element.appendChild(docLink);\n",
              "        }\n",
              "      </script>\n",
              "    </div>\n",
              "  </div>\n",
              "  "
            ]
          },
          "metadata": {},
          "execution_count": 11
        }
      ],
      "source": [
        "dtf['lang'] = dtf[\"text\"].apply(lambda x: langdetect.detect(x) if \n",
        "                                 x.strip() != \"\" else \"\")\n",
        "dtf.head()"
      ]
    },
    {
      "cell_type": "code",
      "execution_count": 12,
      "metadata": {
        "id": "iYhFaCI8jMmd"
      },
      "outputs": [],
      "source": [
        "dtf = dtf[dtf[\"lang\"]==\"en\"]"
      ]
    },
    {
      "cell_type": "code",
      "execution_count": 13,
      "metadata": {
        "colab": {
          "base_uri": "https://localhost:8080/"
        },
        "id": "13OIPDOIkWyl",
        "outputId": "fe9d32ac-1499-4f1c-9158-20c1daf0d4ad"
      },
      "outputs": [
        {
          "output_type": "stream",
          "name": "stdout",
          "text": [
            "--- original ---\n",
            "Twitch Bans Gambling Sites After Streamer Scams Folks Out Of $200,000\n",
            "--- cleaning ---\n",
            "twitch bans gambling sites after streamer scams folks out of 200000\n",
            "--- tokenization ---\n",
            "['twitch', 'bans', 'gambling', 'sites', 'after', 'streamer', 'scams', 'folks', 'out', 'of', '200000']\n"
          ]
        }
      ],
      "source": [
        "print(\"--- original ---\")\n",
        "print(txt)\n",
        "print(\"--- cleaning ---\")\n",
        "txt = re.sub(r'[^\\w\\s]', '', str(txt).lower().strip())\n",
        "print(txt)\n",
        "print(\"--- tokenization ---\")\n",
        "txt = txt.split()\n",
        "print(txt)"
      ]
    },
    {
      "cell_type": "code",
      "execution_count": 14,
      "metadata": {
        "colab": {
          "base_uri": "https://localhost:8080/"
        },
        "id": "7ywL2Oypkoo6",
        "outputId": "a88eec65-d811-4467-d900-dca6d070a9e9"
      },
      "outputs": [
        {
          "output_type": "stream",
          "name": "stderr",
          "text": [
            "[nltk_data] Downloading package stopwords to /root/nltk_data...\n",
            "[nltk_data]   Unzipping corpora/stopwords.zip.\n"
          ]
        },
        {
          "output_type": "execute_result",
          "data": {
            "text/plain": [
              "True"
            ]
          },
          "metadata": {},
          "execution_count": 14
        }
      ],
      "source": [
        " nltk.download('stopwords')"
      ]
    },
    {
      "cell_type": "code",
      "execution_count": 15,
      "metadata": {
        "colab": {
          "base_uri": "https://localhost:8080/"
        },
        "id": "gWQlA6BQkb8F",
        "outputId": "7ffb8467-f343-48e1-bbd0-455b09c929d9"
      },
      "outputs": [
        {
          "output_type": "execute_result",
          "data": {
            "text/plain": [
              "['i',\n",
              " 'me',\n",
              " 'my',\n",
              " 'myself',\n",
              " 'we',\n",
              " 'our',\n",
              " 'ours',\n",
              " 'ourselves',\n",
              " 'you',\n",
              " \"you're\",\n",
              " \"you've\",\n",
              " \"you'll\",\n",
              " \"you'd\",\n",
              " 'your',\n",
              " 'yours',\n",
              " 'yourself',\n",
              " 'yourselves',\n",
              " 'he',\n",
              " 'him',\n",
              " 'his',\n",
              " 'himself',\n",
              " 'she',\n",
              " \"she's\",\n",
              " 'her',\n",
              " 'hers',\n",
              " 'herself',\n",
              " 'it',\n",
              " \"it's\",\n",
              " 'its',\n",
              " 'itself',\n",
              " 'they',\n",
              " 'them',\n",
              " 'their',\n",
              " 'theirs',\n",
              " 'themselves',\n",
              " 'what',\n",
              " 'which',\n",
              " 'who',\n",
              " 'whom',\n",
              " 'this',\n",
              " 'that',\n",
              " \"that'll\",\n",
              " 'these',\n",
              " 'those',\n",
              " 'am',\n",
              " 'is',\n",
              " 'are',\n",
              " 'was',\n",
              " 'were',\n",
              " 'be',\n",
              " 'been',\n",
              " 'being',\n",
              " 'have',\n",
              " 'has',\n",
              " 'had',\n",
              " 'having',\n",
              " 'do',\n",
              " 'does',\n",
              " 'did',\n",
              " 'doing',\n",
              " 'a',\n",
              " 'an',\n",
              " 'the',\n",
              " 'and',\n",
              " 'but',\n",
              " 'if',\n",
              " 'or',\n",
              " 'because',\n",
              " 'as',\n",
              " 'until',\n",
              " 'while',\n",
              " 'of',\n",
              " 'at',\n",
              " 'by',\n",
              " 'for',\n",
              " 'with',\n",
              " 'about',\n",
              " 'against',\n",
              " 'between',\n",
              " 'into',\n",
              " 'through',\n",
              " 'during',\n",
              " 'before',\n",
              " 'after',\n",
              " 'above',\n",
              " 'below',\n",
              " 'to',\n",
              " 'from',\n",
              " 'up',\n",
              " 'down',\n",
              " 'in',\n",
              " 'out',\n",
              " 'on',\n",
              " 'off',\n",
              " 'over',\n",
              " 'under',\n",
              " 'again',\n",
              " 'further',\n",
              " 'then',\n",
              " 'once',\n",
              " 'here',\n",
              " 'there',\n",
              " 'when',\n",
              " 'where',\n",
              " 'why',\n",
              " 'how',\n",
              " 'all',\n",
              " 'any',\n",
              " 'both',\n",
              " 'each',\n",
              " 'few',\n",
              " 'more',\n",
              " 'most',\n",
              " 'other',\n",
              " 'some',\n",
              " 'such',\n",
              " 'no',\n",
              " 'nor',\n",
              " 'not',\n",
              " 'only',\n",
              " 'own',\n",
              " 'same',\n",
              " 'so',\n",
              " 'than',\n",
              " 'too',\n",
              " 'very',\n",
              " 's',\n",
              " 't',\n",
              " 'can',\n",
              " 'will',\n",
              " 'just',\n",
              " 'don',\n",
              " \"don't\",\n",
              " 'should',\n",
              " \"should've\",\n",
              " 'now',\n",
              " 'd',\n",
              " 'll',\n",
              " 'm',\n",
              " 'o',\n",
              " 're',\n",
              " 've',\n",
              " 'y',\n",
              " 'ain',\n",
              " 'aren',\n",
              " \"aren't\",\n",
              " 'couldn',\n",
              " \"couldn't\",\n",
              " 'didn',\n",
              " \"didn't\",\n",
              " 'doesn',\n",
              " \"doesn't\",\n",
              " 'hadn',\n",
              " \"hadn't\",\n",
              " 'hasn',\n",
              " \"hasn't\",\n",
              " 'haven',\n",
              " \"haven't\",\n",
              " 'isn',\n",
              " \"isn't\",\n",
              " 'ma',\n",
              " 'mightn',\n",
              " \"mightn't\",\n",
              " 'mustn',\n",
              " \"mustn't\",\n",
              " 'needn',\n",
              " \"needn't\",\n",
              " 'shan',\n",
              " \"shan't\",\n",
              " 'shouldn',\n",
              " \"shouldn't\",\n",
              " 'wasn',\n",
              " \"wasn't\",\n",
              " 'weren',\n",
              " \"weren't\",\n",
              " 'won',\n",
              " \"won't\",\n",
              " 'wouldn',\n",
              " \"wouldn't\"]"
            ]
          },
          "metadata": {},
          "execution_count": 15
        }
      ],
      "source": [
        "lst_stopwords = nltk.corpus.stopwords.words(\"english\")\n",
        "lst_stopwords"
      ]
    },
    {
      "cell_type": "code",
      "execution_count": 16,
      "metadata": {
        "colab": {
          "base_uri": "https://localhost:8080/"
        },
        "id": "GzFLOTESkta4",
        "outputId": "83eb17cf-045f-4bc2-a28f-a2c161c060e8"
      },
      "outputs": [
        {
          "output_type": "stream",
          "name": "stdout",
          "text": [
            "--- remove stopwords ---\n",
            "['twitch', 'bans', 'gambling', 'sites', 'streamer', 'scams', 'folks', '200000']\n"
          ]
        }
      ],
      "source": [
        "print(\"--- remove stopwords ---\")\n",
        "txt = [word for word in txt if word not in lst_stopwords]\n",
        "print(txt)"
      ]
    },
    {
      "cell_type": "code",
      "source": [
        "nltk.download('wordnet')\n",
        "nltk.download('omw-1.4')"
      ],
      "metadata": {
        "colab": {
          "base_uri": "https://localhost:8080/"
        },
        "id": "3dhiGpOA6f3T",
        "outputId": "1ac1a73a-c5a9-4079-a8f9-c6a66c5e6b04"
      },
      "execution_count": 20,
      "outputs": [
        {
          "output_type": "stream",
          "name": "stderr",
          "text": [
            "[nltk_data] Downloading package wordnet to /root/nltk_data...\n",
            "[nltk_data]   Package wordnet is already up-to-date!\n",
            "[nltk_data] Downloading package omw-1.4 to /root/nltk_data...\n"
          ]
        },
        {
          "output_type": "execute_result",
          "data": {
            "text/plain": [
              "True"
            ]
          },
          "metadata": {},
          "execution_count": 20
        }
      ]
    },
    {
      "cell_type": "code",
      "source": [
        "print(\"--- stemming ---\")\n",
        "ps = nltk.stem.porter.PorterStemmer()\n",
        "print([ps.stem(word) for word in txt])\n",
        "print(\"--- lemmatisation ---\")\n",
        "lem = nltk.stem.wordnet.WordNetLemmatizer()\n",
        "print([lem.lemmatize(word) for word in txt])"
      ],
      "metadata": {
        "colab": {
          "base_uri": "https://localhost:8080/"
        },
        "id": "mztgrWZS0kKT",
        "outputId": "2c7f165d-73e1-464c-ebd3-df53a1deef99"
      },
      "execution_count": 21,
      "outputs": [
        {
          "output_type": "stream",
          "name": "stdout",
          "text": [
            "--- stemming ---\n",
            "['twitch', 'ban', 'gambl', 'site', 'streamer', 'scam', 'folk', '200000']\n",
            "--- lemmatisation ---\n",
            "['twitch', 'ban', 'gambling', 'site', 'streamer', 'scam', 'folk', '200000']\n"
          ]
        }
      ]
    },
    {
      "cell_type": "code",
      "source": [
        "'''\n",
        "Preprocess a string.\n",
        ":parameter\n",
        "    :param text: string - name of column containing text\n",
        "    :param lst_stopwords: list - list of stopwords to remove\n",
        "    :param flg_stemm: bool - whether stemming is to be applied\n",
        "    :param flg_lemm: bool - whether lemmitisation is to be applied\n",
        ":return\n",
        "    cleaned text\n",
        "'''\n",
        "def utils_preprocess_text(text, lst_stopwords=None, flg_stemm=False, flg_lemm=True):\n",
        "    ## clean (convert to lowercase and remove punctuations and characters and then strip)\n",
        "    text = re.sub(r'[^\\w\\s]', '', str(text).lower().strip())\n",
        "            \n",
        "    ## Tokenize (convert from string to list)\n",
        "    lst_text = text.split()\n",
        "    ## remove Stopwords\n",
        "    if lst_stopwords is not None:\n",
        "        lst_text = [word for word in lst_text if word not in \n",
        "                    lst_stopwords]\n",
        "                \n",
        "    ## Stemming (remove -ing, -ly, ...)\n",
        "    if flg_stemm == True:\n",
        "        ps = nltk.stem.porter.PorterStemmer()\n",
        "        lst_text = [ps.stem(word) for word in lst_text]\n",
        "                \n",
        "    ## Lemmatisation (convert the word into root word)\n",
        "    if flg_lemm == True:\n",
        "        lem = nltk.stem.wordnet.WordNetLemmatizer()\n",
        "        lst_text = [lem.lemmatize(word) for word in lst_text]\n",
        "            \n",
        "    ## back to string from list\n",
        "    text = \" \".join(lst_text)\n",
        "    return text"
      ],
      "metadata": {
        "id": "qNXC5UeL5HLh"
      },
      "execution_count": 25,
      "outputs": []
    },
    {
      "cell_type": "code",
      "source": [
        "dtf[\"text_clean\"] = dtf[\"text\"].apply(lambda x: utils_preprocess_text(x, lst_stopwords, flg_stemm=False, flg_lemm=True))"
      ],
      "metadata": {
        "id": "CVqCdh8W5IeP"
      },
      "execution_count": 26,
      "outputs": []
    },
    {
      "cell_type": "code",
      "source": [
        "dtf.head()"
      ],
      "metadata": {
        "colab": {
          "base_uri": "https://localhost:8080/",
          "height": 206
        },
        "id": "L5P-EHWr5OCk",
        "outputId": "acf86fc5-2b83-482a-be2a-1c9ddad32aa5"
      },
      "execution_count": 27,
      "outputs": [
        {
          "output_type": "execute_result",
          "data": {
            "text/plain": [
              "                y                                               text lang  \\\n",
              "13           TECH  Twitch Bans Gambling Sites After Streamer Scam...   en   \n",
              "20  ENTERTAINMENT  Golden Globes Returning To NBC In January Afte...   en   \n",
              "21       POLITICS  Biden Says U.S. Forces Would Defend Taiwan If ...   en   \n",
              "24       POLITICS  ‘Beautiful And Sad At The Same Time’: Ukrainia...   en   \n",
              "28  ENTERTAINMENT  James Cameron Says He 'Clashed' With Studio Be...   en   \n",
              "\n",
              "                                           text_clean  \n",
              "13  twitch ban gambling site streamer scam folk 20...  \n",
              "20     golden globe returning nbc january year offair  \n",
              "21  biden say u force would defend taiwan china in...  \n",
              "24  beautiful sad time ukrainian cultural festival...  \n",
              "28    james cameron say clashed studio avatar release  "
            ],
            "text/html": [
              "\n",
              "  <div id=\"df-353832d3-22e7-47db-859e-6c9a3d5872e3\">\n",
              "    <div class=\"colab-df-container\">\n",
              "      <div>\n",
              "<style scoped>\n",
              "    .dataframe tbody tr th:only-of-type {\n",
              "        vertical-align: middle;\n",
              "    }\n",
              "\n",
              "    .dataframe tbody tr th {\n",
              "        vertical-align: top;\n",
              "    }\n",
              "\n",
              "    .dataframe thead th {\n",
              "        text-align: right;\n",
              "    }\n",
              "</style>\n",
              "<table border=\"1\" class=\"dataframe\">\n",
              "  <thead>\n",
              "    <tr style=\"text-align: right;\">\n",
              "      <th></th>\n",
              "      <th>y</th>\n",
              "      <th>text</th>\n",
              "      <th>lang</th>\n",
              "      <th>text_clean</th>\n",
              "    </tr>\n",
              "  </thead>\n",
              "  <tbody>\n",
              "    <tr>\n",
              "      <th>13</th>\n",
              "      <td>TECH</td>\n",
              "      <td>Twitch Bans Gambling Sites After Streamer Scam...</td>\n",
              "      <td>en</td>\n",
              "      <td>twitch ban gambling site streamer scam folk 20...</td>\n",
              "    </tr>\n",
              "    <tr>\n",
              "      <th>20</th>\n",
              "      <td>ENTERTAINMENT</td>\n",
              "      <td>Golden Globes Returning To NBC In January Afte...</td>\n",
              "      <td>en</td>\n",
              "      <td>golden globe returning nbc january year offair</td>\n",
              "    </tr>\n",
              "    <tr>\n",
              "      <th>21</th>\n",
              "      <td>POLITICS</td>\n",
              "      <td>Biden Says U.S. Forces Would Defend Taiwan If ...</td>\n",
              "      <td>en</td>\n",
              "      <td>biden say u force would defend taiwan china in...</td>\n",
              "    </tr>\n",
              "    <tr>\n",
              "      <th>24</th>\n",
              "      <td>POLITICS</td>\n",
              "      <td>‘Beautiful And Sad At The Same Time’: Ukrainia...</td>\n",
              "      <td>en</td>\n",
              "      <td>beautiful sad time ukrainian cultural festival...</td>\n",
              "    </tr>\n",
              "    <tr>\n",
              "      <th>28</th>\n",
              "      <td>ENTERTAINMENT</td>\n",
              "      <td>James Cameron Says He 'Clashed' With Studio Be...</td>\n",
              "      <td>en</td>\n",
              "      <td>james cameron say clashed studio avatar release</td>\n",
              "    </tr>\n",
              "  </tbody>\n",
              "</table>\n",
              "</div>\n",
              "      <button class=\"colab-df-convert\" onclick=\"convertToInteractive('df-353832d3-22e7-47db-859e-6c9a3d5872e3')\"\n",
              "              title=\"Convert this dataframe to an interactive table.\"\n",
              "              style=\"display:none;\">\n",
              "        \n",
              "  <svg xmlns=\"http://www.w3.org/2000/svg\" height=\"24px\"viewBox=\"0 0 24 24\"\n",
              "       width=\"24px\">\n",
              "    <path d=\"M0 0h24v24H0V0z\" fill=\"none\"/>\n",
              "    <path d=\"M18.56 5.44l.94 2.06.94-2.06 2.06-.94-2.06-.94-.94-2.06-.94 2.06-2.06.94zm-11 1L8.5 8.5l.94-2.06 2.06-.94-2.06-.94L8.5 2.5l-.94 2.06-2.06.94zm10 10l.94 2.06.94-2.06 2.06-.94-2.06-.94-.94-2.06-.94 2.06-2.06.94z\"/><path d=\"M17.41 7.96l-1.37-1.37c-.4-.4-.92-.59-1.43-.59-.52 0-1.04.2-1.43.59L10.3 9.45l-7.72 7.72c-.78.78-.78 2.05 0 2.83L4 21.41c.39.39.9.59 1.41.59.51 0 1.02-.2 1.41-.59l7.78-7.78 2.81-2.81c.8-.78.8-2.07 0-2.86zM5.41 20L4 18.59l7.72-7.72 1.47 1.35L5.41 20z\"/>\n",
              "  </svg>\n",
              "      </button>\n",
              "      \n",
              "  <style>\n",
              "    .colab-df-container {\n",
              "      display:flex;\n",
              "      flex-wrap:wrap;\n",
              "      gap: 12px;\n",
              "    }\n",
              "\n",
              "    .colab-df-convert {\n",
              "      background-color: #E8F0FE;\n",
              "      border: none;\n",
              "      border-radius: 50%;\n",
              "      cursor: pointer;\n",
              "      display: none;\n",
              "      fill: #1967D2;\n",
              "      height: 32px;\n",
              "      padding: 0 0 0 0;\n",
              "      width: 32px;\n",
              "    }\n",
              "\n",
              "    .colab-df-convert:hover {\n",
              "      background-color: #E2EBFA;\n",
              "      box-shadow: 0px 1px 2px rgba(60, 64, 67, 0.3), 0px 1px 3px 1px rgba(60, 64, 67, 0.15);\n",
              "      fill: #174EA6;\n",
              "    }\n",
              "\n",
              "    [theme=dark] .colab-df-convert {\n",
              "      background-color: #3B4455;\n",
              "      fill: #D2E3FC;\n",
              "    }\n",
              "\n",
              "    [theme=dark] .colab-df-convert:hover {\n",
              "      background-color: #434B5C;\n",
              "      box-shadow: 0px 1px 3px 1px rgba(0, 0, 0, 0.15);\n",
              "      filter: drop-shadow(0px 1px 2px rgba(0, 0, 0, 0.3));\n",
              "      fill: #FFFFFF;\n",
              "    }\n",
              "  </style>\n",
              "\n",
              "      <script>\n",
              "        const buttonEl =\n",
              "          document.querySelector('#df-353832d3-22e7-47db-859e-6c9a3d5872e3 button.colab-df-convert');\n",
              "        buttonEl.style.display =\n",
              "          google.colab.kernel.accessAllowed ? 'block' : 'none';\n",
              "\n",
              "        async function convertToInteractive(key) {\n",
              "          const element = document.querySelector('#df-353832d3-22e7-47db-859e-6c9a3d5872e3');\n",
              "          const dataTable =\n",
              "            await google.colab.kernel.invokeFunction('convertToInteractive',\n",
              "                                                     [key], {});\n",
              "          if (!dataTable) return;\n",
              "\n",
              "          const docLinkHtml = 'Like what you see? Visit the ' +\n",
              "            '<a target=\"_blank\" href=https://colab.research.google.com/notebooks/data_table.ipynb>data table notebook</a>'\n",
              "            + ' to learn more about interactive tables.';\n",
              "          element.innerHTML = '';\n",
              "          dataTable['output_type'] = 'display_data';\n",
              "          await google.colab.output.renderOutput(dataTable, element);\n",
              "          const docLink = document.createElement('div');\n",
              "          docLink.innerHTML = docLinkHtml;\n",
              "          element.appendChild(docLink);\n",
              "        }\n",
              "      </script>\n",
              "    </div>\n",
              "  </div>\n",
              "  "
            ]
          },
          "metadata": {},
          "execution_count": 27
        }
      ]
    },
    {
      "cell_type": "code",
      "source": [
        "print(dtf[\"text\"].iloc[0], \" --> \", dtf[\"text_clean\"].iloc[0])"
      ],
      "metadata": {
        "colab": {
          "base_uri": "https://localhost:8080/"
        },
        "id": "bWboFJxe5RwZ",
        "outputId": "a1c57ece-1f31-4e3e-fd5a-a5a57e64e4de"
      },
      "execution_count": 28,
      "outputs": [
        {
          "output_type": "stream",
          "name": "stdout",
          "text": [
            "Twitch Bans Gambling Sites After Streamer Scams Folks Out Of $200,000  -->  twitch ban gambling site streamer scam folk 200000\n"
          ]
        }
      ]
    },
    {
      "cell_type": "code",
      "source": [
        "dtf['word_count'] = dtf[\"text\"].apply(lambda x: len(str(x).split(\" \")))\n",
        "dtf['char_count'] = dtf[\"text\"].apply(lambda x: sum(len(word) for word in str(x).split(\" \")))\n",
        "dtf['sentence_count'] = dtf[\"text\"].apply(lambda x: len(str(x).split(\".\")))\n",
        "dtf['avg_word_length'] = dtf['char_count'] / dtf['word_count']\n",
        "dtf['avg_sentence_lenght'] = dtf['word_count'] / dtf['sentence_count']\n",
        "dtf.head()"
      ],
      "metadata": {
        "colab": {
          "base_uri": "https://localhost:8080/",
          "height": 337
        },
        "id": "mf62JEBH5Vhz",
        "outputId": "fafcda4e-59b3-4a31-f185-ff65011d3c8e"
      },
      "execution_count": 29,
      "outputs": [
        {
          "output_type": "execute_result",
          "data": {
            "text/plain": [
              "                y                                               text lang  \\\n",
              "13           TECH  Twitch Bans Gambling Sites After Streamer Scam...   en   \n",
              "20  ENTERTAINMENT  Golden Globes Returning To NBC In January Afte...   en   \n",
              "21       POLITICS  Biden Says U.S. Forces Would Defend Taiwan If ...   en   \n",
              "24       POLITICS  ‘Beautiful And Sad At The Same Time’: Ukrainia...   en   \n",
              "28  ENTERTAINMENT  James Cameron Says He 'Clashed' With Studio Be...   en   \n",
              "\n",
              "                                           text_clean  word_count  char_count  \\\n",
              "13  twitch ban gambling site streamer scam folk 20...          11          59   \n",
              "20     golden globe returning nbc january year offair          10          51   \n",
              "21  biden say u force would defend taiwan china in...          10          50   \n",
              "24  beautiful sad time ukrainian cultural festival...          17          85   \n",
              "28    james cameron say clashed studio avatar release          10          58   \n",
              "\n",
              "    sentence_count  avg_word_length  avg_sentence_lenght  \n",
              "13               1         5.363636            11.000000  \n",
              "20               1         5.100000            10.000000  \n",
              "21               3         5.000000             3.333333  \n",
              "24               1         5.000000            17.000000  \n",
              "28               1         5.800000            10.000000  "
            ],
            "text/html": [
              "\n",
              "  <div id=\"df-205c366c-b890-4b13-aa05-4ce2d60a00ec\">\n",
              "    <div class=\"colab-df-container\">\n",
              "      <div>\n",
              "<style scoped>\n",
              "    .dataframe tbody tr th:only-of-type {\n",
              "        vertical-align: middle;\n",
              "    }\n",
              "\n",
              "    .dataframe tbody tr th {\n",
              "        vertical-align: top;\n",
              "    }\n",
              "\n",
              "    .dataframe thead th {\n",
              "        text-align: right;\n",
              "    }\n",
              "</style>\n",
              "<table border=\"1\" class=\"dataframe\">\n",
              "  <thead>\n",
              "    <tr style=\"text-align: right;\">\n",
              "      <th></th>\n",
              "      <th>y</th>\n",
              "      <th>text</th>\n",
              "      <th>lang</th>\n",
              "      <th>text_clean</th>\n",
              "      <th>word_count</th>\n",
              "      <th>char_count</th>\n",
              "      <th>sentence_count</th>\n",
              "      <th>avg_word_length</th>\n",
              "      <th>avg_sentence_lenght</th>\n",
              "    </tr>\n",
              "  </thead>\n",
              "  <tbody>\n",
              "    <tr>\n",
              "      <th>13</th>\n",
              "      <td>TECH</td>\n",
              "      <td>Twitch Bans Gambling Sites After Streamer Scam...</td>\n",
              "      <td>en</td>\n",
              "      <td>twitch ban gambling site streamer scam folk 20...</td>\n",
              "      <td>11</td>\n",
              "      <td>59</td>\n",
              "      <td>1</td>\n",
              "      <td>5.363636</td>\n",
              "      <td>11.000000</td>\n",
              "    </tr>\n",
              "    <tr>\n",
              "      <th>20</th>\n",
              "      <td>ENTERTAINMENT</td>\n",
              "      <td>Golden Globes Returning To NBC In January Afte...</td>\n",
              "      <td>en</td>\n",
              "      <td>golden globe returning nbc january year offair</td>\n",
              "      <td>10</td>\n",
              "      <td>51</td>\n",
              "      <td>1</td>\n",
              "      <td>5.100000</td>\n",
              "      <td>10.000000</td>\n",
              "    </tr>\n",
              "    <tr>\n",
              "      <th>21</th>\n",
              "      <td>POLITICS</td>\n",
              "      <td>Biden Says U.S. Forces Would Defend Taiwan If ...</td>\n",
              "      <td>en</td>\n",
              "      <td>biden say u force would defend taiwan china in...</td>\n",
              "      <td>10</td>\n",
              "      <td>50</td>\n",
              "      <td>3</td>\n",
              "      <td>5.000000</td>\n",
              "      <td>3.333333</td>\n",
              "    </tr>\n",
              "    <tr>\n",
              "      <th>24</th>\n",
              "      <td>POLITICS</td>\n",
              "      <td>‘Beautiful And Sad At The Same Time’: Ukrainia...</td>\n",
              "      <td>en</td>\n",
              "      <td>beautiful sad time ukrainian cultural festival...</td>\n",
              "      <td>17</td>\n",
              "      <td>85</td>\n",
              "      <td>1</td>\n",
              "      <td>5.000000</td>\n",
              "      <td>17.000000</td>\n",
              "    </tr>\n",
              "    <tr>\n",
              "      <th>28</th>\n",
              "      <td>ENTERTAINMENT</td>\n",
              "      <td>James Cameron Says He 'Clashed' With Studio Be...</td>\n",
              "      <td>en</td>\n",
              "      <td>james cameron say clashed studio avatar release</td>\n",
              "      <td>10</td>\n",
              "      <td>58</td>\n",
              "      <td>1</td>\n",
              "      <td>5.800000</td>\n",
              "      <td>10.000000</td>\n",
              "    </tr>\n",
              "  </tbody>\n",
              "</table>\n",
              "</div>\n",
              "      <button class=\"colab-df-convert\" onclick=\"convertToInteractive('df-205c366c-b890-4b13-aa05-4ce2d60a00ec')\"\n",
              "              title=\"Convert this dataframe to an interactive table.\"\n",
              "              style=\"display:none;\">\n",
              "        \n",
              "  <svg xmlns=\"http://www.w3.org/2000/svg\" height=\"24px\"viewBox=\"0 0 24 24\"\n",
              "       width=\"24px\">\n",
              "    <path d=\"M0 0h24v24H0V0z\" fill=\"none\"/>\n",
              "    <path d=\"M18.56 5.44l.94 2.06.94-2.06 2.06-.94-2.06-.94-.94-2.06-.94 2.06-2.06.94zm-11 1L8.5 8.5l.94-2.06 2.06-.94-2.06-.94L8.5 2.5l-.94 2.06-2.06.94zm10 10l.94 2.06.94-2.06 2.06-.94-2.06-.94-.94-2.06-.94 2.06-2.06.94z\"/><path d=\"M17.41 7.96l-1.37-1.37c-.4-.4-.92-.59-1.43-.59-.52 0-1.04.2-1.43.59L10.3 9.45l-7.72 7.72c-.78.78-.78 2.05 0 2.83L4 21.41c.39.39.9.59 1.41.59.51 0 1.02-.2 1.41-.59l7.78-7.78 2.81-2.81c.8-.78.8-2.07 0-2.86zM5.41 20L4 18.59l7.72-7.72 1.47 1.35L5.41 20z\"/>\n",
              "  </svg>\n",
              "      </button>\n",
              "      \n",
              "  <style>\n",
              "    .colab-df-container {\n",
              "      display:flex;\n",
              "      flex-wrap:wrap;\n",
              "      gap: 12px;\n",
              "    }\n",
              "\n",
              "    .colab-df-convert {\n",
              "      background-color: #E8F0FE;\n",
              "      border: none;\n",
              "      border-radius: 50%;\n",
              "      cursor: pointer;\n",
              "      display: none;\n",
              "      fill: #1967D2;\n",
              "      height: 32px;\n",
              "      padding: 0 0 0 0;\n",
              "      width: 32px;\n",
              "    }\n",
              "\n",
              "    .colab-df-convert:hover {\n",
              "      background-color: #E2EBFA;\n",
              "      box-shadow: 0px 1px 2px rgba(60, 64, 67, 0.3), 0px 1px 3px 1px rgba(60, 64, 67, 0.15);\n",
              "      fill: #174EA6;\n",
              "    }\n",
              "\n",
              "    [theme=dark] .colab-df-convert {\n",
              "      background-color: #3B4455;\n",
              "      fill: #D2E3FC;\n",
              "    }\n",
              "\n",
              "    [theme=dark] .colab-df-convert:hover {\n",
              "      background-color: #434B5C;\n",
              "      box-shadow: 0px 1px 3px 1px rgba(0, 0, 0, 0.15);\n",
              "      filter: drop-shadow(0px 1px 2px rgba(0, 0, 0, 0.3));\n",
              "      fill: #FFFFFF;\n",
              "    }\n",
              "  </style>\n",
              "\n",
              "      <script>\n",
              "        const buttonEl =\n",
              "          document.querySelector('#df-205c366c-b890-4b13-aa05-4ce2d60a00ec button.colab-df-convert');\n",
              "        buttonEl.style.display =\n",
              "          google.colab.kernel.accessAllowed ? 'block' : 'none';\n",
              "\n",
              "        async function convertToInteractive(key) {\n",
              "          const element = document.querySelector('#df-205c366c-b890-4b13-aa05-4ce2d60a00ec');\n",
              "          const dataTable =\n",
              "            await google.colab.kernel.invokeFunction('convertToInteractive',\n",
              "                                                     [key], {});\n",
              "          if (!dataTable) return;\n",
              "\n",
              "          const docLinkHtml = 'Like what you see? Visit the ' +\n",
              "            '<a target=\"_blank\" href=https://colab.research.google.com/notebooks/data_table.ipynb>data table notebook</a>'\n",
              "            + ' to learn more about interactive tables.';\n",
              "          element.innerHTML = '';\n",
              "          dataTable['output_type'] = 'display_data';\n",
              "          await google.colab.output.renderOutput(dataTable, element);\n",
              "          const docLink = document.createElement('div');\n",
              "          docLink.innerHTML = docLinkHtml;\n",
              "          element.appendChild(docLink);\n",
              "        }\n",
              "      </script>\n",
              "    </div>\n",
              "  </div>\n",
              "  "
            ]
          },
          "metadata": {},
          "execution_count": 29
        }
      ]
    },
    {
      "cell_type": "code",
      "source": [
        "x, y = \"char_count\", \"y\"\n",
        "fig, ax = plt.subplots(nrows=1, ncols=2)\n",
        "fig.suptitle(x, fontsize=12)\n",
        "for i in dtf[y].unique():\n",
        "    sns.distplot(dtf[dtf[y]==i][x], hist=True, kde=False, \n",
        "                 bins=10, hist_kws={\"alpha\":0.8}, \n",
        "                 axlabel=\"histogram\", ax=ax[0])\n",
        "    sns.distplot(dtf[dtf[y]==i][x], hist=False, kde=True, \n",
        "                 kde_kws={\"shade\":True}, axlabel=\"density\",   \n",
        "                 ax=ax[1])\n",
        "ax[0].grid(True)\n",
        "ax[0].legend(dtf[y].unique())\n",
        "ax[1].grid(True)\n",
        "plt.show()"
      ],
      "metadata": {
        "colab": {
          "base_uri": "https://localhost:8080/",
          "height": 536
        },
        "id": "WIxHCLgt5Y7I",
        "outputId": "ddf7dd0d-da5e-4f5a-8d59-b37667426455"
      },
      "execution_count": 30,
      "outputs": [
        {
          "output_type": "stream",
          "name": "stderr",
          "text": [
            "/usr/local/lib/python3.7/dist-packages/seaborn/distributions.py:2619: FutureWarning: `distplot` is a deprecated function and will be removed in a future version. Please adapt your code to use either `displot` (a figure-level function with similar flexibility) or `histplot` (an axes-level function for histograms).\n",
            "  warnings.warn(msg, FutureWarning)\n",
            "/usr/local/lib/python3.7/dist-packages/seaborn/distributions.py:2619: FutureWarning: `distplot` is a deprecated function and will be removed in a future version. Please adapt your code to use either `displot` (a figure-level function with similar flexibility) or `kdeplot` (an axes-level function for kernel density plots).\n",
            "  warnings.warn(msg, FutureWarning)\n",
            "/usr/local/lib/python3.7/dist-packages/seaborn/distributions.py:2619: FutureWarning: `distplot` is a deprecated function and will be removed in a future version. Please adapt your code to use either `displot` (a figure-level function with similar flexibility) or `histplot` (an axes-level function for histograms).\n",
            "  warnings.warn(msg, FutureWarning)\n",
            "/usr/local/lib/python3.7/dist-packages/seaborn/distributions.py:2619: FutureWarning: `distplot` is a deprecated function and will be removed in a future version. Please adapt your code to use either `displot` (a figure-level function with similar flexibility) or `kdeplot` (an axes-level function for kernel density plots).\n",
            "  warnings.warn(msg, FutureWarning)\n",
            "/usr/local/lib/python3.7/dist-packages/seaborn/distributions.py:2619: FutureWarning: `distplot` is a deprecated function and will be removed in a future version. Please adapt your code to use either `displot` (a figure-level function with similar flexibility) or `histplot` (an axes-level function for histograms).\n",
            "  warnings.warn(msg, FutureWarning)\n",
            "/usr/local/lib/python3.7/dist-packages/seaborn/distributions.py:2619: FutureWarning: `distplot` is a deprecated function and will be removed in a future version. Please adapt your code to use either `displot` (a figure-level function with similar flexibility) or `kdeplot` (an axes-level function for kernel density plots).\n",
            "  warnings.warn(msg, FutureWarning)\n"
          ]
        },
        {
          "output_type": "display_data",
          "data": {
            "text/plain": [
              "<Figure size 432x288 with 2 Axes>"
            ],
            "image/png": "[encoded data removed]"
          },
          "metadata": {
            "needs_background": "light"
          }
        }
      ]
    },
    {
      "cell_type": "code",
      "source": [
        "dtf[\"sentiment\"] = dtf[\"text\"].apply(lambda x: \n",
        "                   TextBlob(x).sentiment.polarity)\n",
        "dtf.head()"
      ],
      "metadata": {
        "colab": {
          "base_uri": "https://localhost:8080/",
          "height": 337
        },
        "id": "ktZdaS2g5dH1",
        "outputId": "704c8781-e1c3-4444-f398-adca31a5deb0"
      },
      "execution_count": 33,
      "outputs": [
        {
          "output_type": "execute_result",
          "data": {
            "text/plain": [
              "                y                                               text lang  \\\n",
              "13           TECH  Twitch Bans Gambling Sites After Streamer Scam...   en   \n",
              "20  ENTERTAINMENT  Golden Globes Returning To NBC In January Afte...   en   \n",
              "21       POLITICS  Biden Says U.S. Forces Would Defend Taiwan If ...   en   \n",
              "24       POLITICS  ‘Beautiful And Sad At The Same Time’: Ukrainia...   en   \n",
              "28  ENTERTAINMENT  James Cameron Says He 'Clashed' With Studio Be...   en   \n",
              "\n",
              "                                           text_clean  word_count  char_count  \\\n",
              "13  twitch ban gambling site streamer scam folk 20...          11          59   \n",
              "20     golden globe returning nbc january year offair          10          51   \n",
              "21  biden say u force would defend taiwan china in...          10          50   \n",
              "24  beautiful sad time ukrainian cultural festival...          17          85   \n",
              "28    james cameron say clashed studio avatar release          10          58   \n",
              "\n",
              "    sentence_count  avg_word_length  avg_sentence_lenght  sentiment  \n",
              "13               1         5.363636            11.000000     0.0000  \n",
              "20               1         5.100000            10.000000     0.3000  \n",
              "21               3         5.000000             3.333333     0.0000  \n",
              "24               1         5.000000            17.000000     0.1125  \n",
              "28               1         5.800000            10.000000     0.0000  "
            ],
            "text/html": [
              "\n",
              "  <div id=\"df-1838a2d4-e7c5-4d71-a2d3-cc5703dbb01a\">\n",
              "    <div class=\"colab-df-container\">\n",
              "      <div>\n",
              "<style scoped>\n",
              "    .dataframe tbody tr th:only-of-type {\n",
              "        vertical-align: middle;\n",
              "    }\n",
              "\n",
              "    .dataframe tbody tr th {\n",
              "        vertical-align: top;\n",
              "    }\n",
              "\n",
              "    .dataframe thead th {\n",
              "        text-align: right;\n",
              "    }\n",
              "</style>\n",
              "<table border=\"1\" class=\"dataframe\">\n",
              "  <thead>\n",
              "    <tr style=\"text-align: right;\">\n",
              "      <th></th>\n",
              "      <th>y</th>\n",
              "      <th>text</th>\n",
              "      <th>lang</th>\n",
              "      <th>text_clean</th>\n",
              "      <th>word_count</th>\n",
              "      <th>char_count</th>\n",
              "      <th>sentence_count</th>\n",
              "      <th>avg_word_length</th>\n",
              "      <th>avg_sentence_lenght</th>\n",
              "      <th>sentiment</th>\n",
              "    </tr>\n",
              "  </thead>\n",
              "  <tbody>\n",
              "    <tr>\n",
              "      <th>13</th>\n",
              "      <td>TECH</td>\n",
              "      <td>Twitch Bans Gambling Sites After Streamer Scam...</td>\n",
              "      <td>en</td>\n",
              "      <td>twitch ban gambling site streamer scam folk 20...</td>\n",
              "      <td>11</td>\n",
              "      <td>59</td>\n",
              "      <td>1</td>\n",
              "      <td>5.363636</td>\n",
              "      <td>11.000000</td>\n",
              "      <td>0.0000</td>\n",
              "    </tr>\n",
              "    <tr>\n",
              "      <th>20</th>\n",
              "      <td>ENTERTAINMENT</td>\n",
              "      <td>Golden Globes Returning To NBC In January Afte...</td>\n",
              "      <td>en</td>\n",
              "      <td>golden globe returning nbc january year offair</td>\n",
              "      <td>10</td>\n",
              "      <td>51</td>\n",
              "      <td>1</td>\n",
              "      <td>5.100000</td>\n",
              "      <td>10.000000</td>\n",
              "      <td>0.3000</td>\n",
              "    </tr>\n",
              "    <tr>\n",
              "      <th>21</th>\n",
              "      <td>POLITICS</td>\n",
              "      <td>Biden Says U.S. Forces Would Defend Taiwan If ...</td>\n",
              "      <td>en</td>\n",
              "      <td>biden say u force would defend taiwan china in...</td>\n",
              "      <td>10</td>\n",
              "      <td>50</td>\n",
              "      <td>3</td>\n",
              "      <td>5.000000</td>\n",
              "      <td>3.333333</td>\n",
              "      <td>0.0000</td>\n",
              "    </tr>\n",
              "    <tr>\n",
              "      <th>24</th>\n",
              "      <td>POLITICS</td>\n",
              "      <td>‘Beautiful And Sad At The Same Time’: Ukrainia...</td>\n",
              "      <td>en</td>\n",
              "      <td>beautiful sad time ukrainian cultural festival...</td>\n",
              "      <td>17</td>\n",
              "      <td>85</td>\n",
              "      <td>1</td>\n",
              "      <td>5.000000</td>\n",
              "      <td>17.000000</td>\n",
              "      <td>0.1125</td>\n",
              "    </tr>\n",
              "    <tr>\n",
              "      <th>28</th>\n",
              "      <td>ENTERTAINMENT</td>\n",
              "      <td>James Cameron Says He 'Clashed' With Studio Be...</td>\n",
              "      <td>en</td>\n",
              "      <td>james cameron say clashed studio avatar release</td>\n",
              "      <td>10</td>\n",
              "      <td>58</td>\n",
              "      <td>1</td>\n",
              "      <td>5.800000</td>\n",
              "      <td>10.000000</td>\n",
              "      <td>0.0000</td>\n",
              "    </tr>\n",
              "  </tbody>\n",
              "</table>\n",
              "</div>\n",
              "      <button class=\"colab-df-convert\" onclick=\"convertToInteractive('df-1838a2d4-e7c5-4d71-a2d3-cc5703dbb01a')\"\n",
              "              title=\"Convert this dataframe to an interactive table.\"\n",
              "              style=\"display:none;\">\n",
              "        \n",
              "  <svg xmlns=\"http://www.w3.org/2000/svg\" height=\"24px\"viewBox=\"0 0 24 24\"\n",
              "       width=\"24px\">\n",
              "    <path d=\"M0 0h24v24H0V0z\" fill=\"none\"/>\n",
              "    <path d=\"M18.56 5.44l.94 2.06.94-2.06 2.06-.94-2.06-.94-.94-2.06-.94 2.06-2.06.94zm-11 1L8.5 8.5l.94-2.06 2.06-.94-2.06-.94L8.5 2.5l-.94 2.06-2.06.94zm10 10l.94 2.06.94-2.06 2.06-.94-2.06-.94-.94-2.06-.94 2.06-2.06.94z\"/><path d=\"M17.41 7.96l-1.37-1.37c-.4-.4-.92-.59-1.43-.59-.52 0-1.04.2-1.43.59L10.3 9.45l-7.72 7.72c-.78.78-.78 2.05 0 2.83L4 21.41c.39.39.9.59 1.41.59.51 0 1.02-.2 1.41-.59l7.78-7.78 2.81-2.81c.8-.78.8-2.07 0-2.86zM5.41 20L4 18.59l7.72-7.72 1.47 1.35L5.41 20z\"/>\n",
              "  </svg>\n",
              "      </button>\n",
              "      \n",
              "  <style>\n",
              "    .colab-df-container {\n",
              "      display:flex;\n",
              "      flex-wrap:wrap;\n",
              "      gap: 12px;\n",
              "    }\n",
              "\n",
              "    .colab-df-convert {\n",
              "      background-color: #E8F0FE;\n",
              "      border: none;\n",
              "      border-radius: 50%;\n",
              "      cursor: pointer;\n",
              "      display: none;\n",
              "      fill: #1967D2;\n",
              "      height: 32px;\n",
              "      padding: 0 0 0 0;\n",
              "      width: 32px;\n",
              "    }\n",
              "\n",
              "    .colab-df-convert:hover {\n",
              "      background-color: #E2EBFA;\n",
              "      box-shadow: 0px 1px 2px rgba(60, 64, 67, 0.3), 0px 1px 3px 1px rgba(60, 64, 67, 0.15);\n",
              "      fill: #174EA6;\n",
              "    }\n",
              "\n",
              "    [theme=dark] .colab-df-convert {\n",
              "      background-color: #3B4455;\n",
              "      fill: #D2E3FC;\n",
              "    }\n",
              "\n",
              "    [theme=dark] .colab-df-convert:hover {\n",
              "      background-color: #434B5C;\n",
              "      box-shadow: 0px 1px 3px 1px rgba(0, 0, 0, 0.15);\n",
              "      filter: drop-shadow(0px 1px 2px rgba(0, 0, 0, 0.3));\n",
              "      fill: #FFFFFF;\n",
              "    }\n",
              "  </style>\n",
              "\n",
              "      <script>\n",
              "        const buttonEl =\n",
              "          document.querySelector('#df-1838a2d4-e7c5-4d71-a2d3-cc5703dbb01a button.colab-df-convert');\n",
              "        buttonEl.style.display =\n",
              "          google.colab.kernel.accessAllowed ? 'block' : 'none';\n",
              "\n",
              "        async function convertToInteractive(key) {\n",
              "          const element = document.querySelector('#df-1838a2d4-e7c5-4d71-a2d3-cc5703dbb01a');\n",
              "          const dataTable =\n",
              "            await google.colab.kernel.invokeFunction('convertToInteractive',\n",
              "                                                     [key], {});\n",
              "          if (!dataTable) return;\n",
              "\n",
              "          const docLinkHtml = 'Like what you see? Visit the ' +\n",
              "            '<a target=\"_blank\" href=https://colab.research.google.com/notebooks/data_table.ipynb>data table notebook</a>'\n",
              "            + ' to learn more about interactive tables.';\n",
              "          element.innerHTML = '';\n",
              "          dataTable['output_type'] = 'display_data';\n",
              "          await google.colab.output.renderOutput(dataTable, element);\n",
              "          const docLink = document.createElement('div');\n",
              "          docLink.innerHTML = docLinkHtml;\n",
              "          element.appendChild(docLink);\n",
              "        }\n",
              "      </script>\n",
              "    </div>\n",
              "  </div>\n",
              "  "
            ]
          },
          "metadata": {},
          "execution_count": 33
        }
      ]
    },
    {
      "cell_type": "code",
      "source": [
        "print(dtf[\"text\"].iloc[0], \" --> \", dtf[\"sentiment\"].iloc[0])"
      ],
      "metadata": {
        "colab": {
          "base_uri": "https://localhost:8080/"
        },
        "id": "ZUWhQ1If5f8r",
        "outputId": "c720ef03-88c7-4ba3-d4ec-4de2ab8a9412"
      },
      "execution_count": 34,
      "outputs": [
        {
          "output_type": "stream",
          "name": "stdout",
          "text": [
            "Twitch Bans Gambling Sites After Streamer Scams Folks Out Of $200,000  -->  0.0\n"
          ]
        }
      ]
    },
    {
      "cell_type": "code",
      "source": [
        "pip install Spacy"
      ],
      "metadata": {
        "colab": {
          "base_uri": "https://localhost:8080/"
        },
        "id": "oVTyC_Ty7YxC",
        "outputId": "7c77644e-7b20-4b52-f849-19436947be6a"
      },
      "execution_count": 36,
      "outputs": [
        {
          "output_type": "stream",
          "name": "stdout",
          "text": [
            "Looking in indexes: https://pypi.org/simple, https://us-python.pkg.dev/colab-wheels/public/simple/\n",
            "Requirement already satisfied: Spacy in /usr/local/lib/python3.7/dist-packages (3.4.1)\n",
            "Requirement already satisfied: typer<0.5.0,>=0.3.0 in /usr/local/lib/python3.7/dist-packages (from Spacy) (0.4.2)\n",
            "Requirement already satisfied: murmurhash<1.1.0,>=0.28.0 in /usr/local/lib/python3.7/dist-packages (from Spacy) (1.0.9)\n",
            "Requirement already satisfied: spacy-loggers<2.0.0,>=1.0.0 in /usr/local/lib/python3.7/dist-packages (from Spacy) (1.0.3)\n",
            "Requirement already satisfied: srsly<3.0.0,>=2.4.3 in /usr/local/lib/python3.7/dist-packages (from Spacy) (2.4.4)\n",
            "Requirement already satisfied: thinc<8.2.0,>=8.1.0 in /usr/local/lib/python3.7/dist-packages (from Spacy) (8.1.4)\n",
            "Requirement already satisfied: packaging>=20.0 in /usr/local/lib/python3.7/dist-packages (from Spacy) (21.3)\n",
            "Requirement already satisfied: wasabi<1.1.0,>=0.9.1 in /usr/local/lib/python3.7/dist-packages (from Spacy) (0.10.1)\n",
            "Requirement already satisfied: jinja2 in /usr/local/lib/python3.7/dist-packages (from Spacy) (2.11.3)\n",
            "Requirement already satisfied: numpy>=1.15.0 in /usr/local/lib/python3.7/dist-packages (from Spacy) (1.21.6)\n",
            "Requirement already satisfied: tqdm<5.0.0,>=4.38.0 in /usr/local/lib/python3.7/dist-packages (from Spacy) (4.64.1)\n",
            "Requirement already satisfied: setuptools in /usr/local/lib/python3.7/dist-packages (from Spacy) (57.4.0)\n",
            "Requirement already satisfied: pydantic!=1.8,!=1.8.1,<1.10.0,>=1.7.4 in /usr/local/lib/python3.7/dist-packages (from Spacy) (1.9.2)\n",
            "Requirement already satisfied: spacy-legacy<3.1.0,>=3.0.9 in /usr/local/lib/python3.7/dist-packages (from Spacy) (3.0.10)\n",
            "Requirement already satisfied: langcodes<4.0.0,>=3.2.0 in /usr/local/lib/python3.7/dist-packages (from Spacy) (3.3.0)\n",
            "Requirement already satisfied: cymem<2.1.0,>=2.0.2 in /usr/local/lib/python3.7/dist-packages (from Spacy) (2.0.7)\n",
            "Requirement already satisfied: typing-extensions<4.2.0,>=3.7.4 in /usr/local/lib/python3.7/dist-packages (from Spacy) (4.1.1)\n",
            "Requirement already satisfied: catalogue<2.1.0,>=2.0.6 in /usr/local/lib/python3.7/dist-packages (from Spacy) (2.0.8)\n",
            "Requirement already satisfied: preshed<3.1.0,>=3.0.2 in /usr/local/lib/python3.7/dist-packages (from Spacy) (3.0.8)\n",
            "Requirement already satisfied: pathy>=0.3.5 in /usr/local/lib/python3.7/dist-packages (from Spacy) (0.6.2)\n",
            "Requirement already satisfied: requests<3.0.0,>=2.13.0 in /usr/local/lib/python3.7/dist-packages (from Spacy) (2.23.0)\n",
            "Requirement already satisfied: zipp>=0.5 in /usr/local/lib/python3.7/dist-packages (from catalogue<2.1.0,>=2.0.6->Spacy) (3.9.0)\n",
            "Requirement already satisfied: pyparsing!=3.0.5,>=2.0.2 in /usr/local/lib/python3.7/dist-packages (from packaging>=20.0->Spacy) (3.0.9)\n",
            "Requirement already satisfied: smart-open<6.0.0,>=5.2.1 in /usr/local/lib/python3.7/dist-packages (from pathy>=0.3.5->Spacy) (5.2.1)\n",
            "Requirement already satisfied: urllib3!=1.25.0,!=1.25.1,<1.26,>=1.21.1 in /usr/local/lib/python3.7/dist-packages (from requests<3.0.0,>=2.13.0->Spacy) (1.24.3)\n",
            "Requirement already satisfied: idna<3,>=2.5 in /usr/local/lib/python3.7/dist-packages (from requests<3.0.0,>=2.13.0->Spacy) (2.10)\n",
            "Requirement already satisfied: chardet<4,>=3.0.2 in /usr/local/lib/python3.7/dist-packages (from requests<3.0.0,>=2.13.0->Spacy) (3.0.4)\n",
            "Requirement already satisfied: certifi>=2017.4.17 in /usr/local/lib/python3.7/dist-packages (from requests<3.0.0,>=2.13.0->Spacy) (2022.9.24)\n",
            "Requirement already satisfied: confection<1.0.0,>=0.0.1 in /usr/local/lib/python3.7/dist-packages (from thinc<8.2.0,>=8.1.0->Spacy) (0.0.3)\n",
            "Requirement already satisfied: blis<0.8.0,>=0.7.8 in /usr/local/lib/python3.7/dist-packages (from thinc<8.2.0,>=8.1.0->Spacy) (0.7.8)\n",
            "Requirement already satisfied: click<9.0.0,>=7.1.1 in /usr/local/lib/python3.7/dist-packages (from typer<0.5.0,>=0.3.0->Spacy) (7.1.2)\n",
            "Requirement already satisfied: MarkupSafe>=0.23 in /usr/local/lib/python3.7/dist-packages (from jinja2->Spacy) (2.0.1)\n"
          ]
        }
      ]
    },
    {
      "cell_type": "code",
      "source": [
        "import spacy.cli\n",
        "spacy.cli.download(\"en_core_web_lg\")"
      ],
      "metadata": {
        "colab": {
          "base_uri": "https://localhost:8080/"
        },
        "id": "2cjPofyp-twr",
        "outputId": "4bb2ec01-b2ad-4b3d-dc87-f627fe110fea"
      },
      "execution_count": 49,
      "outputs": [
        {
          "output_type": "stream",
          "name": "stdout",
          "text": [
            "\u001b[38;5;2m✔ Download and installation successful\u001b[0m\n",
            "You can now load the package via spacy.load('en_core_web_lg')\n"
          ]
        }
      ]
    },
    {
      "cell_type": "code",
      "source": [
        "## call model\n",
        "import spacy\n",
        "ner = spacy.load(\"en_core_web_lg\")\n",
        "## tag text\n",
        "txt = dtf[\"text\"].iloc[0]\n",
        "doc = ner(txt)\n",
        "## display result\n",
        "spacy.displacy.render(doc, style=\"ent\")"
      ],
      "metadata": {
        "colab": {
          "base_uri": "https://localhost:8080/",
          "height": 70
        },
        "id": "frfrO31v5isk",
        "outputId": "9baab6d0-e57b-4324-b462-6f94de4d52f4"
      },
      "execution_count": 50,
      "outputs": [
        {
          "output_type": "execute_result",
          "data": {
            "text/plain": [
              "'<div class=\"entities\" style=\"line-height: 2.5; direction: ltr\">Twitch Bans Gambling Sites After Streamer Scams Folks Out Of $\\n<mark class=\"entity\" style=\"background: #e4e7d2; padding: 0.45em 0.6em; margin: 0 0.25em; line-height: 1; border-radius: 0.35em;\">\\n    200,000\\n    <span style=\"font-size: 0.8em; font-weight: bold; line-height: 1; border-radius: 0.35em; vertical-align: middle; margin-left: 0.5rem\">MONEY</span>\\n</mark>\\n</div>'"
            ],
            "application/vnd.google.colaboratory.intrinsic+json": {
              "type": "string"
            }
          },
          "metadata": {},
          "execution_count": 50
        }
      ]
    },
    {
      "cell_type": "code",
      "source": [
        "## tag text and exctract tags into a list\n",
        "dtf[\"tags\"] = dtf[\"text\"].apply(lambda x: [(tag.text, tag.label_) \n",
        "                                for tag in ner(x).ents] )\n",
        "## utils function to count the element of a list\n",
        "def utils_lst_count(lst):\n",
        "    dic_counter = collections.Counter()\n",
        "    for x in lst:\n",
        "        dic_counter[x] += 1\n",
        "    dic_counter = collections.OrderedDict( \n",
        "                     sorted(dic_counter.items(), \n",
        "                     key=lambda x: x[1], reverse=True))\n",
        "    lst_count = [ {key:value} for key,value in dic_counter.items() ]\n",
        "    return lst_count\n",
        "\n",
        "## count tags\n",
        "dtf[\"tags\"] = dtf[\"tags\"].apply(lambda x: utils_lst_count(x))\n",
        "\n",
        "## utils function create new column for each tag category\n",
        "def utils_ner_features(lst_dics_tuples, tag):\n",
        "    if len(lst_dics_tuples) > 0:\n",
        "        tag_type = []\n",
        "        for dic_tuples in lst_dics_tuples:\n",
        "            for tuple in dic_tuples:\n",
        "                type, n = tuple[1], dic_tuples[tuple]\n",
        "                tag_type = tag_type + [type]*n\n",
        "                dic_counter = collections.Counter()\n",
        "                for x in tag_type:\n",
        "                    dic_counter[x] += 1\n",
        "        return dic_counter[tag]\n",
        "    else:\n",
        "        return 0\n",
        "\n",
        "## extract features\n",
        "tags_set = []\n",
        "for lst in dtf[\"tags\"].tolist():\n",
        "     for dic in lst:\n",
        "          for k in dic.keys():\n",
        "              tags_set.append(k[1])\n",
        "tags_set = list(set(tags_set))\n",
        "for feature in tags_set:\n",
        "     dtf[\"tags_\"+feature] = dtf[\"tags\"].apply(lambda x: \n",
        "                             utils_ner_features(x, feature))\n",
        "\n",
        "## print result\n",
        "dtf.head()"
      ],
      "metadata": {
        "colab": {
          "base_uri": "https://localhost:8080/",
          "height": 803
        },
        "id": "TCVHdFg45mGf",
        "outputId": "98476fc8-72e6-4fae-ff54-7099fb156d18"
      },
      "execution_count": 51,
      "outputs": [
        {
          "output_type": "execute_result",
          "data": {
            "text/plain": [
              "                y                                               text lang  \\\n",
              "13           TECH  Twitch Bans Gambling Sites After Streamer Scam...   en   \n",
              "20  ENTERTAINMENT  Golden Globes Returning To NBC In January Afte...   en   \n",
              "21       POLITICS  Biden Says U.S. Forces Would Defend Taiwan If ...   en   \n",
              "24       POLITICS  ‘Beautiful And Sad At The Same Time’: Ukrainia...   en   \n",
              "28  ENTERTAINMENT  James Cameron Says He 'Clashed' With Studio Be...   en   \n",
              "\n",
              "                                           text_clean  word_count  char_count  \\\n",
              "13  twitch ban gambling site streamer scam folk 20...          11          59   \n",
              "20     golden globe returning nbc january year offair          10          51   \n",
              "21  biden say u force would defend taiwan china in...          10          50   \n",
              "24  beautiful sad time ukrainian cultural festival...          17          85   \n",
              "28    james cameron say clashed studio avatar release          10          58   \n",
              "\n",
              "    sentence_count  avg_word_length  avg_sentence_lenght  sentiment  ...  \\\n",
              "13               1         5.363636            11.000000     0.0000  ...   \n",
              "20               1         5.100000            10.000000     0.3000  ...   \n",
              "21               3         5.000000             3.333333     0.0000  ...   \n",
              "24               1         5.000000            17.000000     0.1125  ...   \n",
              "28               1         5.800000            10.000000     0.0000  ...   \n",
              "\n",
              "   tags_GPE  tags_PERCENT  tags_ORG  tags_FAC  tags_CARDINAL  tags_LOC  \\\n",
              "13        0             0         0         0              0         0   \n",
              "20        0             0         1         0              0         0   \n",
              "21        2             0         1         0              0         0   \n",
              "24        0             0         0         0              0         0   \n",
              "28        0             0         0         0              0         0   \n",
              "\n",
              "    tags_PRODUCT  tags_NORP  tags_LAW  tags_PERSON  \n",
              "13             0          0         0            0  \n",
              "20             0          0         0            0  \n",
              "21             0          0         0            1  \n",
              "24             0          1         0            0  \n",
              "28             0          0         0            1  \n",
              "\n",
              "[5 rows x 29 columns]"
            ],
            "text/html": [
              "\n",
              "  <div id=\"df-c2ffe366-3de4-41aa-8899-0c6e6224f18e\">\n",
              "    <div class=\"colab-df-container\">\n",
              "      <div>\n",
              "<style scoped>\n",
              "    .dataframe tbody tr th:only-of-type {\n",
              "        vertical-align: middle;\n",
              "    }\n",
              "\n",
              "    .dataframe tbody tr th {\n",
              "        vertical-align: top;\n",
              "    }\n",
              "\n",
              "    .dataframe thead th {\n",
              "        text-align: right;\n",
              "    }\n",
              "</style>\n",
              "<table border=\"1\" class=\"dataframe\">\n",
              "  <thead>\n",
              "    <tr style=\"text-align: right;\">\n",
              "      <th></th>\n",
              "      <th>y</th>\n",
              "      <th>text</th>\n",
              "      <th>lang</th>\n",
              "      <th>text_clean</th>\n",
              "      <th>word_count</th>\n",
              "      <th>char_count</th>\n",
              "      <th>sentence_count</th>\n",
              "      <th>avg_word_length</th>\n",
              "      <th>avg_sentence_lenght</th>\n",
              "      <th>sentiment</th>\n",
              "      <th>...</th>\n",
              "      <th>tags_GPE</th>\n",
              "      <th>tags_PERCENT</th>\n",
              "      <th>tags_ORG</th>\n",
              "      <th>tags_FAC</th>\n",
              "      <th>tags_CARDINAL</th>\n",
              "      <th>tags_LOC</th>\n",
              "      <th>tags_PRODUCT</th>\n",
              "      <th>tags_NORP</th>\n",
              "      <th>tags_LAW</th>\n",
              "      <th>tags_PERSON</th>\n",
              "    </tr>\n",
              "  </thead>\n",
              "  <tbody>\n",
              "    <tr>\n",
              "      <th>13</th>\n",
              "      <td>TECH</td>\n",
              "      <td>Twitch Bans Gambling Sites After Streamer Scam...</td>\n",
              "      <td>en</td>\n",
              "      <td>twitch ban gambling site streamer scam folk 20...</td>\n",
              "      <td>11</td>\n",
              "      <td>59</td>\n",
              "      <td>1</td>\n",
              "      <td>5.363636</td>\n",
              "      <td>11.000000</td>\n",
              "      <td>0.0000</td>\n",
              "      <td>...</td>\n",
              "      <td>0</td>\n",
              "      <td>0</td>\n",
              "      <td>0</td>\n",
              "      <td>0</td>\n",
              "      <td>0</td>\n",
              "      <td>0</td>\n",
              "      <td>0</td>\n",
              "      <td>0</td>\n",
              "      <td>0</td>\n",
              "      <td>0</td>\n",
              "    </tr>\n",
              "    <tr>\n",
              "      <th>20</th>\n",
              "      <td>ENTERTAINMENT</td>\n",
              "      <td>Golden Globes Returning To NBC In January Afte...</td>\n",
              "      <td>en</td>\n",
              "      <td>golden globe returning nbc january year offair</td>\n",
              "      <td>10</td>\n",
              "      <td>51</td>\n",
              "      <td>1</td>\n",
              "      <td>5.100000</td>\n",
              "      <td>10.000000</td>\n",
              "      <td>0.3000</td>\n",
              "      <td>...</td>\n",
              "      <td>0</td>\n",
              "      <td>0</td>\n",
              "      <td>1</td>\n",
              "      <td>0</td>\n",
              "      <td>0</td>\n",
              "      <td>0</td>\n",
              "      <td>0</td>\n",
              "      <td>0</td>\n",
              "      <td>0</td>\n",
              "      <td>0</td>\n",
              "    </tr>\n",
              "    <tr>\n",
              "      <th>21</th>\n",
              "      <td>POLITICS</td>\n",
              "      <td>Biden Says U.S. Forces Would Defend Taiwan If ...</td>\n",
              "      <td>en</td>\n",
              "      <td>biden say u force would defend taiwan china in...</td>\n",
              "      <td>10</td>\n",
              "      <td>50</td>\n",
              "      <td>3</td>\n",
              "      <td>5.000000</td>\n",
              "      <td>3.333333</td>\n",
              "      <td>0.0000</td>\n",
              "      <td>...</td>\n",
              "      <td>2</td>\n",
              "      <td>0</td>\n",
              "      <td>1</td>\n",
              "      <td>0</td>\n",
              "      <td>0</td>\n",
              "      <td>0</td>\n",
              "      <td>0</td>\n",
              "      <td>0</td>\n",
              "      <td>0</td>\n",
              "      <td>1</td>\n",
              "    </tr>\n",
              "    <tr>\n",
              "      <th>24</th>\n",
              "      <td>POLITICS</td>\n",
              "      <td>‘Beautiful And Sad At The Same Time’: Ukrainia...</td>\n",
              "      <td>en</td>\n",
              "      <td>beautiful sad time ukrainian cultural festival...</td>\n",
              "      <td>17</td>\n",
              "      <td>85</td>\n",
              "      <td>1</td>\n",
              "      <td>5.000000</td>\n",
              "      <td>17.000000</td>\n",
              "      <td>0.1125</td>\n",
              "      <td>...</td>\n",
              "      <td>0</td>\n",
              "      <td>0</td>\n",
              "      <td>0</td>\n",
              "      <td>0</td>\n",
              "      <td>0</td>\n",
              "      <td>0</td>\n",
              "      <td>0</td>\n",
              "      <td>1</td>\n",
              "      <td>0</td>\n",
              "      <td>0</td>\n",
              "    </tr>\n",
              "    <tr>\n",
              "      <th>28</th>\n",
              "      <td>ENTERTAINMENT</td>\n",
              "      <td>James Cameron Says He 'Clashed' With Studio Be...</td>\n",
              "      <td>en</td>\n",
              "      <td>james cameron say clashed studio avatar release</td>\n",
              "      <td>10</td>\n",
              "      <td>58</td>\n",
              "      <td>1</td>\n",
              "      <td>5.800000</td>\n",
              "      <td>10.000000</td>\n",
              "      <td>0.0000</td>\n",
              "      <td>...</td>\n",
              "      <td>0</td>\n",
              "      <td>0</td>\n",
              "      <td>0</td>\n",
              "      <td>0</td>\n",
              "      <td>0</td>\n",
              "      <td>0</td>\n",
              "      <td>0</td>\n",
              "      <td>0</td>\n",
              "      <td>0</td>\n",
              "      <td>1</td>\n",
              "    </tr>\n",
              "  </tbody>\n",
              "</table>\n",
              "<p>5 rows × 29 columns</p>\n",
              "</div>\n",
              "      <button class=\"colab-df-convert\" onclick=\"convertToInteractive('df-c2ffe366-3de4-41aa-8899-0c6e6224f18e')\"\n",
              "              title=\"Convert this dataframe to an interactive table.\"\n",
              "              style=\"display:none;\">\n",
              "        \n",
              "  <svg xmlns=\"http://www.w3.org/2000/svg\" height=\"24px\"viewBox=\"0 0 24 24\"\n",
              "       width=\"24px\">\n",
              "    <path d=\"M0 0h24v24H0V0z\" fill=\"none\"/>\n",
              "    <path d=\"M18.56 5.44l.94 2.06.94-2.06 2.06-.94-2.06-.94-.94-2.06-.94 2.06-2.06.94zm-11 1L8.5 8.5l.94-2.06 2.06-.94-2.06-.94L8.5 2.5l-.94 2.06-2.06.94zm10 10l.94 2.06.94-2.06 2.06-.94-2.06-.94-.94-2.06-.94 2.06-2.06.94z\"/><path d=\"M17.41 7.96l-1.37-1.37c-.4-.4-.92-.59-1.43-.59-.52 0-1.04.2-1.43.59L10.3 9.45l-7.72 7.72c-.78.78-.78 2.05 0 2.83L4 21.41c.39.39.9.59 1.41.59.51 0 1.02-.2 1.41-.59l7.78-7.78 2.81-2.81c.8-.78.8-2.07 0-2.86zM5.41 20L4 18.59l7.72-7.72 1.47 1.35L5.41 20z\"/>\n",
              "  </svg>\n",
              "      </button>\n",
              "      \n",
              "  <style>\n",
              "    .colab-df-container {\n",
              "      display:flex;\n",
              "      flex-wrap:wrap;\n",
              "      gap: 12px;\n",
              "    }\n",
              "\n",
              "    .colab-df-convert {\n",
              "      background-color: #E8F0FE;\n",
              "      border: none;\n",
              "      border-radius: 50%;\n",
              "      cursor: pointer;\n",
              "      display: none;\n",
              "      fill: #1967D2;\n",
              "      height: 32px;\n",
              "      padding: 0 0 0 0;\n",
              "      width: 32px;\n",
              "    }\n",
              "\n",
              "    .colab-df-convert:hover {\n",
              "      background-color: #E2EBFA;\n",
              "      box-shadow: 0px 1px 2px rgba(60, 64, 67, 0.3), 0px 1px 3px 1px rgba(60, 64, 67, 0.15);\n",
              "      fill: #174EA6;\n",
              "    }\n",
              "\n",
              "    [theme=dark] .colab-df-convert {\n",
              "      background-color: #3B4455;\n",
              "      fill: #D2E3FC;\n",
              "    }\n",
              "\n",
              "    [theme=dark] .colab-df-convert:hover {\n",
              "      background-color: #434B5C;\n",
              "      box-shadow: 0px 1px 3px 1px rgba(0, 0, 0, 0.15);\n",
              "      filter: drop-shadow(0px 1px 2px rgba(0, 0, 0, 0.3));\n",
              "      fill: #FFFFFF;\n",
              "    }\n",
              "  </style>\n",
              "\n",
              "      <script>\n",
              "        const buttonEl =\n",
              "          document.querySelector('#df-c2ffe366-3de4-41aa-8899-0c6e6224f18e button.colab-df-convert');\n",
              "        buttonEl.style.display =\n",
              "          google.colab.kernel.accessAllowed ? 'block' : 'none';\n",
              "\n",
              "        async function convertToInteractive(key) {\n",
              "          const element = document.querySelector('#df-c2ffe366-3de4-41aa-8899-0c6e6224f18e');\n",
              "          const dataTable =\n",
              "            await google.colab.kernel.invokeFunction('convertToInteractive',\n",
              "                                                     [key], {});\n",
              "          if (!dataTable) return;\n",
              "\n",
              "          const docLinkHtml = 'Like what you see? Visit the ' +\n",
              "            '<a target=\"_blank\" href=https://colab.research.google.com/notebooks/data_table.ipynb>data table notebook</a>'\n",
              "            + ' to learn more about interactive tables.';\n",
              "          element.innerHTML = '';\n",
              "          dataTable['output_type'] = 'display_data';\n",
              "          await google.colab.output.renderOutput(dataTable, element);\n",
              "          const docLink = document.createElement('div');\n",
              "          docLink.innerHTML = docLinkHtml;\n",
              "          element.appendChild(docLink);\n",
              "        }\n",
              "      </script>\n",
              "    </div>\n",
              "  </div>\n",
              "  "
            ]
          },
          "metadata": {},
          "execution_count": 51
        }
      ]
    },
    {
      "cell_type": "code",
      "source": [
        "y = \"ENTERTAINMENT\"\n",
        " \n",
        "tags_list = dtf[dtf[\"y\"]==y][\"tags\"].sum()\n",
        "map_lst = list(map(lambda x: list(x.keys())[0], tags_list))\n",
        "dtf_tags = pd.DataFrame(map_lst, columns=['tag','type'])\n",
        "dtf_tags[\"count\"] = 1\n",
        "dtf_tags = dtf_tags.groupby(['type',  'tag']).count().reset_index().sort_values(\"count\", \n",
        "                 ascending=False)\n",
        "fig, ax = plt.subplots()\n",
        "fig.suptitle(\"Top frequent tags\", fontsize=12)\n",
        "sns.barplot(x=\"count\", y=\"tag\", hue=\"type\", data=dtf_tags.iloc[:15,:], dodge=False, ax=ax)\n",
        "ax.grid(axis=\"x\")\n",
        "plt.show()"
      ],
      "metadata": {
        "colab": {
          "base_uri": "https://localhost:8080/",
          "height": 308
        },
        "id": "CQizo_Sl5q_n",
        "outputId": "1460000b-e277-4e00-d7f9-5981c80f0e69"
      },
      "execution_count": 63,
      "outputs": [
        {
          "output_type": "display_data",
          "data": {
            "text/plain": [
              "<Figure size 432x288 with 1 Axes>"
            ],
            "image/png": "[encoded data removed]"
          },
          "metadata": {
            "needs_background": "light"
          }
        }
      ]
    },
    {
      "cell_type": "code",
      "source": [
        "## predict wit NER\n",
        "txt = dtf[\"text\"].iloc[0]\n",
        "entities = ner(txt).ents\n",
        "## tag text\n",
        "tagged_txt = txt\n",
        "for tag in entities:\n",
        "    tagged_txt = re.sub(tag.text, \"_\".join(tag.text.split()), \n",
        "                        tagged_txt) \n",
        "## show result\n",
        "print(tagged_txt)"
      ],
      "metadata": {
        "colab": {
          "base_uri": "https://localhost:8080/"
        },
        "id": "5n3Trf4l5tTc",
        "outputId": "36086077-2f18-457b-f2f8-d8e9bc764dd3"
      },
      "execution_count": 55,
      "outputs": [
        {
          "output_type": "stream",
          "name": "stdout",
          "text": [
            "Twitch Bans Gambling Sites After Streamer Scams Folks Out Of $200,000\n"
          ]
        }
      ]
    },
    {
      "cell_type": "code",
      "source": [
        " nltk.download('punkt')\n",
        "y = \"POLITICS\"\n",
        "corpus = dtf[dtf[\"y\"]==y][\"text_clean\"]\n",
        "lst_tokens = nltk.tokenize.word_tokenize(corpus.str.cat(sep=\" \"))\n",
        "fig, ax = plt.subplots(nrows=1, ncols=2)\n",
        "fig.suptitle(\"Most frequent words\", fontsize=15)\n",
        "    \n",
        "## unigrams\n",
        "dic_words_freq = nltk.FreqDist(lst_tokens)\n",
        "dtf_uni = pd.DataFrame(dic_words_freq.most_common(), \n",
        "                       columns=[\"Word\",\"Freq\"])\n",
        "dtf_uni.set_index(\"Word\").iloc[:15,:].sort_values(by=\"Freq\").plot(\n",
        "                  kind=\"barh\", title=\"Unigrams\", ax=ax[0], \n",
        "                  legend=False).grid(axis='x')\n",
        "ax[0].set(ylabel=None)\n",
        "    \n",
        "## bigrams\n",
        "dic_words_freq = nltk.FreqDist(nltk.ngrams(lst_tokens, 2))\n",
        "dtf_bi = pd.DataFrame(dic_words_freq.most_common(), \n",
        "                      columns=[\"Word\",\"Freq\"])\n",
        "dtf_bi[\"Word\"] = dtf_bi[\"Word\"].apply(lambda x: \" \".join(\n",
        "                   string for string in x) )\n",
        "dtf_bi.set_index(\"Word\").iloc[:15,:].sort_values(by=\"Freq\").plot(\n",
        "                  kind=\"barh\", title=\"Bigrams\", ax=ax[1],\n",
        "                  legend=False).grid(axis='x')\n",
        "ax[1].set(ylabel=None)\n",
        "plt.show()"
      ],
      "metadata": {
        "colab": {
          "base_uri": "https://localhost:8080/",
          "height": 329
        },
        "id": "zrV3Y0SQ5wY6",
        "outputId": "2d72952d-61c2-4b84-9b5e-898daa6f3fd0"
      },
      "execution_count": 65,
      "outputs": [
        {
          "output_type": "stream",
          "name": "stderr",
          "text": [
            "[nltk_data] Downloading package punkt to /root/nltk_data...\n",
            "[nltk_data]   Package punkt is already up-to-date!\n"
          ]
        },
        {
          "output_type": "display_data",
          "data": {
            "text/plain": [
              "<Figure size 432x288 with 2 Axes>"
            ],
            "image/png": "[encoded data removed]"
          },
          "metadata": {
            "needs_background": "light"
          }
        }
      ]
    },
    {
      "cell_type": "code",
      "source": [
        "lst_words = [\"box office\", \"republican\", \"apple\"]\n",
        "## count\n",
        "lst_grams = [len(word.split(\" \")) for word in lst_words]\n",
        "vectorizer = feature_extraction.text.CountVectorizer(\n",
        "                 vocabulary=lst_words, \n",
        "                 ngram_range=(min(lst_grams),max(lst_grams)))\n",
        "dtf_X = pd.DataFrame(vectorizer.fit_transform(dtf[\"text_clean\"]).todense(), columns=lst_words)\n",
        "## add the new features as columns\n",
        "dtf = pd.concat([dtf, dtf_X.set_index(dtf.index)], axis=1)\n",
        "dtf.head()"
      ],
      "metadata": {
        "colab": {
          "base_uri": "https://localhost:8080/",
          "height": 820
        },
        "id": "dcSqsYSs5zxh",
        "outputId": "66c93666-d2a5-44af-eb7e-421283ed3176"
      },
      "execution_count": 58,
      "outputs": [
        {
          "output_type": "execute_result",
          "data": {
            "text/plain": [
              "                y                                               text lang  \\\n",
              "13           TECH  Twitch Bans Gambling Sites After Streamer Scam...   en   \n",
              "20  ENTERTAINMENT  Golden Globes Returning To NBC In January Afte...   en   \n",
              "21       POLITICS  Biden Says U.S. Forces Would Defend Taiwan If ...   en   \n",
              "24       POLITICS  ‘Beautiful And Sad At The Same Time’: Ukrainia...   en   \n",
              "28  ENTERTAINMENT  James Cameron Says He 'Clashed' With Studio Be...   en   \n",
              "\n",
              "                                           text_clean  word_count  char_count  \\\n",
              "13  twitch ban gambling site streamer scam folk 20...          11          59   \n",
              "20     golden globe returning nbc january year offair          10          51   \n",
              "21  biden say u force would defend taiwan china in...          10          50   \n",
              "24  beautiful sad time ukrainian cultural festival...          17          85   \n",
              "28    james cameron say clashed studio avatar release          10          58   \n",
              "\n",
              "    sentence_count  avg_word_length  avg_sentence_lenght  sentiment  ...  \\\n",
              "13               1         5.363636            11.000000     0.0000  ...   \n",
              "20               1         5.100000            10.000000     0.3000  ...   \n",
              "21               3         5.000000             3.333333     0.0000  ...   \n",
              "24               1         5.000000            17.000000     0.1125  ...   \n",
              "28               1         5.800000            10.000000     0.0000  ...   \n",
              "\n",
              "   tags_FAC  tags_CARDINAL  tags_LOC  tags_PRODUCT  tags_NORP  tags_LAW  \\\n",
              "13        0              0         0             0          0         0   \n",
              "20        0              0         0             0          0         0   \n",
              "21        0              0         0             0          0         0   \n",
              "24        0              0         0             0          1         0   \n",
              "28        0              0         0             0          0         0   \n",
              "\n",
              "    tags_PERSON  box office  republican  apple  \n",
              "13            0           0           0      0  \n",
              "20            0           0           0      0  \n",
              "21            1           0           0      0  \n",
              "24            0           0           0      0  \n",
              "28            1           0           0      0  \n",
              "\n",
              "[5 rows x 32 columns]"
            ],
            "text/html": [
              "\n",
              "  <div id=\"df-4be9860c-ceac-41da-b106-d1c1a74b81b0\">\n",
              "    <div class=\"colab-df-container\">\n",
              "      <div>\n",
              "<style scoped>\n",
              "    .dataframe tbody tr th:only-of-type {\n",
              "        vertical-align: middle;\n",
              "    }\n",
              "\n",
              "    .dataframe tbody tr th {\n",
              "        vertical-align: top;\n",
              "    }\n",
              "\n",
              "    .dataframe thead th {\n",
              "        text-align: right;\n",
              "    }\n",
              "</style>\n",
              "<table border=\"1\" class=\"dataframe\">\n",
              "  <thead>\n",
              "    <tr style=\"text-align: right;\">\n",
              "      <th></th>\n",
              "      <th>y</th>\n",
              "      <th>text</th>\n",
              "      <th>lang</th>\n",
              "      <th>text_clean</th>\n",
              "      <th>word_count</th>\n",
              "      <th>char_count</th>\n",
              "      <th>sentence_count</th>\n",
              "      <th>avg_word_length</th>\n",
              "      <th>avg_sentence_lenght</th>\n",
              "      <th>sentiment</th>\n",
              "      <th>...</th>\n",
              "      <th>tags_FAC</th>\n",
              "      <th>tags_CARDINAL</th>\n",
              "      <th>tags_LOC</th>\n",
              "      <th>tags_PRODUCT</th>\n",
              "      <th>tags_NORP</th>\n",
              "      <th>tags_LAW</th>\n",
              "      <th>tags_PERSON</th>\n",
              "      <th>box office</th>\n",
              "      <th>republican</th>\n",
              "      <th>apple</th>\n",
              "    </tr>\n",
              "  </thead>\n",
              "  <tbody>\n",
              "    <tr>\n",
              "      <th>13</th>\n",
              "      <td>TECH</td>\n",
              "      <td>Twitch Bans Gambling Sites After Streamer Scam...</td>\n",
              "      <td>en</td>\n",
              "      <td>twitch ban gambling site streamer scam folk 20...</td>\n",
              "      <td>11</td>\n",
              "      <td>59</td>\n",
              "      <td>1</td>\n",
              "      <td>5.363636</td>\n",
              "      <td>11.000000</td>\n",
              "      <td>0.0000</td>\n",
              "      <td>...</td>\n",
              "      <td>0</td>\n",
              "      <td>0</td>\n",
              "      <td>0</td>\n",
              "      <td>0</td>\n",
              "      <td>0</td>\n",
              "      <td>0</td>\n",
              "      <td>0</td>\n",
              "      <td>0</td>\n",
              "      <td>0</td>\n",
              "      <td>0</td>\n",
              "    </tr>\n",
              "    <tr>\n",
              "      <th>20</th>\n",
              "      <td>ENTERTAINMENT</td>\n",
              "      <td>Golden Globes Returning To NBC In January Afte...</td>\n",
              "      <td>en</td>\n",
              "      <td>golden globe returning nbc january year offair</td>\n",
              "      <td>10</td>\n",
              "      <td>51</td>\n",
              "      <td>1</td>\n",
              "      <td>5.100000</td>\n",
              "      <td>10.000000</td>\n",
              "      <td>0.3000</td>\n",
              "      <td>...</td>\n",
              "      <td>0</td>\n",
              "      <td>0</td>\n",
              "      <td>0</td>\n",
              "      <td>0</td>\n",
              "      <td>0</td>\n",
              "      <td>0</td>\n",
              "      <td>0</td>\n",
              "      <td>0</td>\n",
              "      <td>0</td>\n",
              "      <td>0</td>\n",
              "    </tr>\n",
              "    <tr>\n",
              "      <th>21</th>\n",
              "      <td>POLITICS</td>\n",
              "      <td>Biden Says U.S. Forces Would Defend Taiwan If ...</td>\n",
              "      <td>en</td>\n",
              "      <td>biden say u force would defend taiwan china in...</td>\n",
              "      <td>10</td>\n",
              "      <td>50</td>\n",
              "      <td>3</td>\n",
              "      <td>5.000000</td>\n",
              "      <td>3.333333</td>\n",
              "      <td>0.0000</td>\n",
              "      <td>...</td>\n",
              "      <td>0</td>\n",
              "      <td>0</td>\n",
              "      <td>0</td>\n",
              "      <td>0</td>\n",
              "      <td>0</td>\n",
              "      <td>0</td>\n",
              "      <td>1</td>\n",
              "      <td>0</td>\n",
              "      <td>0</td>\n",
              "      <td>0</td>\n",
              "    </tr>\n",
              "    <tr>\n",
              "      <th>24</th>\n",
              "      <td>POLITICS</td>\n",
              "      <td>‘Beautiful And Sad At The Same Time’: Ukrainia...</td>\n",
              "      <td>en</td>\n",
              "      <td>beautiful sad time ukrainian cultural festival...</td>\n",
              "      <td>17</td>\n",
              "      <td>85</td>\n",
              "      <td>1</td>\n",
              "      <td>5.000000</td>\n",
              "      <td>17.000000</td>\n",
              "      <td>0.1125</td>\n",
              "      <td>...</td>\n",
              "      <td>0</td>\n",
              "      <td>0</td>\n",
              "      <td>0</td>\n",
              "      <td>0</td>\n",
              "      <td>1</td>\n",
              "      <td>0</td>\n",
              "      <td>0</td>\n",
              "      <td>0</td>\n",
              "      <td>0</td>\n",
              "      <td>0</td>\n",
              "    </tr>\n",
              "    <tr>\n",
              "      <th>28</th>\n",
              "      <td>ENTERTAINMENT</td>\n",
              "      <td>James Cameron Says He 'Clashed' With Studio Be...</td>\n",
              "      <td>en</td>\n",
              "      <td>james cameron say clashed studio avatar release</td>\n",
              "      <td>10</td>\n",
              "      <td>58</td>\n",
              "      <td>1</td>\n",
              "      <td>5.800000</td>\n",
              "      <td>10.000000</td>\n",
              "      <td>0.0000</td>\n",
              "      <td>...</td>\n",
              "      <td>0</td>\n",
              "      <td>0</td>\n",
              "      <td>0</td>\n",
              "      <td>0</td>\n",
              "      <td>0</td>\n",
              "      <td>0</td>\n",
              "      <td>1</td>\n",
              "      <td>0</td>\n",
              "      <td>0</td>\n",
              "      <td>0</td>\n",
              "    </tr>\n",
              "  </tbody>\n",
              "</table>\n",
              "<p>5 rows × 32 columns</p>\n",
              "</div>\n",
              "      <button class=\"colab-df-convert\" onclick=\"convertToInteractive('df-4be9860c-ceac-41da-b106-d1c1a74b81b0')\"\n",
              "              title=\"Convert this dataframe to an interactive table.\"\n",
              "              style=\"display:none;\">\n",
              "        \n",
              "  <svg xmlns=\"http://www.w3.org/2000/svg\" height=\"24px\"viewBox=\"0 0 24 24\"\n",
              "       width=\"24px\">\n",
              "    <path d=\"M0 0h24v24H0V0z\" fill=\"none\"/>\n",
              "    <path d=\"M18.56 5.44l.94 2.06.94-2.06 2.06-.94-2.06-.94-.94-2.06-.94 2.06-2.06.94zm-11 1L8.5 8.5l.94-2.06 2.06-.94-2.06-.94L8.5 2.5l-.94 2.06-2.06.94zm10 10l.94 2.06.94-2.06 2.06-.94-2.06-.94-.94-2.06-.94 2.06-2.06.94z\"/><path d=\"M17.41 7.96l-1.37-1.37c-.4-.4-.92-.59-1.43-.59-.52 0-1.04.2-1.43.59L10.3 9.45l-7.72 7.72c-.78.78-.78 2.05 0 2.83L4 21.41c.39.39.9.59 1.41.59.51 0 1.02-.2 1.41-.59l7.78-7.78 2.81-2.81c.8-.78.8-2.07 0-2.86zM5.41 20L4 18.59l7.72-7.72 1.47 1.35L5.41 20z\"/>\n",
              "  </svg>\n",
              "      </button>\n",
              "      \n",
              "  <style>\n",
              "    .colab-df-container {\n",
              "      display:flex;\n",
              "      flex-wrap:wrap;\n",
              "      gap: 12px;\n",
              "    }\n",
              "\n",
              "    .colab-df-convert {\n",
              "      background-color: #E8F0FE;\n",
              "      border: none;\n",
              "      border-radius: 50%;\n",
              "      cursor: pointer;\n",
              "      display: none;\n",
              "      fill: #1967D2;\n",
              "      height: 32px;\n",
              "      padding: 0 0 0 0;\n",
              "      width: 32px;\n",
              "    }\n",
              "\n",
              "    .colab-df-convert:hover {\n",
              "      background-color: #E2EBFA;\n",
              "      box-shadow: 0px 1px 2px rgba(60, 64, 67, 0.3), 0px 1px 3px 1px rgba(60, 64, 67, 0.15);\n",
              "      fill: #174EA6;\n",
              "    }\n",
              "\n",
              "    [theme=dark] .colab-df-convert {\n",
              "      background-color: #3B4455;\n",
              "      fill: #D2E3FC;\n",
              "    }\n",
              "\n",
              "    [theme=dark] .colab-df-convert:hover {\n",
              "      background-color: #434B5C;\n",
              "      box-shadow: 0px 1px 3px 1px rgba(0, 0, 0, 0.15);\n",
              "      filter: drop-shadow(0px 1px 2px rgba(0, 0, 0, 0.3));\n",
              "      fill: #FFFFFF;\n",
              "    }\n",
              "  </style>\n",
              "\n",
              "      <script>\n",
              "        const buttonEl =\n",
              "          document.querySelector('#df-4be9860c-ceac-41da-b106-d1c1a74b81b0 button.colab-df-convert');\n",
              "        buttonEl.style.display =\n",
              "          google.colab.kernel.accessAllowed ? 'block' : 'none';\n",
              "\n",
              "        async function convertToInteractive(key) {\n",
              "          const element = document.querySelector('#df-4be9860c-ceac-41da-b106-d1c1a74b81b0');\n",
              "          const dataTable =\n",
              "            await google.colab.kernel.invokeFunction('convertToInteractive',\n",
              "                                                     [key], {});\n",
              "          if (!dataTable) return;\n",
              "\n",
              "          const docLinkHtml = 'Like what you see? Visit the ' +\n",
              "            '<a target=\"_blank\" href=https://colab.research.google.com/notebooks/data_table.ipynb>data table notebook</a>'\n",
              "            + ' to learn more about interactive tables.';\n",
              "          element.innerHTML = '';\n",
              "          dataTable['output_type'] = 'display_data';\n",
              "          await google.colab.output.renderOutput(dataTable, element);\n",
              "          const docLink = document.createElement('div');\n",
              "          docLink.innerHTML = docLinkHtml;\n",
              "          element.appendChild(docLink);\n",
              "        }\n",
              "      </script>\n",
              "    </div>\n",
              "  </div>\n",
              "  "
            ]
          },
          "metadata": {},
          "execution_count": 58
        }
      ]
    },
    {
      "cell_type": "code",
      "source": [
        "wc = wordcloud.WordCloud(background_color='black', max_words=100, \n",
        "                         max_font_size=35)\n",
        "wc = wc.generate(str(corpus))\n",
        "fig = plt.figure(num=1)\n",
        "plt.axis('off')\n",
        "plt.imshow(wc, cmap=None)\n",
        "plt.show()"
      ],
      "metadata": {
        "colab": {
          "base_uri": "https://localhost:8080/",
          "height": 198
        },
        "id": "yV8cNHjO52d3",
        "outputId": "7d88fa79-875d-4859-f497-4a3497475349"
      },
      "execution_count": 59,
      "outputs": [
        {
          "output_type": "display_data",
          "data": {
            "text/plain": [
              "<Figure size 432x288 with 1 Axes>"
            ],
            "image/png": "[encoded data removed]"
          },
          "metadata": {
            "needs_background": "light"
          }
        }
      ]
    },
    {
      "cell_type": "code",
      "source": [
        "nlp = gensim_api.load(\"glove-wiki-gigaword-300\")"
      ],
      "metadata": {
        "colab": {
          "base_uri": "https://localhost:8080/"
        },
        "id": "vFJo_lUB541R",
        "outputId": "2199a348-cbac-4ff2-9540-0a636ca324d5"
      },
      "execution_count": 60,
      "outputs": [
        {
          "output_type": "stream",
          "name": "stdout",
          "text": [
            "[==================================================] 100.0% 376.1/376.1MB downloaded\n"
          ]
        }
      ]
    },
    {
      "cell_type": "code",
      "source": [
        "word = \"love\"\n",
        "nlp[word]"
      ],
      "metadata": {
        "colab": {
          "base_uri": "https://localhost:8080/"
        },
        "id": "2hGm6GMS57i7",
        "outputId": "c0eb9597-9619-471e-c292-f7428a175f35"
      },
      "execution_count": 66,
      "outputs": [
        {
          "output_type": "execute_result",
          "data": {
            "text/plain": [
              "array([-4.5205e-01, -3.3122e-01, -6.3607e-02,  2.8325e-02, -2.1372e-01,\n",
              "        1.6839e-01, -1.7186e-02,  4.7309e-02, -5.2355e-02, -9.8706e-01,\n",
              "        5.3762e-01, -2.6893e-01, -5.4294e-01,  7.2487e-02,  6.6193e-02,\n",
              "       -2.1814e-01, -1.2113e-01, -2.8832e-01,  4.8161e-01,  6.9185e-01,\n",
              "       -2.0022e-01,  1.0082e+00, -1.1865e-01,  5.8710e-01,  1.8482e-01,\n",
              "        4.5799e-02, -1.7836e-02, -3.3952e-01,  2.9314e-01, -1.9951e-01,\n",
              "       -1.8930e-01,  4.3267e-01, -6.3181e-01, -2.9510e-01, -1.0547e+00,\n",
              "        1.8231e-01, -4.5040e-01, -2.7800e-01, -1.4021e-01,  3.6785e-02,\n",
              "        2.6487e-01, -6.6712e-01, -1.5204e-01, -3.5001e-01,  4.0864e-01,\n",
              "       -7.3615e-02,  6.7630e-01,  1.8274e-01, -4.1660e-02,  1.5014e-02,\n",
              "        2.5216e-01, -1.0109e-01,  3.1915e-02, -1.1298e-01, -4.0147e-01,\n",
              "        1.7274e-01,  1.8497e-03,  2.4456e-01,  6.8777e-01, -2.7019e-01,\n",
              "        8.0728e-01, -5.8296e-02,  4.0550e-01,  3.9893e-01, -9.1688e-02,\n",
              "       -5.2080e-01,  2.4570e-01,  6.3001e-02,  2.1421e-01,  3.3197e-01,\n",
              "       -3.4299e-01, -4.8735e-01,  2.2264e-02,  2.7862e-01,  2.3881e-01,\n",
              "        9.7794e-02,  3.8023e-01, -3.7744e-02, -4.1966e-01, -1.9145e-01,\n",
              "       -9.5830e-02,  2.6871e-01,  5.2876e-01, -2.6870e-01, -3.4450e-01,\n",
              "        2.5413e-01,  1.3606e-01,  3.6528e-01,  8.1960e-02, -5.2224e-01,\n",
              "        3.4159e-02,  1.7019e-01, -1.0520e-01, -8.0873e-01, -1.8095e-01,\n",
              "       -6.0823e-02,  2.6014e-01, -7.8717e-02, -1.5161e-01, -6.8438e-01,\n",
              "        2.1809e-01,  4.7330e-02, -1.2147e-01, -3.3892e-01, -1.8629e-02,\n",
              "        2.4546e-01,  2.7374e-01, -2.7045e-01, -8.7233e-02, -4.7871e-01,\n",
              "        1.9630e-01,  2.3124e-02,  1.9453e-01, -4.6860e-01,  4.4499e-01,\n",
              "        1.8360e-01, -1.6480e-01,  3.8598e-01,  3.6070e-01, -3.1108e-01,\n",
              "       -3.4627e-01,  1.9004e-01, -9.8683e-02,  3.3821e-01, -1.3978e-01,\n",
              "       -7.2723e-01, -1.0660e-01,  1.9208e-03, -3.3093e-01,  3.5117e-01,\n",
              "        1.5491e-01,  1.7150e-01,  2.8933e-01, -4.9213e-02, -5.0567e-01,\n",
              "       -2.3513e-01, -2.8005e-01, -2.8487e-01, -2.4393e-01, -4.0838e-02,\n",
              "       -2.7223e-01,  9.4564e-02,  1.7332e-01,  1.8691e-01, -1.3585e-01,\n",
              "       -4.6439e-01, -4.5677e-01,  9.7890e-02,  3.9113e-02,  1.7901e-01,\n",
              "       -4.5629e-01,  4.7520e-01, -2.0388e-01,  2.4123e-01,  6.7551e-01,\n",
              "        6.2105e-02, -1.8940e-01,  1.5054e-01,  1.5875e-01, -2.3365e-01,\n",
              "        3.7429e-01, -2.3463e-01,  4.0692e-01,  1.4035e-01, -4.2971e-01,\n",
              "        5.6713e-01, -2.6706e-01, -6.8028e-02, -5.1264e-01, -3.0945e-01,\n",
              "       -3.9065e-01, -2.7004e-01, -1.1802e+00,  6.6480e-01, -2.4366e-01,\n",
              "        3.9183e-01, -2.8970e-01, -1.8839e-01, -4.9282e-01,  1.4538e-01,\n",
              "        2.4467e-01, -4.4340e-03,  2.3265e-01,  7.4544e-02, -3.0006e-01,\n",
              "       -3.0272e-01, -1.2394e-01,  3.3473e-01,  3.3880e-01,  9.7445e-02,\n",
              "       -3.3773e-01, -5.4316e-01, -4.7514e-01, -1.5696e-01, -9.3516e-01,\n",
              "       -8.7034e-02, -2.6743e-01,  6.4641e-04,  3.1940e-01, -6.2562e-03,\n",
              "        1.5854e+00,  1.2484e-01,  4.8481e-01,  7.5394e-02,  1.8963e-01,\n",
              "       -1.0226e-01,  4.7413e-01,  7.0402e-01, -6.4418e-02, -1.0181e-02,\n",
              "       -6.8619e-01,  1.5335e-02,  4.7851e-02,  3.7650e-01,  1.0487e-01,\n",
              "        2.2974e-01,  4.5352e-01,  3.1482e-01,  5.8880e-02,  6.7096e-02,\n",
              "        1.5679e-01,  1.3099e-01,  3.4581e-02, -7.3896e-02, -3.6433e-01,\n",
              "       -1.8847e-01,  4.1556e-02, -2.0124e-01, -7.3918e-02,  3.8752e-01,\n",
              "        1.6759e-01, -4.0627e-01, -1.3220e-02, -7.1793e-01, -2.2904e-01,\n",
              "        2.0474e-01, -1.3648e-01,  3.7779e-01, -4.0003e-01, -5.0106e-02,\n",
              "       -3.7799e-01,  7.2109e-02,  2.3057e-02,  2.3879e-01, -2.2423e-01,\n",
              "       -8.4834e-02, -7.0726e-01, -1.6182e-01,  2.6373e-01,  1.2226e-01,\n",
              "        8.0282e-02,  7.5963e-02, -3.4695e-01,  3.7703e-01,  3.6612e-01,\n",
              "       -9.8416e-02,  4.7400e-01, -2.5085e-01,  1.8641e-01, -2.5993e-01,\n",
              "        3.9035e-02, -6.1394e-01,  1.4721e-01, -6.7619e-01, -1.2489e-01,\n",
              "        3.8031e-01, -2.8061e-01, -3.9680e-01,  2.4165e-02,  9.8706e-02,\n",
              "        2.4838e-01, -4.5881e-01,  2.0310e-01, -4.3515e-01, -7.7804e-03,\n",
              "       -2.4642e-02, -1.3204e+00, -4.1078e-01,  2.8145e-01,  2.8188e-02,\n",
              "       -2.0470e-01,  1.6037e-01, -1.6696e-01,  1.3761e-01, -3.6714e-01,\n",
              "        1.3801e-01, -2.0688e-01,  3.8274e-01,  2.1289e-01, -7.5001e-02,\n",
              "       -5.0367e-01, -2.9295e-02, -2.1254e-02, -2.4253e-01,  3.3530e-01,\n",
              "       -3.5534e-01,  2.5358e-01,  3.8906e-02,  2.4314e-01, -2.8696e-02],\n",
              "      dtype=float32)"
            ]
          },
          "metadata": {},
          "execution_count": 66
        }
      ]
    },
    {
      "cell_type": "code",
      "source": [
        "nlp[word].shape"
      ],
      "metadata": {
        "colab": {
          "base_uri": "https://localhost:8080/"
        },
        "id": "1RJz9oFr5-NF",
        "outputId": "9a702e5d-fd7e-4581-aa64-2a0cc792fbf1"
      },
      "execution_count": 67,
      "outputs": [
        {
          "output_type": "execute_result",
          "data": {
            "text/plain": [
              "(300,)"
            ]
          },
          "metadata": {},
          "execution_count": 67
        }
      ]
    },
    {
      "cell_type": "code",
      "source": [
        "## find closest vectors\n",
        "labels, X, x, y = [], [], [], []\n",
        "for t in nlp.most_similar(word, topn=20):\n",
        "    X.append(nlp[t[0]])\n",
        "    labels.append(t[0])\n",
        "## reduce dimensions\n",
        "pca = manifold.TSNE(perplexity=40, n_components=2, init='pca')\n",
        "new_values = pca.fit_transform(X)\n",
        "for value in new_values:\n",
        "    x.append(value[0])\n",
        "    y.append(value[1])\n",
        "## plot\n",
        "fig = plt.figure()\n",
        "for i in range(len(x)):\n",
        "    plt.scatter(x[i], y[i], c=\"black\")\n",
        "    plt.annotate(labels[i], xy=(x[i],y[i]), xytext=(5,2), \n",
        "               textcoords='offset points', ha='right', va='bottom')\n",
        "## add center\n",
        "plt.scatter(x=0, y=0, c=\"red\")\n",
        "plt.annotate(word, xy=(0,0), xytext=(5,2), textcoords='offset points', ha='right', va='bottom')"
      ],
      "metadata": {
        "colab": {
          "base_uri": "https://localhost:8080/",
          "height": 374
        },
        "id": "dwlJHQvL6AV3",
        "outputId": "3062de72-19cb-412a-aa40-3df7f24e6b17"
      },
      "execution_count": 69,
      "outputs": [
        {
          "output_type": "stream",
          "name": "stderr",
          "text": [
            "/usr/local/lib/python3.7/dist-packages/sklearn/manifold/_t_sne.py:793: FutureWarning: The default learning rate in TSNE will change from 200.0 to 'auto' in 1.2.\n",
            "  FutureWarning,\n",
            "/usr/local/lib/python3.7/dist-packages/sklearn/manifold/_t_sne.py:986: FutureWarning: The PCA initialization in TSNE will change to have the standard deviation of PC1 equal to 1e-4 in 1.2. This will ensure better convergence.\n",
            "  FutureWarning,\n"
          ]
        },
        {
          "output_type": "execute_result",
          "data": {
            "text/plain": [
              "Text(5, 2, 'love')"
            ]
          },
          "metadata": {},
          "execution_count": 69
        },
        {
          "output_type": "display_data",
          "data": {
            "text/plain": [
              "<Figure size 432x288 with 1 Axes>"
            ],
            "image/png": "[encoded data removed]"
          },
          "metadata": {
            "needs_background": "light"
          }
        }
      ]
    },
    {
      "cell_type": "code",
      "source": [
        "y = \"TECH\"\n",
        "corpus = dtf[dtf[\"y\"]==y][\"text_clean\"]\n",
        "\n",
        "## pre-process corpus\n",
        "lst_corpus = []\n",
        "for string in corpus:\n",
        "    lst_words = string.split()\n",
        "    lst_grams = [\" \".join(lst_words[i:i + 2]) for i in range(0, \n",
        "                     len(lst_words), 2)]\n",
        "    lst_corpus.append(lst_grams)\n",
        "## map words to an id\n",
        "id2word = gensim.corpora.Dictionary(lst_corpus)\n",
        "## create dictionary word:freq\n",
        "dic_corpus = [id2word.doc2bow(word) for word in lst_corpus] \n",
        "## train LDA\n",
        "lda_model = gensim.models.ldamodel.LdaModel(corpus=dic_corpus, id2word=id2word, num_topics=3, random_state=123, update_every=1, chunksize=100, passes=10, alpha='auto', per_word_topics=True)\n",
        "   \n",
        "## output\n",
        "lst_dics = []\n",
        "for i in range(0,3):\n",
        "    lst_tuples = lda_model.get_topic_terms(i)\n",
        "    for tupla in lst_tuples:\n",
        "        lst_dics.append({\"topic\":i, \"id\":tupla[0], \n",
        "                         \"word\":id2word[tupla[0]], \n",
        "                         \"weight\":tupla[1]})\n",
        "dtf_topics = pd.DataFrame(lst_dics, \n",
        "                         columns=['topic','id','word','weight'])\n",
        "    \n",
        "## plot\n",
        "fig, ax = plt.subplots()\n",
        "sns.barplot(y=\"word\", x=\"weight\", hue=\"topic\", data=dtf_topics, dodge=False, ax=ax).set_title('Main Topics')\n",
        "ax.set(ylabel=\"\", xlabel=\"Word Importance\")\n",
        "plt.show()"
      ],
      "metadata": {
        "colab": {
          "base_uri": "https://localhost:8080/",
          "height": 295
        },
        "id": "AayCCJpC6E-S",
        "outputId": "ab95818c-00cd-4660-9577-448f2f95b579"
      },
      "execution_count": 70,
      "outputs": [
        {
          "output_type": "display_data",
          "data": {
            "text/plain": [
              "<Figure size 432x288 with 1 Axes>"
            ],
            "image/png": "[encoded data removed]"
          },
          "metadata": {
            "needs_background": "light"
          }
        }
      ]
    },
    {
      "cell_type": "code",
      "source": [],
      "metadata": {
        "id": "9tibM8az6Izj"
      },
      "execution_count": null,
      "outputs": []
    }
  ],
  "metadata": {
    "colab": {
      "provenance": [],
      "collapsed_sections": [],
      "authorship_tag": "ABX9TyO/HPuXL7rQ02ksZn1VGKdo",
      "include_colab_link": true
    },
    "kernelspec": {
      "display_name": "Python 3",
      "name": "python3"
    },
    "language_info": {
      "name": "python"
    }
  },
  "nbformat": 4,
  "nbformat_minor": 0
}